{
 "cells": [
  {
   "cell_type": "code",
   "execution_count": 36,
   "metadata": {},
   "outputs": [],
   "source": [
    "import pandas as pd, os, datetime as dt"
   ]
  },
  {
   "cell_type": "code",
   "execution_count": 37,
   "metadata": {},
   "outputs": [],
   "source": [
    "# read available imgs\n",
    "img_files = os.listdir(\"../data/rsb-resized\")\n",
    "img_ts = [dt.datetime.strptime(img.split(\".\")[0], \"%Y-%m-%d_%H-%M-%S\") for img in img_files]\n",
    "img_files = pd.DataFrame({\"filename\": img_files, \"timestamp\": img_ts})\n",
    "img_files.sort_values(\"timestamp\", inplace=True)\n",
    "img_files.reset_index(drop=True, inplace=True)\n",
    "\n",
    "# read target\n",
    "pv_loc = \"../data/stg-werkhof-interpolated-new.csv\"\n",
    "pv = pd.read_csv(pv_loc, sep=\";\", parse_dates=[\"from\", \"to\"], encoding=\"utf-8\")\n",
    "\n",
    "# align pv and img data\n",
    "start = max(img_files.timestamp.min(), pv[\"to\"].min())\n",
    "end = min(img_files.timestamp.max(), pv[\"to\"].max())\n",
    "img_files = img_files[(img_files.timestamp >= start) & (img_files.timestamp <= end)]\n",
    "pv = pv[(pv[\"to\"] >= start) & (pv[\"to\"] <= end)]\n",
    "\n",
    "# add has_image column\n",
    "pv[\"has_image\"] = pv[\"to\"].apply(lambda x: x.to_pydatetime() in img_ts)"
   ]
  },
  {
   "cell_type": "code",
   "execution_count": 38,
   "metadata": {},
   "outputs": [
    {
     "data": {
      "text/html": [
       "<div>\n",
       "<style scoped>\n",
       "    .dataframe tbody tr th:only-of-type {\n",
       "        vertical-align: middle;\n",
       "    }\n",
       "\n",
       "    .dataframe tbody tr th {\n",
       "        vertical-align: top;\n",
       "    }\n",
       "\n",
       "    .dataframe thead th {\n",
       "        text-align: right;\n",
       "    }\n",
       "</style>\n",
       "<table border=\"1\" class=\"dataframe\">\n",
       "  <thead>\n",
       "    <tr style=\"text-align: right;\">\n",
       "      <th></th>\n",
       "      <th>from</th>\n",
       "      <th>to</th>\n",
       "      <th>energy-produced-Wh</th>\n",
       "      <th>has_image</th>\n",
       "    </tr>\n",
       "  </thead>\n",
       "  <tbody>\n",
       "    <tr>\n",
       "      <th>58649</th>\n",
       "      <td>2024-02-12 07:50:00</td>\n",
       "      <td>2024-02-12 08:00:00</td>\n",
       "      <td>0.000000</td>\n",
       "      <td>True</td>\n",
       "    </tr>\n",
       "    <tr>\n",
       "      <th>58650</th>\n",
       "      <td>2024-02-12 08:00:00</td>\n",
       "      <td>2024-02-12 08:10:00</td>\n",
       "      <td>9.388000</td>\n",
       "      <td>True</td>\n",
       "    </tr>\n",
       "    <tr>\n",
       "      <th>58651</th>\n",
       "      <td>2024-02-12 08:10:00</td>\n",
       "      <td>2024-02-12 08:20:00</td>\n",
       "      <td>32.777333</td>\n",
       "      <td>True</td>\n",
       "    </tr>\n",
       "    <tr>\n",
       "      <th>58652</th>\n",
       "      <td>2024-02-12 08:20:00</td>\n",
       "      <td>2024-02-12 08:30:00</td>\n",
       "      <td>56.166667</td>\n",
       "      <td>True</td>\n",
       "    </tr>\n",
       "    <tr>\n",
       "      <th>58653</th>\n",
       "      <td>2024-02-12 08:30:00</td>\n",
       "      <td>2024-02-12 08:40:00</td>\n",
       "      <td>111.754667</td>\n",
       "      <td>True</td>\n",
       "    </tr>\n",
       "  </tbody>\n",
       "</table>\n",
       "</div>"
      ],
      "text/plain": [
       "                     from                  to  energy-produced-Wh  has_image\n",
       "58649 2024-02-12 07:50:00 2024-02-12 08:00:00            0.000000       True\n",
       "58650 2024-02-12 08:00:00 2024-02-12 08:10:00            9.388000       True\n",
       "58651 2024-02-12 08:10:00 2024-02-12 08:20:00           32.777333       True\n",
       "58652 2024-02-12 08:20:00 2024-02-12 08:30:00           56.166667       True\n",
       "58653 2024-02-12 08:30:00 2024-02-12 08:40:00          111.754667       True"
      ]
     },
     "execution_count": 38,
     "metadata": {},
     "output_type": "execute_result"
    }
   ],
   "source": [
    "pv.head()"
   ]
  },
  {
   "cell_type": "code",
   "execution_count": 39,
   "metadata": {},
   "outputs": [],
   "source": [
    "pv['date'] = pv['from'].dt.date\n",
    "\n",
    "# Identify the first record with has_image == True for each day\n",
    "pv['is_first_with_image_that_day'] = pv.groupby(pv['from'].dt.date)['has_image'].transform(lambda x: x & (x.cumsum() == 1))"
   ]
  },
  {
   "cell_type": "code",
   "execution_count": 40,
   "metadata": {},
   "outputs": [],
   "source": [
    "pv['is_last_with_image_that_day'] = pv.groupby(pv['from'].dt.date)['has_image'].transform(lambda x: x & (x[::-1].cumsum() == 1))"
   ]
  },
  {
   "cell_type": "code",
   "execution_count": null,
   "metadata": {},
   "outputs": [],
   "source": [
    "for i, row in pv.iterrows():\n",
    "    if row[\"is_first_with_image_that_day\"]:\n",
    "        atday = True\n",
    "\n",
    "    if atday:\n",
    "        pv.at[i, \"atday\"] = True\n",
    "    else:\n",
    "        pv.at[i, \"atday\"] = False\n",
    "\n",
    "    if row[\"is_last_with_image_that_day\"]:\n",
    "        atday = False"
   ]
  },
  {
   "cell_type": "code",
   "execution_count": 50,
   "metadata": {},
   "outputs": [
    {
     "data": {
      "text/plain": [
       "True"
      ]
     },
     "execution_count": 50,
     "metadata": {},
     "output_type": "execute_result"
    }
   ],
   "source": [
    "((pv[\"atday\"] == True) | (pv[\"atday\"] == False)).all()"
   ]
  },
  {
   "cell_type": "code",
   "execution_count": 51,
   "metadata": {},
   "outputs": [
    {
     "data": {
      "text/plain": [
       "True"
      ]
     },
     "execution_count": 51,
     "metadata": {},
     "output_type": "execute_result"
    }
   ],
   "source": [
    "(pv[\"atday\"] != None).all()"
   ]
  },
  {
   "cell_type": "code",
   "execution_count": 52,
   "metadata": {},
   "outputs": [
    {
     "data": {
      "text/plain": [
       "(11803, 8)"
      ]
     },
     "execution_count": 52,
     "metadata": {},
     "output_type": "execute_result"
    }
   ],
   "source": [
    "pv[~pv['atday'] & ~pv['has_image']].shape"
   ]
  },
  {
   "cell_type": "code",
   "execution_count": 53,
   "metadata": {},
   "outputs": [
    {
     "data": {
      "text/plain": [
       "(162, 8)"
      ]
     },
     "execution_count": 53,
     "metadata": {},
     "output_type": "execute_result"
    }
   ],
   "source": [
    "pv[pv['atday'] & pv['has_image']].shape"
   ]
  },
  {
   "cell_type": "code",
   "execution_count": 54,
   "metadata": {},
   "outputs": [
    {
     "data": {
      "text/plain": [
       "(12606, 8)"
      ]
     },
     "execution_count": 54,
     "metadata": {},
     "output_type": "execute_result"
    }
   ],
   "source": [
    "pv[~pv['atday'] & pv['has_image']].shape"
   ]
  },
  {
   "cell_type": "code",
   "execution_count": 55,
   "metadata": {},
   "outputs": [
    {
     "data": {
      "text/plain": [
       "(0, 8)"
      ]
     },
     "execution_count": 55,
     "metadata": {},
     "output_type": "execute_result"
    }
   ],
   "source": [
    "pv[pv['atday'] & ~pv['has_image']].shape"
   ]
  },
  {
   "cell_type": "code",
   "execution_count": 56,
   "metadata": {},
   "outputs": [
    {
     "data": {
      "text/html": [
       "<div>\n",
       "<style scoped>\n",
       "    .dataframe tbody tr th:only-of-type {\n",
       "        vertical-align: middle;\n",
       "    }\n",
       "\n",
       "    .dataframe tbody tr th {\n",
       "        vertical-align: top;\n",
       "    }\n",
       "\n",
       "    .dataframe thead th {\n",
       "        text-align: right;\n",
       "    }\n",
       "</style>\n",
       "<table border=\"1\" class=\"dataframe\">\n",
       "  <thead>\n",
       "    <tr style=\"text-align: right;\">\n",
       "      <th></th>\n",
       "      <th>from</th>\n",
       "      <th>to</th>\n",
       "      <th>energy-produced-Wh</th>\n",
       "      <th>has_image</th>\n",
       "      <th>date</th>\n",
       "      <th>is_first_with_image_that_day</th>\n",
       "      <th>is_last_with_image_that_day</th>\n",
       "      <th>atday</th>\n",
       "    </tr>\n",
       "  </thead>\n",
       "  <tbody>\n",
       "  </tbody>\n",
       "</table>\n",
       "</div>"
      ],
      "text/plain": [
       "Empty DataFrame\n",
       "Columns: [from, to, energy-produced-Wh, has_image, date, is_first_with_image_that_day, is_last_with_image_that_day, atday]\n",
       "Index: []"
      ]
     },
     "execution_count": 56,
     "metadata": {},
     "output_type": "execute_result"
    }
   ],
   "source": [
    "pv[pv['atday'] & ~pv['has_image']]"
   ]
  }
 ],
 "metadata": {
  "kernelspec": {
   "display_name": "mthesis_env",
   "language": "python",
   "name": "python3"
  },
  "language_info": {
   "codemirror_mode": {
    "name": "ipython",
    "version": 3
   },
   "file_extension": ".py",
   "mimetype": "text/x-python",
   "name": "python",
   "nbconvert_exporter": "python",
   "pygments_lexer": "ipython3",
   "version": "3.10.12"
  }
 },
 "nbformat": 4,
 "nbformat_minor": 2
}
