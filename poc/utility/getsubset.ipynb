{
 "cells": [
  {
   "cell_type": "code",
   "execution_count": 9,
   "metadata": {},
   "outputs": [],
   "source": [
    "import pandas as pd\n",
    "import datetime as dt"
   ]
  },
  {
   "cell_type": "code",
   "execution_count": 10,
   "metadata": {},
   "outputs": [],
   "source": [
    "stromprod = pd.read_csv('../../data/strom-stg-ab-2023.csv', sep=';', encoding='utf-8', low_memory=False, parse_dates=['DateTime (Local Time)'])"
   ]
  },
  {
   "cell_type": "code",
   "execution_count": 11,
   "metadata": {},
   "outputs": [],
   "source": [
    "stg_werkhof = stromprod[(stromprod[\"Name\"] == \"Werkhof St.Galler Stadtwerke\") & (stromprod[\"Name des Smart-Me Zählers\"] == \"PV Steinachstrasse 49\")].copy()"
   ]
  },
  {
   "cell_type": "code",
   "execution_count": 12,
   "metadata": {},
   "outputs": [],
   "source": [
    "stg_werkhof.drop(stg_werkhof[stg_werkhof[\"Additional Energy Export\"] > 10_000_000].index, inplace=True) # remove outliers"
   ]
  },
  {
   "cell_type": "code",
   "execution_count": 13,
   "metadata": {},
   "outputs": [],
   "source": [
    "stg_werkhof['datetime'] = stg_werkhof[\"DateTime (Local Time)\"].apply(lambda x: dt.datetime(x.year,x.month,x.day,x.hour,x.minute))"
   ]
  },
  {
   "cell_type": "code",
   "execution_count": 14,
   "metadata": {},
   "outputs": [],
   "source": [
    "stg_werkhof = stg_werkhof[[\"datetime\", \"Additional Energy Export\"]]\n",
    "stg_werkhof.columns = [\"to\", \"energy-produced-Wh\"]"
   ]
  },
  {
   "cell_type": "code",
   "execution_count": 16,
   "metadata": {},
   "outputs": [],
   "source": [
    "stg_werkhof.sort_values(\"to\", inplace=True)\n",
    "stg_werkhof.reset_index(inplace=True, drop=True)"
   ]
  },
  {
   "cell_type": "code",
   "execution_count": 17,
   "metadata": {},
   "outputs": [],
   "source": [
    "stg_werkhof[\"from\"] = stg_werkhof[\"to\"].shift(1)\n",
    "stg_werkhof.loc[0, \"from\"] = stg_werkhof.loc[0, \"to\"] - dt.timedelta(minutes=15)"
   ]
  },
  {
   "cell_type": "code",
   "execution_count": 18,
   "metadata": {},
   "outputs": [],
   "source": [
    "stg_werkhof.to_csv('../data/stg-werkhof.csv', index=False)"
   ]
  }
 ],
 "metadata": {
  "kernelspec": {
   "display_name": "mthesis_env",
   "language": "python",
   "name": "python3"
  },
  "language_info": {
   "codemirror_mode": {
    "name": "ipython",
    "version": 3
   },
   "file_extension": ".py",
   "mimetype": "text/x-python",
   "name": "python",
   "nbconvert_exporter": "python",
   "pygments_lexer": "ipython3",
   "version": "3.10.12"
  }
 },
 "nbformat": 4,
 "nbformat_minor": 2
}
