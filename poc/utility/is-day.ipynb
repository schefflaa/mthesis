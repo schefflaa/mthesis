{
 "cells": [
  {
   "cell_type": "code",
   "execution_count": 46,
   "metadata": {},
   "outputs": [],
   "source": [
    "import pandas as pd, datetime as dt, os"
   ]
  },
  {
   "cell_type": "code",
   "execution_count": 47,
   "metadata": {},
   "outputs": [],
   "source": [
    "# sonnenauf-/untergangszeiten\n",
    "srss = pd.read_csv('../../data/stg-sunrise-sunset.csv', sep=',')"
   ]
  },
  {
   "cell_type": "code",
   "execution_count": 48,
   "metadata": {},
   "outputs": [
    {
     "data": {
      "text/plain": [
       "31"
      ]
     },
     "execution_count": 48,
     "metadata": {},
     "output_type": "execute_result"
    }
   ],
   "source": [
    "srss.iloc[30,0]"
   ]
  },
  {
   "cell_type": "code",
   "execution_count": 49,
   "metadata": {},
   "outputs": [],
   "source": [
    "img_files = os.listdir('../data/rsb-resized')\n",
    "img_ts = [dt.datetime.strptime(img.split(\".\")[0], \"%Y-%m-%d_%H-%M-%S\") for img in img_files]\n",
    "img_files = pd.DataFrame({\"filename\": img_files, \"timestamp\": img_ts})\n",
    "img_files.sort_values(\"timestamp\", inplace=True)\n",
    "img_files.reset_index(drop=True, inplace=True)"
   ]
  },
  {
   "cell_type": "code",
   "execution_count": 50,
   "metadata": {},
   "outputs": [],
   "source": [
    "pv_loc = '../data/stg-werkhof-interpolated-new.csv'\n",
    "pv = pd.read_csv(pv_loc, sep=\";\", parse_dates=[\"from\", \"to\"], encoding=\"utf-8\")"
   ]
  },
  {
   "cell_type": "code",
   "execution_count": 51,
   "metadata": {},
   "outputs": [],
   "source": [
    "pv[\"has_image\"] = pv[\"to\"].apply(lambda x: x.to_pydatetime() in img_ts)"
   ]
  },
  {
   "cell_type": "code",
   "execution_count": null,
   "metadata": {},
   "outputs": [],
   "source": [
    "for i, row in pv.iterrows():\n",
    "    day = row[\"from\"].to_pydatetime().date().day\t\n",
    "    month = row[\"from\"].to_pydatetime().date().month\n",
    "    time = row[\"from\"].to_pydatetime().time()\n",
    "\n",
    "    up = dt.datetime.strptime(srss.iloc[day-1, month*2-1], \"%H:%M\").time()\n",
    "    down = dt.datetime.strptime(srss.iloc[day-1, month*2], \"%H:%M\").time()\n",
    "\n",
    "    assert srss.columns[month*2-1] == f\"{month}_up\"\n",
    "    assert srss.columns[month*2] == f\"{month}_down\"\n",
    "\n",
    "    pv.at[i, \"is_day\"] = up <= time <= down"
   ]
  }
 ],
 "metadata": {
  "kernelspec": {
   "display_name": "mthesis_env",
   "language": "python",
   "name": "python3"
  },
  "language_info": {
   "codemirror_mode": {
    "name": "ipython",
    "version": 3
   },
   "file_extension": ".py",
   "mimetype": "text/x-python",
   "name": "python",
   "nbconvert_exporter": "python",
   "pygments_lexer": "ipython3",
   "version": "3.10.12"
  }
 },
 "nbformat": 4,
 "nbformat_minor": 2
}
