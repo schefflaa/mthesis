{
 "cells": [
  {
   "cell_type": "code",
   "execution_count": 2,
   "metadata": {},
   "outputs": [],
   "source": [
    "import geopy.distance\n",
    "import pandas as pd"
   ]
  },
  {
   "cell_type": "code",
   "execution_count": 4,
   "metadata": {},
   "outputs": [],
   "source": [
    "df = pd.read_csv('../../data/webcams-2024-10-14-v2.csv', sep=';', encoding='utf-8')"
   ]
  },
  {
   "cell_type": "code",
   "execution_count": 5,
   "metadata": {},
   "outputs": [],
   "source": [
    "stgallen = (47.4204468325040, 9.35327480052516)"
   ]
  },
  {
   "cell_type": "code",
   "execution_count": 7,
   "metadata": {},
   "outputs": [],
   "source": [
    "df[\"distance\"] = df.apply(lambda row: geopy.distance.distance(stgallen, (row[\"lat\"], row[\"lon\"])).km, axis=1)"
   ]
  },
  {
   "cell_type": "code",
   "execution_count": null,
   "metadata": {},
   "outputs": [
    {
     "data": {
      "application/vnd.microsoft.datawrangler.viewer.v0+json": {
       "columns": [
        {
         "name": "index",
         "rawType": "int64",
         "type": "integer"
        },
        {
         "name": "apx_distance_km",
         "rawType": "float64",
         "type": "float"
        },
        {
         "name": "distance",
         "rawType": "float64",
         "type": "float"
        },
        {
         "name": "short",
         "rawType": "object",
         "type": "string"
        }
       ],
       "conversionMethod": "pd.DataFrame",
       "ref": "becbc1f0-8d88-48fb-b8bc-6b80b6c0f9ca",
       "rows": [
        [
         "0",
         "16.44",
         "16.404685852494122",
         "romanshorn"
        ],
        [
         "1",
         "13.14",
         "13.142601632713765",
         "rorschacherberg"
        ],
        [
         "2",
         "16.58",
         "16.58091658064338",
         "altenrhein"
        ],
        [
         "3",
         "15.82",
         "15.824245424047474",
         "schoenenbuehl"
        ],
        [
         "4",
         "13.87",
         "13.872763002682007",
         "heiden"
        ],
        [
         "5",
         "15.88",
         "15.885774172170837",
         "elbenalp"
        ],
        [
         "6",
         "15.83",
         "15.833385117515817",
         "gartenalp"
        ],
        [
         "7",
         "14.44",
         "14.44977370836475",
         "kronberg"
        ],
        [
         "8",
         "18.68",
         "18.686543448265777",
         "santis-schwaegalp"
        ],
        [
         "9",
         "19.05",
         "19.05189771969089",
         "saentis-gipfel"
        ],
        [
         "10",
         "23.07",
         "23.079294985573576",
         "gondelbahn"
        ],
        [
         "11",
         "26.12",
         "26.12142901679902",
         "wolzenalp"
        ],
        [
         "12",
         "38.59",
         "38.599529341046924",
         "linth-air"
        ],
        [
         "13",
         "43.31",
         "43.31077493489975",
         "glarnerland"
        ],
        [
         "14",
         "40.55",
         "40.55065269090971",
         "leist"
        ],
        [
         "15",
         "39.05",
         "39.0555040441222",
         "prodkamm"
        ],
        [
         "16",
         "29.67",
         "29.67046682331245",
         "chaeserrugg"
        ],
        [
         "17",
         "25.38",
         "25.38901917306064",
         "oberdorf"
        ],
        [
         "18",
         "27.46",
         "27.460408372373116",
         "gamsalp"
        ],
        [
         "19",
         "26.33",
         "26.332220352256126",
         "iltios"
        ],
        [
         "20",
         "26.78",
         "26.78894405512621",
         "alp-sellamatt"
        ],
        [
         "21",
         "27.36",
         "27.367315022771354",
         "zinggen"
        ],
        [
         "22",
         "45.71",
         "45.718147148447954",
         "rapperswil"
        ],
        [
         "23",
         "43.02",
         "43.02092842543751",
         "zuericher-oberland"
        ],
        [
         "24",
         "61.51",
         "61.51775520367507",
         "zuerich-west"
        ],
        [
         "25",
         "61.5",
         "61.50348621935827",
         "storchen-hotel"
        ],
        [
         "26",
         "65.61",
         "65.61399866434179",
         "uetliberg"
        ],
        [
         "27",
         "36.97",
         "36.97859791929027",
         "elgg"
        ],
        [
         "28",
         "40.46",
         "40.46554348981926",
         "maiengarten"
        ],
        [
         "29",
         "47.66",
         "47.66668754187802",
         "winterthur"
        ],
        [
         "30",
         "48.1",
         "48.10794087328141",
         "roter-turm"
        ],
        [
         "31",
         "37.46",
         "37.46938828726013",
         "frauenfeld"
        ],
        [
         "32",
         "31.12",
         "31.121916146179228",
         "lustdorf"
        ],
        [
         "33",
         "23.8",
         "23.804756434617328",
         "wiler-turm"
        ],
        [
         "34",
         "31.41",
         "31.410578600221125",
         "napoleonturm"
        ],
        [
         "35",
         "16.26",
         "16.26448315600931",
         "golfclub-erlen"
        ],
        [
         "36",
         "12.08",
         "12.084245939985982",
         "sitterdorf"
        ],
        [
         "37",
         "3.26",
         "3.2672254663297147",
         "scheitlinsbuchel"
        ]
       ],
       "shape": {
        "columns": 3,
        "rows": 38
       }
      },
      "text/html": [
       "<div>\n",
       "<style scoped>\n",
       "    .dataframe tbody tr th:only-of-type {\n",
       "        vertical-align: middle;\n",
       "    }\n",
       "\n",
       "    .dataframe tbody tr th {\n",
       "        vertical-align: top;\n",
       "    }\n",
       "\n",
       "    .dataframe thead th {\n",
       "        text-align: right;\n",
       "    }\n",
       "</style>\n",
       "<table border=\"1\" class=\"dataframe\">\n",
       "  <thead>\n",
       "    <tr style=\"text-align: right;\">\n",
       "      <th></th>\n",
       "      <th>apx_distance_km</th>\n",
       "      <th>distance</th>\n",
       "      <th>short</th>\n",
       "    </tr>\n",
       "  </thead>\n",
       "  <tbody>\n",
       "    <tr>\n",
       "      <th>0</th>\n",
       "      <td>16.44</td>\n",
       "      <td>16.404686</td>\n",
       "      <td>romanshorn</td>\n",
       "    </tr>\n",
       "    <tr>\n",
       "      <th>1</th>\n",
       "      <td>13.14</td>\n",
       "      <td>13.142602</td>\n",
       "      <td>rorschacherberg</td>\n",
       "    </tr>\n",
       "    <tr>\n",
       "      <th>2</th>\n",
       "      <td>16.58</td>\n",
       "      <td>16.580917</td>\n",
       "      <td>altenrhein</td>\n",
       "    </tr>\n",
       "    <tr>\n",
       "      <th>3</th>\n",
       "      <td>15.82</td>\n",
       "      <td>15.824245</td>\n",
       "      <td>schoenenbuehl</td>\n",
       "    </tr>\n",
       "    <tr>\n",
       "      <th>4</th>\n",
       "      <td>13.87</td>\n",
       "      <td>13.872763</td>\n",
       "      <td>heiden</td>\n",
       "    </tr>\n",
       "    <tr>\n",
       "      <th>5</th>\n",
       "      <td>15.88</td>\n",
       "      <td>15.885774</td>\n",
       "      <td>elbenalp</td>\n",
       "    </tr>\n",
       "    <tr>\n",
       "      <th>6</th>\n",
       "      <td>15.83</td>\n",
       "      <td>15.833385</td>\n",
       "      <td>gartenalp</td>\n",
       "    </tr>\n",
       "    <tr>\n",
       "      <th>7</th>\n",
       "      <td>14.44</td>\n",
       "      <td>14.449774</td>\n",
       "      <td>kronberg</td>\n",
       "    </tr>\n",
       "    <tr>\n",
       "      <th>8</th>\n",
       "      <td>18.68</td>\n",
       "      <td>18.686543</td>\n",
       "      <td>santis-schwaegalp</td>\n",
       "    </tr>\n",
       "    <tr>\n",
       "      <th>9</th>\n",
       "      <td>19.05</td>\n",
       "      <td>19.051898</td>\n",
       "      <td>saentis-gipfel</td>\n",
       "    </tr>\n",
       "    <tr>\n",
       "      <th>10</th>\n",
       "      <td>23.07</td>\n",
       "      <td>23.079295</td>\n",
       "      <td>gondelbahn</td>\n",
       "    </tr>\n",
       "    <tr>\n",
       "      <th>11</th>\n",
       "      <td>26.12</td>\n",
       "      <td>26.121429</td>\n",
       "      <td>wolzenalp</td>\n",
       "    </tr>\n",
       "    <tr>\n",
       "      <th>12</th>\n",
       "      <td>38.59</td>\n",
       "      <td>38.599529</td>\n",
       "      <td>linth-air</td>\n",
       "    </tr>\n",
       "    <tr>\n",
       "      <th>13</th>\n",
       "      <td>43.31</td>\n",
       "      <td>43.310775</td>\n",
       "      <td>glarnerland</td>\n",
       "    </tr>\n",
       "    <tr>\n",
       "      <th>14</th>\n",
       "      <td>40.55</td>\n",
       "      <td>40.550653</td>\n",
       "      <td>leist</td>\n",
       "    </tr>\n",
       "    <tr>\n",
       "      <th>15</th>\n",
       "      <td>39.05</td>\n",
       "      <td>39.055504</td>\n",
       "      <td>prodkamm</td>\n",
       "    </tr>\n",
       "    <tr>\n",
       "      <th>16</th>\n",
       "      <td>29.67</td>\n",
       "      <td>29.670467</td>\n",
       "      <td>chaeserrugg</td>\n",
       "    </tr>\n",
       "    <tr>\n",
       "      <th>17</th>\n",
       "      <td>25.38</td>\n",
       "      <td>25.389019</td>\n",
       "      <td>oberdorf</td>\n",
       "    </tr>\n",
       "    <tr>\n",
       "      <th>18</th>\n",
       "      <td>27.46</td>\n",
       "      <td>27.460408</td>\n",
       "      <td>gamsalp</td>\n",
       "    </tr>\n",
       "    <tr>\n",
       "      <th>19</th>\n",
       "      <td>26.33</td>\n",
       "      <td>26.332220</td>\n",
       "      <td>iltios</td>\n",
       "    </tr>\n",
       "    <tr>\n",
       "      <th>20</th>\n",
       "      <td>26.78</td>\n",
       "      <td>26.788944</td>\n",
       "      <td>alp-sellamatt</td>\n",
       "    </tr>\n",
       "    <tr>\n",
       "      <th>21</th>\n",
       "      <td>27.36</td>\n",
       "      <td>27.367315</td>\n",
       "      <td>zinggen</td>\n",
       "    </tr>\n",
       "    <tr>\n",
       "      <th>22</th>\n",
       "      <td>45.71</td>\n",
       "      <td>45.718147</td>\n",
       "      <td>rapperswil</td>\n",
       "    </tr>\n",
       "    <tr>\n",
       "      <th>23</th>\n",
       "      <td>43.02</td>\n",
       "      <td>43.020928</td>\n",
       "      <td>zuericher-oberland</td>\n",
       "    </tr>\n",
       "    <tr>\n",
       "      <th>24</th>\n",
       "      <td>61.51</td>\n",
       "      <td>61.517755</td>\n",
       "      <td>zuerich-west</td>\n",
       "    </tr>\n",
       "    <tr>\n",
       "      <th>25</th>\n",
       "      <td>61.50</td>\n",
       "      <td>61.503486</td>\n",
       "      <td>storchen-hotel</td>\n",
       "    </tr>\n",
       "    <tr>\n",
       "      <th>26</th>\n",
       "      <td>65.61</td>\n",
       "      <td>65.613999</td>\n",
       "      <td>uetliberg</td>\n",
       "    </tr>\n",
       "    <tr>\n",
       "      <th>27</th>\n",
       "      <td>36.97</td>\n",
       "      <td>36.978598</td>\n",
       "      <td>elgg</td>\n",
       "    </tr>\n",
       "    <tr>\n",
       "      <th>28</th>\n",
       "      <td>40.46</td>\n",
       "      <td>40.465543</td>\n",
       "      <td>maiengarten</td>\n",
       "    </tr>\n",
       "    <tr>\n",
       "      <th>29</th>\n",
       "      <td>47.66</td>\n",
       "      <td>47.666688</td>\n",
       "      <td>winterthur</td>\n",
       "    </tr>\n",
       "    <tr>\n",
       "      <th>30</th>\n",
       "      <td>48.10</td>\n",
       "      <td>48.107941</td>\n",
       "      <td>roter-turm</td>\n",
       "    </tr>\n",
       "    <tr>\n",
       "      <th>31</th>\n",
       "      <td>37.46</td>\n",
       "      <td>37.469388</td>\n",
       "      <td>frauenfeld</td>\n",
       "    </tr>\n",
       "    <tr>\n",
       "      <th>32</th>\n",
       "      <td>31.12</td>\n",
       "      <td>31.121916</td>\n",
       "      <td>lustdorf</td>\n",
       "    </tr>\n",
       "    <tr>\n",
       "      <th>33</th>\n",
       "      <td>23.80</td>\n",
       "      <td>23.804756</td>\n",
       "      <td>wiler-turm</td>\n",
       "    </tr>\n",
       "    <tr>\n",
       "      <th>34</th>\n",
       "      <td>31.41</td>\n",
       "      <td>31.410579</td>\n",
       "      <td>napoleonturm</td>\n",
       "    </tr>\n",
       "    <tr>\n",
       "      <th>35</th>\n",
       "      <td>16.26</td>\n",
       "      <td>16.264483</td>\n",
       "      <td>golfclub-erlen</td>\n",
       "    </tr>\n",
       "    <tr>\n",
       "      <th>36</th>\n",
       "      <td>12.08</td>\n",
       "      <td>12.084246</td>\n",
       "      <td>sitterdorf</td>\n",
       "    </tr>\n",
       "    <tr>\n",
       "      <th>37</th>\n",
       "      <td>3.26</td>\n",
       "      <td>3.267225</td>\n",
       "      <td>scheitlinsbuchel</td>\n",
       "    </tr>\n",
       "  </tbody>\n",
       "</table>\n",
       "</div>"
      ],
      "text/plain": [
       "    apx_distance_km   distance               short\n",
       "0             16.44  16.404686          romanshorn\n",
       "1             13.14  13.142602     rorschacherberg\n",
       "2             16.58  16.580917          altenrhein\n",
       "3             15.82  15.824245       schoenenbuehl\n",
       "4             13.87  13.872763              heiden\n",
       "5             15.88  15.885774            elbenalp\n",
       "6             15.83  15.833385           gartenalp\n",
       "7             14.44  14.449774            kronberg\n",
       "8             18.68  18.686543   santis-schwaegalp\n",
       "9             19.05  19.051898      saentis-gipfel\n",
       "10            23.07  23.079295          gondelbahn\n",
       "11            26.12  26.121429           wolzenalp\n",
       "12            38.59  38.599529           linth-air\n",
       "13            43.31  43.310775         glarnerland\n",
       "14            40.55  40.550653               leist\n",
       "15            39.05  39.055504            prodkamm\n",
       "16            29.67  29.670467         chaeserrugg\n",
       "17            25.38  25.389019            oberdorf\n",
       "18            27.46  27.460408             gamsalp\n",
       "19            26.33  26.332220              iltios\n",
       "20            26.78  26.788944       alp-sellamatt\n",
       "21            27.36  27.367315             zinggen\n",
       "22            45.71  45.718147          rapperswil\n",
       "23            43.02  43.020928  zuericher-oberland\n",
       "24            61.51  61.517755        zuerich-west\n",
       "25            61.50  61.503486      storchen-hotel\n",
       "26            65.61  65.613999           uetliberg\n",
       "27            36.97  36.978598                elgg\n",
       "28            40.46  40.465543         maiengarten\n",
       "29            47.66  47.666688          winterthur\n",
       "30            48.10  48.107941          roter-turm\n",
       "31            37.46  37.469388          frauenfeld\n",
       "32            31.12  31.121916            lustdorf\n",
       "33            23.80  23.804756          wiler-turm\n",
       "34            31.41  31.410579        napoleonturm\n",
       "35            16.26  16.264483      golfclub-erlen\n",
       "36            12.08  12.084246          sitterdorf\n",
       "37             3.26   3.267225    scheitlinsbuchel"
      ]
     },
     "execution_count": 10,
     "metadata": {},
     "output_type": "execute_result"
    }
   ],
   "source": [
    "df[[\"distance\", \"short\"]]"
   ]
  },
  {
   "cell_type": "code",
   "execution_count": null,
   "metadata": {},
   "outputs": [],
   "source": [
    "# df.to_csv('../../data/webcams-2024-10-14-v2.csv', sep=';', encoding='utf-8')"
   ]
  }
 ],
 "metadata": {
  "kernelspec": {
   "display_name": "mthesis_env",
   "language": "python",
   "name": "python3"
  },
  "language_info": {
   "codemirror_mode": {
    "name": "ipython",
    "version": 3
   },
   "file_extension": ".py",
   "mimetype": "text/x-python",
   "name": "python",
   "nbconvert_exporter": "python",
   "pygments_lexer": "ipython3",
   "version": "3.12.3"
  }
 },
 "nbformat": 4,
 "nbformat_minor": 2
}
