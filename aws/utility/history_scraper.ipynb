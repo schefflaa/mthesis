{
 "cells": [
  {
   "cell_type": "code",
   "execution_count": 1,
   "metadata": {},
   "outputs": [],
   "source": [
    "import json, boto3, time, pytz, random, os\n",
    "import pandas as pd\n",
    "import datetime as dt\n",
    "from io import StringIO\n",
    "from tqdm import tqdm\n",
    "\n",
    "\n",
    "BUCKET = \"masc12-roundshot-img-storage\"\n",
    "WEBCAM_CSV = \"webcams-2024-10-14-v2.csv\"\n",
    "OUTLIER_CSV = \"image-size-outliers.csv\"\n",
    "\n",
    "# logtable = boto3.resource('dynamodb').Table(LOG_TABLE_NAME)\n",
    "# lambda_client = boto3.client('lambda')\n",
    "# s3_client = boto3.client('s3')\n",
    "\n",
    "session = boto3.Session(profile_name='exxeta-admin', region_name='eu-north-1')\n",
    "lambda_client = session.client('lambda')\n",
    "s3_client = session.client('s3')\n",
    "\n",
    "def invokeChildLambda(cam_id:str, cam_name:str, urldate:str, urltime:str, min_filesize:float) -> None:\n",
    "    inputParams = {\n",
    "      'cam_id': cam_id,\n",
    "      'cam_name': cam_name,\n",
    "      'urldate': urldate,\n",
    "      'urltime': urltime,\n",
    "      'min_filesize': min_filesize,\n",
    "      'wait_seconds': random.uniform(0, 60)\n",
    "    } \n",
    " \n",
    "    lambda_client.invoke(\n",
    "        FunctionName = 'arn:aws:lambda:eu-north-1:454075690551:function:roundshot-img-fetcher',\n",
    "        InvocationType = 'Event',\n",
    "        Payload = json.dumps(inputParams)\n",
    "    )\n",
    "\n",
    "def get_csv_from_s3(bucket:str, csv:str) -> pd.DataFrame:\n",
    "    csv_object = s3_client.get_object(Bucket=bucket, Key=csv)\n",
    "    csv_content = csv_object['Body'].read().decode('utf-8')\n",
    "    webcams_df = pd.read_csv(StringIO(csv_content), sep=';', encoding='utf-8')\n",
    "    return webcams_df"
   ]
  },
  {
   "cell_type": "code",
   "execution_count": 2,
   "metadata": {},
   "outputs": [],
   "source": [
    "def get_date_range_from(start, end):\n",
    "    try:\n",
    "        start = pytz.timezone('Europe/Zurich').localize(start)\n",
    "    except ValueError:\n",
    "        pass\n",
    "\n",
    "    try:\n",
    "        end = pytz.timezone('Europe/Zurich').localize(end)\n",
    "    except ValueError:\n",
    "        pass\n",
    "    \n",
    "    daterange = []\n",
    "    while start <= end:\n",
    "        if dt.time(4, 0) <= start.time() < dt.time(23, 0):\n",
    "            daterange.append(start)\n",
    "        start += dt.timedelta(minutes=10)\n",
    "    return daterange"
   ]
  },
  {
   "cell_type": "code",
   "execution_count": 3,
   "metadata": {},
   "outputs": [],
   "source": [
    "def get_files_from_s3():\n",
    "    bucket = session.resource('s3').Bucket(\"masc12-roundshot-img-storage\")\n",
    "    files = [obj.key for obj in bucket.objects.all() if obj.key.endswith('.jpg')]\n",
    "    return files"
   ]
  },
  {
   "cell_type": "markdown",
   "metadata": {},
   "source": [
    "### getting some lost images (27.02.)"
   ]
  },
  {
   "cell_type": "code",
   "execution_count": null,
   "metadata": {},
   "outputs": [
    {
     "name": "stderr",
     "output_type": "stream",
     "text": [
      "100%|██████████| 276/276 [00:00<00:00, 2006287.53it/s]\n"
     ]
    }
   ],
   "source": [
    "localfolder = \"/home/masc12/dev/masc12-mthesis/data/_copy/erlen-kronb-additional/\"\n",
    "imgs = os.listdir(localfolder)\n",
    "imgs.sort()\n",
    "len(imgs)"
   ]
  },
  {
   "cell_type": "code",
   "execution_count": 5,
   "metadata": {},
   "outputs": [
    {
     "name": "stderr",
     "output_type": "stream",
     "text": [
      "100%|██████████| 276/276 [04:58<00:00,  1.08s/it]\n"
     ]
    }
   ],
   "source": [
    "%%script false --no-raise-error\n",
    "for i in tqdm(imgs):\n",
    "    ts = dt.datetime.strptime(i, '%Y-%m-%d_%H-%M-%S.jpg')\n",
    "    date = dt.datetime.strftime(ts, '%Y-%m-%d')\n",
    "    zeit = dt.datetime.strftime(ts, '%H-%M-%S')\n",
    "    invokeChildLambda(\"661fcd91e010d0.44975711\", \"golfclub-erlen\", date, zeit, 81_621.0)\n",
    "    time.sleep(1)"
   ]
  },
  {
   "cell_type": "markdown",
   "metadata": {},
   "source": [
    "### continue here"
   ]
  },
  {
   "cell_type": "code",
   "execution_count": null,
   "metadata": {},
   "outputs": [],
   "source": [
    "# invokeChildLambda(\"608fc16698a1e7.09133428\", \"kronberg\", \"2024-08-05\", \"12-00-00\", 20_524.0)\n",
    "# invokeChildLambda(\"661fcd91e010d0.44975711\", \"golfclub-erlen\", \"2024-08-27\", \"12-00-00\", 81_621.0)"
   ]
  },
  {
   "cell_type": "code",
   "execution_count": null,
   "metadata": {},
   "outputs": [],
   "source": [
    "# --- DONE ---\n",
    "# rorschacherberg \n",
    "# kronberg 31.7. 16 50\n",
    "# wiler turm 24.8.\n",
    "# golfclub-erlen 26.8. 17 uhr\n",
    "# romanshorn 28.8.\n",
    "# altenrhein 29.8. \n",
    "# elbenalp 29.8.\n",
    "\n",
    "# wolzenalp?    # zu weit weg (24km)\n",
    "# sitterdorf?   # keine historie\n",
    "# schwaegalp?   # kronberg näher\n",
    "# schoenenbühl? # subsumed by romanshorn + altenrheim"
   ]
  },
  {
   "cell_type": "code",
   "execution_count": null,
   "metadata": {},
   "outputs": [],
   "source": [
    "# %%script false --no-raise-error\n",
    "start = dt.datetime(2024, 9, 13, 7, 20) # start here\n",
    "end = dt.datetime(2024, 9, 19, 14, 0)\n",
    "history = get_date_range_from(start, end)\n",
    "\n",
    "new = \"\"\n",
    "for day in tqdm(history):\n",
    "    urldate = f\"{day:%Y-%m-%d}\"\n",
    "    urltime = f\"{day:%H-%M-%S}\"\n",
    "\n",
    "    if urldate != new:\n",
    "        new = urldate\n",
    "        # print(f\"----------- Day: {urldate} ----------- \")\n",
    "\n",
    "    time.sleep(3)\n",
    "    # print(f\"Starting scrapers: {urltime}\")\n",
    "\n",
    "    tz = pytz.timezone('Europe/Zurich')\n",
    "\n",
    "    if day >= tz.localize(dt.datetime(2024, 7, 30, 6, 0)):\n",
    "        invokeChildLambda(\"608fc16698a1e7.09133428\", \"kronberg\", urldate, urltime, 20_524.0)\n",
    "\n",
    "    # if day >= tz.localize(dt.datetime(2024, 8, 24, 5, 0)):\n",
    "    #     invokeChildLambda(\"545b7dcf9cedf1.10734711\", \"wiler-turm\", urldate, urltime, 66_127.25)\n",
    "\n",
    "    if day >= tz.localize(dt.datetime(2024, 8, 26, 17, 10)):\n",
    "        invokeChildLambda(\"661fcd91e010d0.44975711\", \"golfclub-erlen\", urldate, urltime, 81_621.0)\n",
    "\n",
    "    # if day >= tz.localize(dt.datetime(2024, 8, 28, 5, 0)):\n",
    "    #     invokeChildLambda(\"62863f9fcbb216.97456372\", \"romanshorn\", urldate, urltime, 32_205.5)\n",
    "\n",
    "    # if day >= tz.localize(dt.datetime(2024, 8, 29, 5, 0)):\n",
    "    #     invokeChildLambda(\"5c8b6fec9dad68.39944594\", \"altenrhein\", urldate, urltime, 61_358.0)\n",
    "    #     invokeChildLambda(\"5a7c518a176f53.54105137\", \"elbenalp\", urldate, urltime, 18_066.0)\n"
   ]
  },
  {
   "cell_type": "markdown",
   "metadata": {},
   "source": [
    "# sanity check above"
   ]
  },
  {
   "cell_type": "code",
   "execution_count": null,
   "metadata": {},
   "outputs": [],
   "source": [
    "files = get_files_from_s3()"
   ]
  },
  {
   "cell_type": "code",
   "execution_count": null,
   "metadata": {},
   "outputs": [],
   "source": [
    "start = dt.datetime(2024, 2, 23, 4, 0) # start here\n",
    "end = dt.datetime(2024, 9, 20, 22, 50)\n",
    "history = get_date_range_from(start, end)\n",
    "\n",
    "# for rorschacherberg\n",
    "dayends = {\n",
    "    2: dt.time(18, 0),\n",
    "    3: dt.time(19, 30),\n",
    "    4: dt.time(20, 30),\n",
    "    5: dt.time(21, 0),\n",
    "    6: dt.time(21, 20),\n",
    "    7: dt.time(21, 20),\n",
    "    8: dt.time(21, 0),\n",
    "    9: dt.time(20, 0),\n",
    "}\n",
    "\n",
    "daystarts ={\n",
    "    2: dt.time(8, 0),\n",
    "    3: dt.time(7, 0),\n",
    "    4: dt.time(6, 30),\n",
    "    5: dt.time(6, 20),\n",
    "    6: dt.time(6, 20),\n",
    "    7: dt.time(6, 10),\n",
    "    8: dt.time(6, 30),\n",
    "    9: dt.time(7, 30),\n",
    "}\n",
    "todays_date = \"\"\n",
    "missing = []\n",
    "tz = pytz.timezone('Europe/Zurich')\n",
    "\n",
    "with tqdm(total=len(history)) as pbar:\n",
    "    for day in history:\n",
    "        pbar.update(1)\n",
    "        nonemissing = True\n",
    "        if day.time() < daystarts[day.month] or day.time() > dayends[day.month]:\n",
    "            continue\n",
    "\n",
    "        if tz.localize(dt.datetime(2024, 4, 5, 10, 30)) <= day <= tz.localize(dt.datetime(2024, 4, 15, 17, 50)):\n",
    "            continue\n",
    "\n",
    "        get = f\"{day:%Y-%m-%d_%H-%M-%S}.jpg\"\n",
    "        urldate = f\"{day:%Y-%m-%d}\"\n",
    "        urltime = f\"{day:%H-%M-%S}\"\n",
    "        \n",
    "        if urldate != todays_date:\n",
    "            todays_date = urldate\n",
    "            # print(f\"---------------------- Day: {todays_date} ---------------------- \")\n",
    "\n",
    "        target = f\"rorschacherberg/{get}\"\n",
    "\n",
    "        if target not in files:\n",
    "            nonemissing = False\n",
    "            missing.append(target)\n",
    "            # print(f\"{urltime} - rorschacherberg missing\")\n",
    "            # invokeChildLambda(\"53a838bc15a356.87772279\", \"rorschacherberg\", urldate, urltime, 677_847.0)\n",
    "\n",
    "            if day >= tz.localize(dt.datetime(2024, 8, 9, 5, 0)):\n",
    "                target = f\"kronberg/{get}\"\n",
    "                if target not in files:\n",
    "                    nonemissing = False\n",
    "                    missing.append(target)\n",
    "                    # invokeChildLambda(\"608fc16698a1e7.09133428\", \"kronberg\", urldate, urltime, 12_524.0)\n",
    "                    # print(f\"{urltime} - kronberg missing\")\n",
    "                    \n",
    "            if day >= tz.localize(dt.datetime(2024, 9, 3, 5, 0)):\n",
    "                target = f\"wiler-turm/{get}\"\n",
    "                if target not in files:\n",
    "                    nonemissing = False\n",
    "                    missing.append(target)\n",
    "                    # invokeChildLambda(\"545b7dcf9cedf1.10734711\", \"wiler-turm\", urldate, urltime, 40_127.25)\n",
    "                    # print(f\"{urltime} - wiler-turm missing\")\n",
    "\n",
    "            if day >= tz.localize(dt.datetime(2024, 6, 13, 5, 0)):\n",
    "                target = f\"golfclub-erlen/{get}\"\n",
    "                if target not in files:\n",
    "                    nonemissing = False\n",
    "                    missing.append(target)\n",
    "                    # invokeChildLambda(\"661fcd91e010d0.44975711\", \"golfclub-erlen\", urldate, urltime, 80_621.0)\n",
    "                    # print(f\"{urltime} - golfclub-erlen missing\")\n",
    "\n",
    "            if day >= tz.localize(dt.datetime(2024, 9, 8, 5, 0)):\n",
    "                target = f\"romanshorn/{get}\"\n",
    "                if target not in files:\n",
    "                    nonemissing = False\n",
    "                    missing.append(target)\n",
    "                    # invokeChildLambda(\"62863f9fcbb216.97456372\", \"romanshorn\", urldate, urltime, 832_205.5)\n",
    "                    # print(f\"{urltime} - romanshorn missing\")\n",
    "\n",
    "            if day >= tz.localize(dt.datetime(2024, 9, 9, 5, 0)):\n",
    "                target = f\"altenrhein/{get}\"\n",
    "                if target not in files:\n",
    "                    nonemissing = False\n",
    "                    missing.append(target)\n",
    "                    # invokeChildLambda(\"5c8b6fec9dad68.39944594\", \"altenrhein\", urldate, urltime, 761_358.0)\n",
    "                    # print(f\"{urltime} - altenrhein missing\")\n",
    "\n",
    "                target = f\"elbenalp/{get}\"\n",
    "                if target not in files:\n",
    "                    nonemissing = False\n",
    "                    missing.append(target)\n",
    "                    # invokeChildLambda(\"5a7c518a176f53.54105137\", \"elbenalp\", urldate, urltime, 618_066.0)\n",
    "                    # print(f\"{urltime} - elbenalp missing\")\n",
    "\n",
    "\n",
    "        # if len(missing) > 50:\n",
    "        #     break\n",
    "\n",
    "        # if not nonemissing: # if all images are present, skip to next day without waiting\n",
    "        #     time.sleep(10)\n",
    "\n",
    "print(\"Missing:\", len(missing))"
   ]
  },
  {
   "cell_type": "code",
   "execution_count": null,
   "metadata": {},
   "outputs": [],
   "source": [
    "with open(\"missings.txt\", \"w\") as f:\n",
    "    f.write(\"\\n\".join(missing))"
   ]
  }
 ],
 "metadata": {
  "kernelspec": {
   "display_name": "mthesis_env",
   "language": "python",
   "name": "python3"
  },
  "language_info": {
   "codemirror_mode": {
    "name": "ipython",
    "version": 3
   },
   "file_extension": ".py",
   "mimetype": "text/x-python",
   "name": "python",
   "nbconvert_exporter": "python",
   "pygments_lexer": "ipython3",
   "version": "3.12.3"
  }
 },
 "nbformat": 4,
 "nbformat_minor": 2
}
