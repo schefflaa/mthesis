{
 "cells": [
  {
   "cell_type": "code",
   "execution_count": 1,
   "metadata": {},
   "outputs": [],
   "source": [
    "import boto3, os\n",
    "session = boto3.Session(profile_name='exxeta-admin')\n",
    "s3 = session.resource('s3')\n",
    "bucket = s3.Bucket('masc12-roundshot-img-storage')"
   ]
  },
  {
   "cell_type": "code",
   "execution_count": 6,
   "metadata": {},
   "outputs": [],
   "source": [
    "def move(sourcefile, targetfile):\n",
    "    copy_source = {\n",
    "        'Bucket': 'masc12-roundshot-img-storage',\n",
    "        'Key': sourcefile\n",
    "    }\n",
    "\n",
    "    bucket.copy(copy_source, targetfile)   \n",
    "    s3.Object('masc12-roundshot-img-storage', sourcefile).delete()"
   ]
  },
  {
   "cell_type": "code",
   "execution_count": 15,
   "metadata": {},
   "outputs": [
    {
     "data": {
      "text/plain": [
       "276"
      ]
     },
     "execution_count": 15,
     "metadata": {},
     "output_type": "execute_result"
    }
   ],
   "source": [
    "localfolder = \"/home/masc12/dev/masc12-mthesis/data/_copy/erlen-kronb-additional/\"\n",
    "imgs = os.listdir(localfolder)\n",
    "imgs.sort()\n",
    "len(imgs)"
   ]
  },
  {
   "cell_type": "code",
   "execution_count": null,
   "metadata": {},
   "outputs": [],
   "source": []
  },
  {
   "cell_type": "code",
   "execution_count": 14,
   "metadata": {},
   "outputs": [],
   "source": [
    "%%script false --no-raise-error\n",
    "for i in imgs:\n",
    "    if i == \"2024-07-27_21-00-00.jpg\" or i == \"2024-08-01_20-50-00.jpg\":\n",
    "        continue  \n",
    "    \n",
    "    s = f\"golfclub-erlen/{i}\"\n",
    "    t = f\"_copy/kronberg_temp2/{i}\"\n",
    "    # move(s, t)"
   ]
  }
 ],
 "metadata": {
  "kernelspec": {
   "display_name": "mthesis_env",
   "language": "python",
   "name": "python3"
  },
  "language_info": {
   "codemirror_mode": {
    "name": "ipython",
    "version": 3
   },
   "file_extension": ".py",
   "mimetype": "text/x-python",
   "name": "python",
   "nbconvert_exporter": "python",
   "pygments_lexer": "ipython3",
   "version": "3.12.3"
  }
 },
 "nbformat": 4,
 "nbformat_minor": 2
}
