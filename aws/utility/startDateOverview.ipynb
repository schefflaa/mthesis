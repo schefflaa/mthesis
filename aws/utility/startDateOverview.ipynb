{
 "cells": [
  {
   "cell_type": "code",
   "execution_count": 1,
   "metadata": {},
   "outputs": [],
   "source": [
    "import os, boto3\n",
    "import pandas as pd\n",
    "import numpy as np\n",
    "import seaborn as sns\n",
    "import matplotlib.pyplot as plt\n",
    "import datetime as dt\n",
    "import scienceplots"
   ]
  },
  {
   "cell_type": "code",
   "execution_count": 2,
   "metadata": {},
   "outputs": [],
   "source": [
    "bucketname = \"masc12-roundshot-img-storage\"\n",
    "session = boto3.Session(profile_name='exxeta-admin')\n",
    "s3 = session.resource('s3')\n",
    "bucket = s3.Bucket(bucketname)"
   ]
  },
  {
   "cell_type": "code",
   "execution_count": 3,
   "metadata": {},
   "outputs": [],
   "source": [
    "# list all folders\n",
    "folders = [\"altenrhein\", \"elbenalp\", \"golfclub-erlen\", \"kronberg\", \"romanshorn\", \"rorschacherberg\", \"sitterdorf\", \"wiler-turm\"]"
   ]
  },
  {
   "cell_type": "code",
   "execution_count": 4,
   "metadata": {},
   "outputs": [],
   "source": [
    "starts = {}\n",
    "for fol in folders:\n",
    "    allfiles = bucket.objects.filter(Prefix=fol).all()\n",
    "    allfiles = [f.key.split(fol + \"/\")[1] for f in bucket.objects.filter(Prefix=fol).all()]\n",
    "    amount = len(allfiles)\n",
    "    timestamps = []\n",
    "    for f in allfiles:\n",
    "        try:\n",
    "            timestamp_str = f.split(\".jpg\")[0]\n",
    "            timestamp = dt.datetime.strptime(timestamp_str, \"%Y-%m-%d_%H-%M-%S\")\n",
    "            timestamps.append(timestamp)\n",
    "        except ValueError:\n",
    "            pass\n",
    "\n",
    "    starts[fol] = [min(timestamps), amount]"
   ]
  },
  {
   "cell_type": "code",
   "execution_count": 5,
   "metadata": {},
   "outputs": [
    {
     "name": "stdout",
     "output_type": "stream",
     "text": [
      "Location \t\tStart date \t\t  # of images\t\t 4M Forecast\n",
      "rorschacherberg \t12. February 2024         #20327 \t\t #27767\n",
      "golfclub-erlen  \t13. June 2024             #13270 \t\t #20710\n",
      "kronberg        \t30. July 2024             #10845 \t\t #18285\n",
      "wiler-turm      \t24. August 2024           #9103 \t\t #16543\n",
      "romanshorn      \t28. August 2024           #8893 \t\t #16333\n",
      "elbenalp        \t29. August 2024           #8086 \t\t #15526\n",
      "altenrhein      \t29. August 2024           #8715 \t\t #16155\n",
      "sitterdorf      \t19. September 2024        #7456 \t\t #14896\n"
     ]
    }
   ],
   "source": [
    "print(f\"Location \\t\\tStart date \\t\\t  # of images\\t\\t 4M Forecast\")\n",
    "sort = sorted(starts.items(), key=lambda x: x[1][0])\n",
    "for s in sort:\n",
    "    whtspc = \" \" * (15 - len(s[0]))\n",
    "    whtspc2 = \" \" * (25 - len(dt.datetime.strftime(s[1][0], '%d. %B %Y')))\n",
    "    print(f\"{s[0]} {whtspc}\\t{dt.datetime.strftime(s[1][0], '%d. %B %Y')}{whtspc2} #{s[1][1]} \\t\\t #{s[1][1] + (6*10*31*4)}\")"
   ]
  },
  {
   "cell_type": "code",
   "execution_count": 6,
   "metadata": {},
   "outputs": [
    {
     "name": "stdout",
     "output_type": "stream",
     "text": [
      "avg images per day at single location: 77\n"
     ]
    }
   ],
   "source": [
    "avgim = int(np.mean([18255/261, 11268/139, 7632/92]))\n",
    "print(f\"avg images per day at single location: {avgim}\")"
   ]
  }
 ],
 "metadata": {
  "kernelspec": {
   "display_name": "mthesis_env",
   "language": "python",
   "name": "python3"
  },
  "language_info": {
   "codemirror_mode": {
    "name": "ipython",
    "version": 3
   },
   "file_extension": ".py",
   "mimetype": "text/x-python",
   "name": "python",
   "nbconvert_exporter": "python",
   "pygments_lexer": "ipython3",
   "version": "3.12.3"
  }
 },
 "nbformat": 4,
 "nbformat_minor": 2
}
