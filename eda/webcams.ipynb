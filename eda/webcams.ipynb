{
 "cells": [
  {
   "cell_type": "code",
   "execution_count": 2,
   "metadata": {},
   "outputs": [],
   "source": [
    "import pandas as pd\n",
    "import datetime as dt\n",
    "import matplotlib.pyplot as plt\n",
    "import os, json"
   ]
  },
  {
   "cell_type": "code",
   "execution_count": 3,
   "metadata": {},
   "outputs": [
    {
     "name": "stdout",
     "output_type": "stream",
     "text": [
      "|    | name                              | url                                      |     lat |     lon |   altitude_m |   apx_distance_km | 10min_from   |   cam_overage |   apx_dir_fr_stg |\n",
      "|---:|:----------------------------------|:-----------------------------------------|--------:|--------:|-------------:|------------------:|:-------------|--------------:|-----------------:|\n",
      "|  0 | Hafen Romanshorn                  | https://romanshorn.roundshot.com/        | 47.5669 | 9.38013 |          405 |             16.44 | 07.07.2024   |           360 |          7.07591 |\n",
      "|  1 | Rorschacherberg                   | https://computechnic.roundshot.com/      | 47.4745 | 9.50827 |          570 |             13.14 | 26.11.2023   |           360 |         62.7493  |\n",
      "|  2 | Flughafen St. Gallen - Altenrhein | https://lszr.roundshot.com/              | 47.4844 | 9.55189 |          397 |             16.58 | 10.07.2024   |           360 |         64.5225  |\n",
      "|  5 | Elbenalp                          | https://ebenalp.roundshot.com/           | 47.283  | 9.41076 |         1640 |             15.88 | 14.07.2024   |           360 |        164.113   |\n",
      "|  7 | Kronberg - Jakobsbad              | https://kronberg.roundshot.com/gipfel/   | 47.2915 | 9.32944 |         1663 |             14.44 | 11.07.2024   |           360 |       -172.833   |\n",
      "| 33 | Sicht vom Wiler Turm              | https://wilerturm.roundshot.com/         | 47.4787 | 9.04953 |          712 |             23.8  | 06.07.2024   |           360 |        -74.1062  |\n",
      "| 35 | Golfclub Erlen                    | https://erlengolf.roundshot.com/         | 47.5448 | 9.23966 |          494 |             16.26 | 13.06.2024   |           360 |        -31.7262  |\n",
      "| 36 | Erlebnisflugplatz Sitterdorf      | https://erlebnisflugplatz.roundshot.com/ | 47.5096 | 9.26164 |          506 |             12.08 | 12.08.2024   |           360 |        -34.8357  |\n"
     ]
    }
   ],
   "source": [
    "webcams = pd.read_csv('../data/webcams-2024-10-14-v2.csv', sep=';', encoding='utf-8')\n",
    "latex_subset = webcams[webcams[\"scrape\"]][['name', 'url', 'lat', 'lon', 'altitude_m', 'apx_distance_km', '10min_from', 'cam_overage', 'apx_dir_fr_stg']]\n",
    "print(latex_subset.to_markdown())"
   ]
  },
  {
   "cell_type": "markdown",
   "metadata": {},
   "source": [
    "# images"
   ]
  }
 ],
 "metadata": {
  "kernelspec": {
   "display_name": "mthesis_env",
   "language": "python",
   "name": "python3"
  },
  "language_info": {
   "codemirror_mode": {
    "name": "ipython",
    "version": 3
   },
   "file_extension": ".py",
   "mimetype": "text/x-python",
   "name": "python",
   "nbconvert_exporter": "python",
   "pygments_lexer": "ipython3",
   "version": "3.12.3"
  }
 },
 "nbformat": 4,
 "nbformat_minor": 2
}
