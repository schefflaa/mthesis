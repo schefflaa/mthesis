{
 "cells": [
  {
   "cell_type": "code",
   "execution_count": 4,
   "metadata": {},
   "outputs": [],
   "source": [
    "import os, boto3\n",
    "import pandas as pd\n",
    "import numpy as np\n",
    "import seaborn as sns\n",
    "import matplotlib.pyplot as plt\n",
    "import datetime as dt\n",
    "import scienceplots"
   ]
  },
  {
   "cell_type": "markdown",
   "metadata": {},
   "source": [
    "# todo fix"
   ]
  },
  {
   "cell_type": "code",
   "execution_count": 5,
   "metadata": {},
   "outputs": [],
   "source": [
    "folder = \"elbenalp\"\n",
    "webcams = ['romanshorn', 'rorschacherberg', 'altenrhein', 'ebenalp', 'kronberg', 'wiler-turm', 'golfclub-erlen', 'sitterdorf']"
   ]
  },
  {
   "cell_type": "code",
   "execution_count": 7,
   "metadata": {},
   "outputs": [],
   "source": [
    "df = pd.DataFrame()\n",
    "for wbc in webcams:\n",
    "    img_files = os.listdir(f\"../../data/{wbc}\")\n",
    "    img_ts = [dt.datetime.strptime(img.split(\".\")[0], \"%Y-%m-%d_%H-%M-%S\") for img in img_files]\n",
    "    img_files = pd.DataFrame({\"filename\": img_files, \"timestamp\": img_ts, \"webcam\": wbc})\n",
    "    img_files.sort_values(\"timestamp\", inplace=True)\n",
    "    img_files.reset_index(drop=True, inplace=True)\n",
    "    df = pd.concat([df, img_files])"
   ]
  },
  {
   "cell_type": "code",
   "execution_count": 8,
   "metadata": {},
   "outputs": [
    {
     "data": {
      "application/vnd.microsoft.datawrangler.viewer.v0+json": {
       "columns": [
        {
         "name": "index",
         "rawType": "int64",
         "type": "integer"
        },
        {
         "name": "filename",
         "rawType": "object",
         "type": "string"
        },
        {
         "name": "timestamp",
         "rawType": "datetime64[ns]",
         "type": "datetime"
        },
        {
         "name": "webcam",
         "rawType": "object",
         "type": "string"
        }
       ],
       "conversionMethod": "pd.DataFrame",
       "ref": "48f0a8be-366c-4860-aa93-7ac0186d4961",
       "rows": [
        [
         "0",
         "2024-08-28_05-00-00.jpg",
         "2024-08-28 05:00:00",
         "romanshorn"
        ],
        [
         "1",
         "2024-08-28_05-20-00.jpg",
         "2024-08-28 05:20:00",
         "romanshorn"
        ],
        [
         "2",
         "2024-08-28_05-40-00.jpg",
         "2024-08-28 05:40:00",
         "romanshorn"
        ],
        [
         "3",
         "2024-08-28_06-00-00.jpg",
         "2024-08-28 06:00:00",
         "romanshorn"
        ],
        [
         "4",
         "2024-08-28_06-20-00.jpg",
         "2024-08-28 06:20:00",
         "romanshorn"
        ],
        [
         "5",
         "2024-08-28_06-40-00.jpg",
         "2024-08-28 06:40:00",
         "romanshorn"
        ],
        [
         "6",
         "2024-08-28_06-50-00.jpg",
         "2024-08-28 06:50:00",
         "romanshorn"
        ],
        [
         "7",
         "2024-08-28_07-00-00.jpg",
         "2024-08-28 07:00:00",
         "romanshorn"
        ],
        [
         "8",
         "2024-08-28_07-10-00.jpg",
         "2024-08-28 07:10:00",
         "romanshorn"
        ],
        [
         "9",
         "2024-08-28_07-20-00.jpg",
         "2024-08-28 07:20:00",
         "romanshorn"
        ],
        [
         "10",
         "2024-08-28_07-30-00.jpg",
         "2024-08-28 07:30:00",
         "romanshorn"
        ],
        [
         "11",
         "2024-08-28_07-40-00.jpg",
         "2024-08-28 07:40:00",
         "romanshorn"
        ],
        [
         "12",
         "2024-08-28_07-50-00.jpg",
         "2024-08-28 07:50:00",
         "romanshorn"
        ],
        [
         "13",
         "2024-08-28_08-00-00.jpg",
         "2024-08-28 08:00:00",
         "romanshorn"
        ],
        [
         "14",
         "2024-08-28_08-10-00.jpg",
         "2024-08-28 08:10:00",
         "romanshorn"
        ],
        [
         "15",
         "2024-08-28_08-20-00.jpg",
         "2024-08-28 08:20:00",
         "romanshorn"
        ],
        [
         "16",
         "2024-08-28_08-30-00.jpg",
         "2024-08-28 08:30:00",
         "romanshorn"
        ],
        [
         "17",
         "2024-08-28_08-40-00.jpg",
         "2024-08-28 08:40:00",
         "romanshorn"
        ],
        [
         "18",
         "2024-08-28_08-50-00.jpg",
         "2024-08-28 08:50:00",
         "romanshorn"
        ],
        [
         "19",
         "2024-08-28_09-10-00.jpg",
         "2024-08-28 09:10:00",
         "romanshorn"
        ],
        [
         "20",
         "2024-08-28_09-20-00.jpg",
         "2024-08-28 09:20:00",
         "romanshorn"
        ],
        [
         "21",
         "2024-08-28_09-30-00.jpg",
         "2024-08-28 09:30:00",
         "romanshorn"
        ],
        [
         "22",
         "2024-08-28_09-40-00.jpg",
         "2024-08-28 09:40:00",
         "romanshorn"
        ],
        [
         "23",
         "2024-08-28_09-50-00.jpg",
         "2024-08-28 09:50:00",
         "romanshorn"
        ],
        [
         "24",
         "2024-08-28_10-00-00.jpg",
         "2024-08-28 10:00:00",
         "romanshorn"
        ],
        [
         "25",
         "2024-08-28_10-10-00.jpg",
         "2024-08-28 10:10:00",
         "romanshorn"
        ],
        [
         "26",
         "2024-08-28_10-20-00.jpg",
         "2024-08-28 10:20:00",
         "romanshorn"
        ],
        [
         "27",
         "2024-08-28_10-30-00.jpg",
         "2024-08-28 10:30:00",
         "romanshorn"
        ],
        [
         "28",
         "2024-08-28_10-40-00.jpg",
         "2024-08-28 10:40:00",
         "romanshorn"
        ],
        [
         "29",
         "2024-08-28_10-50-00.jpg",
         "2024-08-28 10:50:00",
         "romanshorn"
        ],
        [
         "30",
         "2024-08-28_11-00-00.jpg",
         "2024-08-28 11:00:00",
         "romanshorn"
        ],
        [
         "31",
         "2024-08-28_11-10-00.jpg",
         "2024-08-28 11:10:00",
         "romanshorn"
        ],
        [
         "32",
         "2024-08-28_11-20-00.jpg",
         "2024-08-28 11:20:00",
         "romanshorn"
        ],
        [
         "33",
         "2024-08-28_11-30-00.jpg",
         "2024-08-28 11:30:00",
         "romanshorn"
        ],
        [
         "34",
         "2024-08-28_11-40-00.jpg",
         "2024-08-28 11:40:00",
         "romanshorn"
        ],
        [
         "35",
         "2024-08-28_11-50-00.jpg",
         "2024-08-28 11:50:00",
         "romanshorn"
        ],
        [
         "36",
         "2024-08-28_12-00-00.jpg",
         "2024-08-28 12:00:00",
         "romanshorn"
        ],
        [
         "37",
         "2024-08-28_12-10-00.jpg",
         "2024-08-28 12:10:00",
         "romanshorn"
        ],
        [
         "38",
         "2024-08-28_12-20-00.jpg",
         "2024-08-28 12:20:00",
         "romanshorn"
        ],
        [
         "39",
         "2024-08-28_12-30-00.jpg",
         "2024-08-28 12:30:00",
         "romanshorn"
        ],
        [
         "40",
         "2024-08-28_12-40-00.jpg",
         "2024-08-28 12:40:00",
         "romanshorn"
        ],
        [
         "41",
         "2024-08-28_12-50-00.jpg",
         "2024-08-28 12:50:00",
         "romanshorn"
        ],
        [
         "42",
         "2024-08-28_13-00-00.jpg",
         "2024-08-28 13:00:00",
         "romanshorn"
        ],
        [
         "43",
         "2024-08-28_13-10-00.jpg",
         "2024-08-28 13:10:00",
         "romanshorn"
        ],
        [
         "44",
         "2024-08-28_13-20-00.jpg",
         "2024-08-28 13:20:00",
         "romanshorn"
        ],
        [
         "45",
         "2024-08-28_13-30-00.jpg",
         "2024-08-28 13:30:00",
         "romanshorn"
        ],
        [
         "46",
         "2024-08-28_13-40-00.jpg",
         "2024-08-28 13:40:00",
         "romanshorn"
        ],
        [
         "47",
         "2024-08-28_13-50-00.jpg",
         "2024-08-28 13:50:00",
         "romanshorn"
        ],
        [
         "48",
         "2024-08-28_14-00-00.jpg",
         "2024-08-28 14:00:00",
         "romanshorn"
        ],
        [
         "49",
         "2024-08-28_14-10-00.jpg",
         "2024-08-28 14:10:00",
         "romanshorn"
        ]
       ],
       "shape": {
        "columns": 3,
        "rows": 142123
       }
      },
      "text/html": [
       "<div>\n",
       "<style scoped>\n",
       "    .dataframe tbody tr th:only-of-type {\n",
       "        vertical-align: middle;\n",
       "    }\n",
       "\n",
       "    .dataframe tbody tr th {\n",
       "        vertical-align: top;\n",
       "    }\n",
       "\n",
       "    .dataframe thead th {\n",
       "        text-align: right;\n",
       "    }\n",
       "</style>\n",
       "<table border=\"1\" class=\"dataframe\">\n",
       "  <thead>\n",
       "    <tr style=\"text-align: right;\">\n",
       "      <th></th>\n",
       "      <th>filename</th>\n",
       "      <th>timestamp</th>\n",
       "      <th>webcam</th>\n",
       "    </tr>\n",
       "  </thead>\n",
       "  <tbody>\n",
       "    <tr>\n",
       "      <th>0</th>\n",
       "      <td>2024-08-28_05-00-00.jpg</td>\n",
       "      <td>2024-08-28 05:00:00</td>\n",
       "      <td>romanshorn</td>\n",
       "    </tr>\n",
       "    <tr>\n",
       "      <th>1</th>\n",
       "      <td>2024-08-28_05-20-00.jpg</td>\n",
       "      <td>2024-08-28 05:20:00</td>\n",
       "      <td>romanshorn</td>\n",
       "    </tr>\n",
       "    <tr>\n",
       "      <th>2</th>\n",
       "      <td>2024-08-28_05-40-00.jpg</td>\n",
       "      <td>2024-08-28 05:40:00</td>\n",
       "      <td>romanshorn</td>\n",
       "    </tr>\n",
       "    <tr>\n",
       "      <th>3</th>\n",
       "      <td>2024-08-28_06-00-00.jpg</td>\n",
       "      <td>2024-08-28 06:00:00</td>\n",
       "      <td>romanshorn</td>\n",
       "    </tr>\n",
       "    <tr>\n",
       "      <th>4</th>\n",
       "      <td>2024-08-28_06-20-00.jpg</td>\n",
       "      <td>2024-08-28 06:20:00</td>\n",
       "      <td>romanshorn</td>\n",
       "    </tr>\n",
       "    <tr>\n",
       "      <th>...</th>\n",
       "      <td>...</td>\n",
       "      <td>...</td>\n",
       "      <td>...</td>\n",
       "    </tr>\n",
       "    <tr>\n",
       "      <th>16451</th>\n",
       "      <td>2025-03-14_13-50-00.jpg</td>\n",
       "      <td>2025-03-14 13:50:00</td>\n",
       "      <td>sitterdorf</td>\n",
       "    </tr>\n",
       "    <tr>\n",
       "      <th>16452</th>\n",
       "      <td>2025-03-14_14-00-00.jpg</td>\n",
       "      <td>2025-03-14 14:00:00</td>\n",
       "      <td>sitterdorf</td>\n",
       "    </tr>\n",
       "    <tr>\n",
       "      <th>16453</th>\n",
       "      <td>2025-03-14_14-10-00.jpg</td>\n",
       "      <td>2025-03-14 14:10:00</td>\n",
       "      <td>sitterdorf</td>\n",
       "    </tr>\n",
       "    <tr>\n",
       "      <th>16454</th>\n",
       "      <td>2025-03-14_14-20-00.jpg</td>\n",
       "      <td>2025-03-14 14:20:00</td>\n",
       "      <td>sitterdorf</td>\n",
       "    </tr>\n",
       "    <tr>\n",
       "      <th>16455</th>\n",
       "      <td>2025-03-14_14-30-00.jpg</td>\n",
       "      <td>2025-03-14 14:30:00</td>\n",
       "      <td>sitterdorf</td>\n",
       "    </tr>\n",
       "  </tbody>\n",
       "</table>\n",
       "<p>142123 rows × 3 columns</p>\n",
       "</div>"
      ],
      "text/plain": [
       "                      filename           timestamp      webcam\n",
       "0      2024-08-28_05-00-00.jpg 2024-08-28 05:00:00  romanshorn\n",
       "1      2024-08-28_05-20-00.jpg 2024-08-28 05:20:00  romanshorn\n",
       "2      2024-08-28_05-40-00.jpg 2024-08-28 05:40:00  romanshorn\n",
       "3      2024-08-28_06-00-00.jpg 2024-08-28 06:00:00  romanshorn\n",
       "4      2024-08-28_06-20-00.jpg 2024-08-28 06:20:00  romanshorn\n",
       "...                        ...                 ...         ...\n",
       "16451  2025-03-14_13-50-00.jpg 2025-03-14 13:50:00  sitterdorf\n",
       "16452  2025-03-14_14-00-00.jpg 2025-03-14 14:00:00  sitterdorf\n",
       "16453  2025-03-14_14-10-00.jpg 2025-03-14 14:10:00  sitterdorf\n",
       "16454  2025-03-14_14-20-00.jpg 2025-03-14 14:20:00  sitterdorf\n",
       "16455  2025-03-14_14-30-00.jpg 2025-03-14 14:30:00  sitterdorf\n",
       "\n",
       "[142123 rows x 3 columns]"
      ]
     },
     "execution_count": 8,
     "metadata": {},
     "output_type": "execute_result"
    }
   ],
   "source": [
    "df"
   ]
  },
  {
   "cell_type": "code",
   "execution_count": 9,
   "metadata": {},
   "outputs": [
    {
     "data": {
      "application/vnd.microsoft.datawrangler.viewer.v0+json": {
       "columns": [
        {
         "name": "index",
         "rawType": "int64",
         "type": "integer"
        },
        {
         "name": "ymd",
         "rawType": "period[D]",
         "type": "unknown"
        },
        {
         "name": "filename",
         "rawType": "int64",
         "type": "integer"
        },
        {
         "name": "img_count",
         "rawType": "int64",
         "type": "integer"
        },
        {
         "name": "webcam",
         "rawType": "int64",
         "type": "integer"
        }
       ],
       "conversionMethod": "pd.DataFrame",
       "ref": "43039b0f-110e-4583-be75-a08651ef15d1",
       "rows": [
        [
         "0",
         "2024-02-12",
         "56",
         "56",
         "56"
        ],
        [
         "1",
         "2024-02-13",
         "61",
         "61",
         "61"
        ],
        [
         "2",
         "2024-02-14",
         "60",
         "60",
         "60"
        ],
        [
         "3",
         "2024-02-15",
         "62",
         "62",
         "62"
        ],
        [
         "4",
         "2024-02-16",
         "60",
         "60",
         "60"
        ],
        [
         "5",
         "2024-02-17",
         "54",
         "54",
         "54"
        ],
        [
         "6",
         "2024-02-18",
         "61",
         "61",
         "61"
        ],
        [
         "7",
         "2024-02-19",
         "58",
         "58",
         "58"
        ],
        [
         "8",
         "2024-02-20",
         "61",
         "61",
         "61"
        ],
        [
         "9",
         "2024-02-21",
         "62",
         "62",
         "62"
        ],
        [
         "10",
         "2024-02-22",
         "56",
         "56",
         "56"
        ],
        [
         "11",
         "2024-02-23",
         "60",
         "60",
         "60"
        ],
        [
         "12",
         "2024-02-24",
         "64",
         "64",
         "64"
        ],
        [
         "13",
         "2024-02-25",
         "64",
         "64",
         "64"
        ],
        [
         "14",
         "2024-02-26",
         "63",
         "63",
         "63"
        ],
        [
         "15",
         "2024-02-27",
         "61",
         "61",
         "61"
        ],
        [
         "16",
         "2024-02-28",
         "58",
         "58",
         "58"
        ],
        [
         "17",
         "2024-02-29",
         "63",
         "63",
         "63"
        ],
        [
         "18",
         "2024-03-01",
         "59",
         "59",
         "59"
        ],
        [
         "19",
         "2024-03-02",
         "64",
         "64",
         "64"
        ],
        [
         "20",
         "2024-03-03",
         "66",
         "66",
         "66"
        ],
        [
         "21",
         "2024-03-04",
         "64",
         "64",
         "64"
        ],
        [
         "22",
         "2024-03-05",
         "61",
         "61",
         "61"
        ],
        [
         "23",
         "2024-03-06",
         "62",
         "62",
         "62"
        ],
        [
         "24",
         "2024-03-07",
         "66",
         "66",
         "66"
        ],
        [
         "25",
         "2024-03-08",
         "66",
         "66",
         "66"
        ],
        [
         "26",
         "2024-03-09",
         "67",
         "67",
         "67"
        ],
        [
         "27",
         "2024-03-10",
         "63",
         "63",
         "63"
        ],
        [
         "28",
         "2024-03-11",
         "69",
         "69",
         "69"
        ],
        [
         "29",
         "2024-03-12",
         "66",
         "66",
         "66"
        ],
        [
         "30",
         "2024-03-13",
         "65",
         "65",
         "65"
        ],
        [
         "31",
         "2024-03-14",
         "71",
         "71",
         "71"
        ],
        [
         "32",
         "2024-03-15",
         "69",
         "69",
         "69"
        ],
        [
         "33",
         "2024-03-16",
         "70",
         "70",
         "70"
        ],
        [
         "34",
         "2024-03-17",
         "69",
         "69",
         "69"
        ],
        [
         "35",
         "2024-03-18",
         "67",
         "67",
         "67"
        ],
        [
         "36",
         "2024-03-19",
         "70",
         "70",
         "70"
        ],
        [
         "37",
         "2024-03-20",
         "70",
         "70",
         "70"
        ],
        [
         "38",
         "2024-03-21",
         "68",
         "68",
         "68"
        ],
        [
         "39",
         "2024-03-22",
         "70",
         "70",
         "70"
        ],
        [
         "40",
         "2024-03-23",
         "70",
         "70",
         "70"
        ],
        [
         "41",
         "2024-03-24",
         "68",
         "68",
         "68"
        ],
        [
         "42",
         "2024-03-25",
         "70",
         "70",
         "70"
        ],
        [
         "43",
         "2024-03-26",
         "71",
         "71",
         "71"
        ],
        [
         "44",
         "2024-03-27",
         "67",
         "67",
         "67"
        ],
        [
         "45",
         "2024-03-28",
         "70",
         "70",
         "70"
        ],
        [
         "46",
         "2024-03-29",
         "71",
         "71",
         "71"
        ],
        [
         "47",
         "2024-03-30",
         "71",
         "71",
         "71"
        ],
        [
         "48",
         "2024-03-31",
         "73",
         "73",
         "73"
        ],
        [
         "49",
         "2024-04-01",
         "71",
         "71",
         "71"
        ]
       ],
       "shape": {
        "columns": 4,
        "rows": 388
       }
      },
      "text/html": [
       "<div>\n",
       "<style scoped>\n",
       "    .dataframe tbody tr th:only-of-type {\n",
       "        vertical-align: middle;\n",
       "    }\n",
       "\n",
       "    .dataframe tbody tr th {\n",
       "        vertical-align: top;\n",
       "    }\n",
       "\n",
       "    .dataframe thead th {\n",
       "        text-align: right;\n",
       "    }\n",
       "</style>\n",
       "<table border=\"1\" class=\"dataframe\">\n",
       "  <thead>\n",
       "    <tr style=\"text-align: right;\">\n",
       "      <th></th>\n",
       "      <th>ymd</th>\n",
       "      <th>filename</th>\n",
       "      <th>img_count</th>\n",
       "      <th>webcam</th>\n",
       "    </tr>\n",
       "  </thead>\n",
       "  <tbody>\n",
       "    <tr>\n",
       "      <th>0</th>\n",
       "      <td>2024-02-12</td>\n",
       "      <td>56</td>\n",
       "      <td>56</td>\n",
       "      <td>56</td>\n",
       "    </tr>\n",
       "    <tr>\n",
       "      <th>1</th>\n",
       "      <td>2024-02-13</td>\n",
       "      <td>61</td>\n",
       "      <td>61</td>\n",
       "      <td>61</td>\n",
       "    </tr>\n",
       "    <tr>\n",
       "      <th>2</th>\n",
       "      <td>2024-02-14</td>\n",
       "      <td>60</td>\n",
       "      <td>60</td>\n",
       "      <td>60</td>\n",
       "    </tr>\n",
       "    <tr>\n",
       "      <th>3</th>\n",
       "      <td>2024-02-15</td>\n",
       "      <td>62</td>\n",
       "      <td>62</td>\n",
       "      <td>62</td>\n",
       "    </tr>\n",
       "    <tr>\n",
       "      <th>4</th>\n",
       "      <td>2024-02-16</td>\n",
       "      <td>60</td>\n",
       "      <td>60</td>\n",
       "      <td>60</td>\n",
       "    </tr>\n",
       "    <tr>\n",
       "      <th>...</th>\n",
       "      <td>...</td>\n",
       "      <td>...</td>\n",
       "      <td>...</td>\n",
       "      <td>...</td>\n",
       "    </tr>\n",
       "    <tr>\n",
       "      <th>383</th>\n",
       "      <td>2025-03-10</td>\n",
       "      <td>654</td>\n",
       "      <td>654</td>\n",
       "      <td>654</td>\n",
       "    </tr>\n",
       "    <tr>\n",
       "      <th>384</th>\n",
       "      <td>2025-03-11</td>\n",
       "      <td>659</td>\n",
       "      <td>659</td>\n",
       "      <td>659</td>\n",
       "    </tr>\n",
       "    <tr>\n",
       "      <th>385</th>\n",
       "      <td>2025-03-12</td>\n",
       "      <td>646</td>\n",
       "      <td>646</td>\n",
       "      <td>646</td>\n",
       "    </tr>\n",
       "    <tr>\n",
       "      <th>386</th>\n",
       "      <td>2025-03-13</td>\n",
       "      <td>642</td>\n",
       "      <td>642</td>\n",
       "      <td>642</td>\n",
       "    </tr>\n",
       "    <tr>\n",
       "      <th>387</th>\n",
       "      <td>2025-03-14</td>\n",
       "      <td>347</td>\n",
       "      <td>347</td>\n",
       "      <td>347</td>\n",
       "    </tr>\n",
       "  </tbody>\n",
       "</table>\n",
       "<p>388 rows × 4 columns</p>\n",
       "</div>"
      ],
      "text/plain": [
       "            ymd  filename  img_count  webcam\n",
       "0    2024-02-12        56         56      56\n",
       "1    2024-02-13        61         61      61\n",
       "2    2024-02-14        60         60      60\n",
       "3    2024-02-15        62         62      62\n",
       "4    2024-02-16        60         60      60\n",
       "..          ...       ...        ...     ...\n",
       "383  2025-03-10       654        654     654\n",
       "384  2025-03-11       659        659     659\n",
       "385  2025-03-12       646        646     646\n",
       "386  2025-03-13       642        642     642\n",
       "387  2025-03-14       347        347     347\n",
       "\n",
       "[388 rows x 4 columns]"
      ]
     },
     "execution_count": 9,
     "metadata": {},
     "output_type": "execute_result"
    }
   ],
   "source": [
    "df_timesteps = df.copy()\n",
    "df_timesteps[\"ymd\"] = df_timesteps[\"timestamp\"].dt.to_period('D')\n",
    "counts_per_cam_day = df_timesteps.groupby(\"ymd\").count()\n",
    "counts_per_cam_day = counts_per_cam_day.reset_index()\n",
    "img_count_df = counts_per_cam_day.rename(columns={\"timestamp\": \"img_count\"})\n",
    "img_count_df"
   ]
  },
  {
   "cell_type": "code",
   "execution_count": 10,
   "metadata": {},
   "outputs": [],
   "source": [
    "img_count_df['datetime'] = img_count_df['ymd'].apply(lambda x: x.to_timestamp())\n",
    "img_count_df['year'] = img_count_df.datetime.dt.year\n",
    "img_count_df['month'] = img_count_df.datetime.dt.month\n",
    "img_count_df['weekday'] = img_count_df.datetime.dt.day_name()\n",
    "img_count_df['calendar week'] = img_count_df.datetime.dt.isocalendar().week\n",
    "img_count_df['iso_year'] = img_count_df['datetime'].dt.isocalendar().year"
   ]
  },
  {
   "cell_type": "code",
   "execution_count": 11,
   "metadata": {},
   "outputs": [],
   "source": [
    "weekday_order = ['Monday', 'Tuesday', 'Wednesday', 'Thursday', 'Friday', 'Saturday', 'Sunday']\n",
    "month_names = {1: \"January\", 2: \"February\", 3: \"March\", 4: \"April\", 5: \"May\", 6: \"June\", \n",
    "               7: \"July\", 8: \"August\", 9: \"September\", 10: \"October\", 11: \"November\", 12: \"December\"}"
   ]
  },
  {
   "cell_type": "code",
   "execution_count": 12,
   "metadata": {},
   "outputs": [
    {
     "data": {
      "application/vnd.microsoft.datawrangler.viewer.v0+json": {
       "columns": [
        {
         "name": "weekday",
         "rawType": "object",
         "type": "string"
        },
        {
         "name": "(2024, 7)",
         "rawType": "float64",
         "type": "float"
        },
        {
         "name": "(2024, 8)",
         "rawType": "float64",
         "type": "float"
        },
        {
         "name": "(2024, 9)",
         "rawType": "float64",
         "type": "float"
        },
        {
         "name": "(2024, 10)",
         "rawType": "float64",
         "type": "float"
        },
        {
         "name": "(2024, 11)",
         "rawType": "float64",
         "type": "float"
        },
        {
         "name": "(2024, 12)",
         "rawType": "float64",
         "type": "float"
        },
        {
         "name": "(2024, 13)",
         "rawType": "float64",
         "type": "float"
        },
        {
         "name": "(2024, 14)",
         "rawType": "float64",
         "type": "float"
        },
        {
         "name": "(2024, 16)",
         "rawType": "float64",
         "type": "float"
        },
        {
         "name": "(2024, 17)",
         "rawType": "float64",
         "type": "float"
        },
        {
         "name": "(2024, 18)",
         "rawType": "float64",
         "type": "float"
        },
        {
         "name": "(2024, 19)",
         "rawType": "float64",
         "type": "float"
        },
        {
         "name": "(2024, 20)",
         "rawType": "float64",
         "type": "float"
        },
        {
         "name": "(2024, 21)",
         "rawType": "float64",
         "type": "float"
        },
        {
         "name": "(2024, 22)",
         "rawType": "float64",
         "type": "float"
        },
        {
         "name": "(2024, 23)",
         "rawType": "float64",
         "type": "float"
        },
        {
         "name": "(2024, 24)",
         "rawType": "float64",
         "type": "float"
        },
        {
         "name": "(2024, 25)",
         "rawType": "float64",
         "type": "float"
        },
        {
         "name": "(2024, 26)",
         "rawType": "float64",
         "type": "float"
        },
        {
         "name": "(2024, 27)",
         "rawType": "float64",
         "type": "float"
        },
        {
         "name": "(2024, 28)",
         "rawType": "float64",
         "type": "float"
        },
        {
         "name": "(2024, 29)",
         "rawType": "float64",
         "type": "float"
        },
        {
         "name": "(2024, 30)",
         "rawType": "float64",
         "type": "float"
        },
        {
         "name": "(2024, 31)",
         "rawType": "float64",
         "type": "float"
        },
        {
         "name": "(2024, 32)",
         "rawType": "float64",
         "type": "float"
        },
        {
         "name": "(2024, 33)",
         "rawType": "float64",
         "type": "float"
        },
        {
         "name": "(2024, 34)",
         "rawType": "float64",
         "type": "float"
        },
        {
         "name": "(2024, 35)",
         "rawType": "float64",
         "type": "float"
        },
        {
         "name": "(2024, 36)",
         "rawType": "float64",
         "type": "float"
        },
        {
         "name": "(2024, 37)",
         "rawType": "float64",
         "type": "float"
        },
        {
         "name": "(2024, 38)",
         "rawType": "float64",
         "type": "float"
        },
        {
         "name": "(2024, 39)",
         "rawType": "float64",
         "type": "float"
        },
        {
         "name": "(2024, 40)",
         "rawType": "float64",
         "type": "float"
        },
        {
         "name": "(2024, 41)",
         "rawType": "float64",
         "type": "float"
        },
        {
         "name": "(2024, 42)",
         "rawType": "float64",
         "type": "float"
        },
        {
         "name": "(2024, 43)",
         "rawType": "float64",
         "type": "float"
        },
        {
         "name": "(2024, 44)",
         "rawType": "float64",
         "type": "float"
        },
        {
         "name": "(2024, 45)",
         "rawType": "float64",
         "type": "float"
        },
        {
         "name": "(2024, 46)",
         "rawType": "float64",
         "type": "float"
        },
        {
         "name": "(2024, 47)",
         "rawType": "float64",
         "type": "float"
        },
        {
         "name": "(2024, 48)",
         "rawType": "float64",
         "type": "float"
        },
        {
         "name": "(2024, 49)",
         "rawType": "float64",
         "type": "float"
        },
        {
         "name": "(2024, 50)",
         "rawType": "float64",
         "type": "float"
        },
        {
         "name": "(2024, 51)",
         "rawType": "float64",
         "type": "float"
        },
        {
         "name": "(2024, 52)",
         "rawType": "float64",
         "type": "float"
        },
        {
         "name": "(2025, 1)",
         "rawType": "float64",
         "type": "float"
        },
        {
         "name": "(2025, 2)",
         "rawType": "float64",
         "type": "float"
        },
        {
         "name": "(2025, 3)",
         "rawType": "float64",
         "type": "float"
        },
        {
         "name": "(2025, 4)",
         "rawType": "float64",
         "type": "float"
        },
        {
         "name": "(2025, 5)",
         "rawType": "float64",
         "type": "float"
        },
        {
         "name": "(2025, 6)",
         "rawType": "float64",
         "type": "float"
        },
        {
         "name": "(2025, 7)",
         "rawType": "float64",
         "type": "float"
        },
        {
         "name": "(2025, 8)",
         "rawType": "float64",
         "type": "float"
        },
        {
         "name": "(2025, 9)",
         "rawType": "float64",
         "type": "float"
        },
        {
         "name": "(2025, 10)",
         "rawType": "float64",
         "type": "float"
        },
        {
         "name": "(2025, 11)",
         "rawType": "float64",
         "type": "float"
        }
       ],
       "conversionMethod": "pd.DataFrame",
       "ref": "399773f2-7ad4-492f-900d-14d03f0e7dfa",
       "rows": [
        [
         "Monday",
         "56.0",
         "58.0",
         "63.0",
         "64.0",
         "69.0",
         "67.0",
         "70.0",
         "71.0",
         "14.0",
         "78.0",
         "87.0",
         "86.0",
         "86.0",
         "90.0",
         "84.0",
         "81.0",
         "88.0",
         "181.0",
         "187.0",
         "175.0",
         "185.0",
         "183.0",
         "180.0",
         "180.0",
         "274.0",
         "271.0",
         "256.0",
         "349.0",
         "640.0",
         "621.0",
         "597.0",
         "673.0",
         "669.0",
         "608.0",
         "555.0",
         "623.0",
         "617.0",
         "597.0",
         "597.0",
         "576.0",
         "559.0",
         "574.0",
         "512.0",
         "578.0",
         "571.0",
         "565.0",
         "578.0",
         "591.0",
         "583.0",
         "566.0",
         "599.0",
         "528.0",
         "622.0",
         "632.0",
         "639.0",
         "654.0"
        ],
        [
         "Tuesday",
         "61.0",
         "61.0",
         "61.0",
         "61.0",
         "66.0",
         "70.0",
         "71.0",
         "76.0",
         "76.0",
         "75.0",
         "87.0",
         "77.0",
         "91.0",
         "87.0",
         "90.0",
         "95.0",
         "85.0",
         "181.0",
         "185.0",
         "152.0",
         "187.0",
         "172.0",
         "174.0",
         "180.0",
         "277.0",
         "272.0",
         "259.0",
         "359.0",
         "641.0",
         "621.0",
         "609.0",
         "663.0",
         "671.0",
         "555.0",
         "552.0",
         "613.0",
         "615.0",
         "593.0",
         "562.0",
         "583.0",
         "583.0",
         "579.0",
         "518.0",
         "577.0",
         "575.0",
         "567.0",
         "572.0",
         "589.0",
         "582.0",
         "557.0",
         "607.0",
         "551.0",
         "626.0",
         "635.0",
         "638.0",
         "659.0"
        ],
        [
         "Wednesday",
         "60.0",
         "62.0",
         "58.0",
         "62.0",
         "65.0",
         "70.0",
         "67.0",
         "75.0",
         "79.0",
         "84.0",
         "86.0",
         "81.0",
         "83.0",
         "89.0",
         "91.0",
         "92.0",
         "92.0",
         "181.0",
         "183.0",
         "165.0",
         "181.0",
         "180.0",
         "175.0",
         "162.0",
         "274.0",
         "269.0",
         "262.0",
         "452.0",
         "613.0",
         "617.0",
         "622.0",
         "668.0",
         "657.0",
         "555.0",
         "553.0",
         "565.0",
         "574.0",
         "576.0",
         "562.0",
         "559.0",
         "591.0",
         "541.0",
         "569.0",
         "575.0",
         "579.0",
         "552.0",
         "571.0",
         "579.0",
         "585.0",
         "601.0",
         "537.0",
         "609.0",
         "548.0",
         "630.0",
         "628.0",
         "646.0"
        ],
        [
         "Thursday",
         "62.0",
         "56.0",
         "63.0",
         "66.0",
         "71.0",
         "68.0",
         "70.0",
         "75.0",
         "80.0",
         "83.0",
         "82.0",
         "88.0",
         "86.0",
         "90.0",
         "87.0",
         "95.0",
         "186.0",
         "91.0",
         "183.0",
         "149.0",
         "175.0",
         "185.0",
         "177.0",
         "278.0",
         "270.0",
         "269.0",
         "257.0",
         "551.0",
         "632.0",
         "619.0",
         "673.0",
         "682.0",
         "585.0",
         "558.0",
         "556.0",
         "618.0",
         "590.0",
         "590.0",
         "594.0",
         "570.0",
         "572.0",
         "578.0",
         "570.0",
         "569.0",
         "574.0",
         "562.0",
         "582.0",
         "587.0",
         "575.0",
         "544.0",
         "482.0",
         "607.0",
         "553.0",
         "641.0",
         "642.0",
         "642.0"
        ],
        [
         "Friday",
         "60.0",
         "60.0",
         "59.0",
         "66.0",
         "69.0",
         "70.0",
         "71.0",
         "22.0",
         "79.0",
         "84.0",
         "82.0",
         "90.0",
         "85.0",
         "90.0",
         "83.0",
         "92.0",
         "185.0",
         "97.0",
         "184.0",
         "144.0",
         "166.0",
         "182.0",
         "181.0",
         "276.0",
         "274.0",
         "268.0",
         "262.0",
         "607.0",
         "634.0",
         "608.0",
         "719.0",
         "689.0",
         "608.0",
         "559.0",
         "586.0",
         "609.0",
         "609.0",
         "607.0",
         "602.0",
         "592.0",
         "587.0",
         "574.0",
         "568.0",
         "561.0",
         "563.0",
         "568.0",
         "587.0",
         "571.0",
         "598.0",
         "548.0",
         "539.0",
         "554.0",
         "553.0",
         "621.0",
         "631.0",
         "347.0"
        ],
        [
         "Saturday",
         "54.0",
         "64.0",
         "64.0",
         "67.0",
         "70.0",
         "70.0",
         "71.0",
         null,
         "80.0",
         "86.0",
         "86.0",
         "90.0",
         "90.0",
         "93.0",
         "89.0",
         "92.0",
         "177.0",
         "179.0",
         "175.0",
         "164.0",
         "179.0",
         "183.0",
         "180.0",
         "275.0",
         "274.0",
         "264.0",
         "357.0",
         "641.0",
         "630.0",
         "616.0",
         "596.0",
         "647.0",
         "612.0",
         "550.0",
         "623.0",
         "611.0",
         "596.0",
         "596.0",
         "594.0",
         "515.0",
         "575.0",
         "560.0",
         "572.0",
         "577.0",
         "568.0",
         "574.0",
         "587.0",
         "586.0",
         "598.0",
         "588.0",
         "542.0",
         "627.0",
         "541.0",
         "603.0",
         "645.0",
         null
        ],
        [
         "Sunday",
         "61.0",
         "64.0",
         "66.0",
         "63.0",
         "69.0",
         "68.0",
         "73.0",
         null,
         "81.0",
         "83.0",
         "86.0",
         "90.0",
         "92.0",
         "92.0",
         "89.0",
         "84.0",
         "184.0",
         "181.0",
         "178.0",
         "167.0",
         "180.0",
         "171.0",
         "166.0",
         "272.0",
         "272.0",
         "253.0",
         "345.0",
         "640.0",
         "621.0",
         "623.0",
         "581.0",
         "596.0",
         "610.0",
         "555.0",
         "623.0",
         "620.0",
         "595.0",
         "592.0",
         "563.0",
         "513.0",
         "580.0",
         "568.0",
         "577.0",
         "547.0",
         "568.0",
         "573.0",
         "584.0",
         "575.0",
         "592.0",
         "592.0",
         "534.0",
         "624.0",
         "593.0",
         "649.0",
         "662.0",
         null
        ]
       ],
       "shape": {
        "columns": 56,
        "rows": 7
       }
      },
      "text/html": [
       "<div>\n",
       "<style scoped>\n",
       "    .dataframe tbody tr th:only-of-type {\n",
       "        vertical-align: middle;\n",
       "    }\n",
       "\n",
       "    .dataframe tbody tr th {\n",
       "        vertical-align: top;\n",
       "    }\n",
       "\n",
       "    .dataframe thead tr th {\n",
       "        text-align: left;\n",
       "    }\n",
       "\n",
       "    .dataframe thead tr:last-of-type th {\n",
       "        text-align: right;\n",
       "    }\n",
       "</style>\n",
       "<table border=\"1\" class=\"dataframe\">\n",
       "  <thead>\n",
       "    <tr>\n",
       "      <th>iso_year</th>\n",
       "      <th colspan=\"10\" halign=\"left\">2024</th>\n",
       "      <th>...</th>\n",
       "      <th colspan=\"10\" halign=\"left\">2025</th>\n",
       "    </tr>\n",
       "    <tr>\n",
       "      <th>calendar week</th>\n",
       "      <th>7</th>\n",
       "      <th>8</th>\n",
       "      <th>9</th>\n",
       "      <th>10</th>\n",
       "      <th>11</th>\n",
       "      <th>12</th>\n",
       "      <th>13</th>\n",
       "      <th>14</th>\n",
       "      <th>16</th>\n",
       "      <th>17</th>\n",
       "      <th>...</th>\n",
       "      <th>2</th>\n",
       "      <th>3</th>\n",
       "      <th>4</th>\n",
       "      <th>5</th>\n",
       "      <th>6</th>\n",
       "      <th>7</th>\n",
       "      <th>8</th>\n",
       "      <th>9</th>\n",
       "      <th>10</th>\n",
       "      <th>11</th>\n",
       "    </tr>\n",
       "    <tr>\n",
       "      <th>weekday</th>\n",
       "      <th></th>\n",
       "      <th></th>\n",
       "      <th></th>\n",
       "      <th></th>\n",
       "      <th></th>\n",
       "      <th></th>\n",
       "      <th></th>\n",
       "      <th></th>\n",
       "      <th></th>\n",
       "      <th></th>\n",
       "      <th></th>\n",
       "      <th></th>\n",
       "      <th></th>\n",
       "      <th></th>\n",
       "      <th></th>\n",
       "      <th></th>\n",
       "      <th></th>\n",
       "      <th></th>\n",
       "      <th></th>\n",
       "      <th></th>\n",
       "      <th></th>\n",
       "    </tr>\n",
       "  </thead>\n",
       "  <tbody>\n",
       "    <tr>\n",
       "      <th>Monday</th>\n",
       "      <td>56.0</td>\n",
       "      <td>58.0</td>\n",
       "      <td>63.0</td>\n",
       "      <td>64.0</td>\n",
       "      <td>69.0</td>\n",
       "      <td>67.0</td>\n",
       "      <td>70.0</td>\n",
       "      <td>71.0</td>\n",
       "      <td>14.0</td>\n",
       "      <td>78.0</td>\n",
       "      <td>...</td>\n",
       "      <td>578.0</td>\n",
       "      <td>591.0</td>\n",
       "      <td>583.0</td>\n",
       "      <td>566.0</td>\n",
       "      <td>599.0</td>\n",
       "      <td>528.0</td>\n",
       "      <td>622.0</td>\n",
       "      <td>632.0</td>\n",
       "      <td>639.0</td>\n",
       "      <td>654.0</td>\n",
       "    </tr>\n",
       "    <tr>\n",
       "      <th>Tuesday</th>\n",
       "      <td>61.0</td>\n",
       "      <td>61.0</td>\n",
       "      <td>61.0</td>\n",
       "      <td>61.0</td>\n",
       "      <td>66.0</td>\n",
       "      <td>70.0</td>\n",
       "      <td>71.0</td>\n",
       "      <td>76.0</td>\n",
       "      <td>76.0</td>\n",
       "      <td>75.0</td>\n",
       "      <td>...</td>\n",
       "      <td>572.0</td>\n",
       "      <td>589.0</td>\n",
       "      <td>582.0</td>\n",
       "      <td>557.0</td>\n",
       "      <td>607.0</td>\n",
       "      <td>551.0</td>\n",
       "      <td>626.0</td>\n",
       "      <td>635.0</td>\n",
       "      <td>638.0</td>\n",
       "      <td>659.0</td>\n",
       "    </tr>\n",
       "    <tr>\n",
       "      <th>Wednesday</th>\n",
       "      <td>60.0</td>\n",
       "      <td>62.0</td>\n",
       "      <td>58.0</td>\n",
       "      <td>62.0</td>\n",
       "      <td>65.0</td>\n",
       "      <td>70.0</td>\n",
       "      <td>67.0</td>\n",
       "      <td>75.0</td>\n",
       "      <td>79.0</td>\n",
       "      <td>84.0</td>\n",
       "      <td>...</td>\n",
       "      <td>571.0</td>\n",
       "      <td>579.0</td>\n",
       "      <td>585.0</td>\n",
       "      <td>601.0</td>\n",
       "      <td>537.0</td>\n",
       "      <td>609.0</td>\n",
       "      <td>548.0</td>\n",
       "      <td>630.0</td>\n",
       "      <td>628.0</td>\n",
       "      <td>646.0</td>\n",
       "    </tr>\n",
       "    <tr>\n",
       "      <th>Thursday</th>\n",
       "      <td>62.0</td>\n",
       "      <td>56.0</td>\n",
       "      <td>63.0</td>\n",
       "      <td>66.0</td>\n",
       "      <td>71.0</td>\n",
       "      <td>68.0</td>\n",
       "      <td>70.0</td>\n",
       "      <td>75.0</td>\n",
       "      <td>80.0</td>\n",
       "      <td>83.0</td>\n",
       "      <td>...</td>\n",
       "      <td>582.0</td>\n",
       "      <td>587.0</td>\n",
       "      <td>575.0</td>\n",
       "      <td>544.0</td>\n",
       "      <td>482.0</td>\n",
       "      <td>607.0</td>\n",
       "      <td>553.0</td>\n",
       "      <td>641.0</td>\n",
       "      <td>642.0</td>\n",
       "      <td>642.0</td>\n",
       "    </tr>\n",
       "    <tr>\n",
       "      <th>Friday</th>\n",
       "      <td>60.0</td>\n",
       "      <td>60.0</td>\n",
       "      <td>59.0</td>\n",
       "      <td>66.0</td>\n",
       "      <td>69.0</td>\n",
       "      <td>70.0</td>\n",
       "      <td>71.0</td>\n",
       "      <td>22.0</td>\n",
       "      <td>79.0</td>\n",
       "      <td>84.0</td>\n",
       "      <td>...</td>\n",
       "      <td>587.0</td>\n",
       "      <td>571.0</td>\n",
       "      <td>598.0</td>\n",
       "      <td>548.0</td>\n",
       "      <td>539.0</td>\n",
       "      <td>554.0</td>\n",
       "      <td>553.0</td>\n",
       "      <td>621.0</td>\n",
       "      <td>631.0</td>\n",
       "      <td>347.0</td>\n",
       "    </tr>\n",
       "    <tr>\n",
       "      <th>Saturday</th>\n",
       "      <td>54.0</td>\n",
       "      <td>64.0</td>\n",
       "      <td>64.0</td>\n",
       "      <td>67.0</td>\n",
       "      <td>70.0</td>\n",
       "      <td>70.0</td>\n",
       "      <td>71.0</td>\n",
       "      <td>NaN</td>\n",
       "      <td>80.0</td>\n",
       "      <td>86.0</td>\n",
       "      <td>...</td>\n",
       "      <td>587.0</td>\n",
       "      <td>586.0</td>\n",
       "      <td>598.0</td>\n",
       "      <td>588.0</td>\n",
       "      <td>542.0</td>\n",
       "      <td>627.0</td>\n",
       "      <td>541.0</td>\n",
       "      <td>603.0</td>\n",
       "      <td>645.0</td>\n",
       "      <td>NaN</td>\n",
       "    </tr>\n",
       "    <tr>\n",
       "      <th>Sunday</th>\n",
       "      <td>61.0</td>\n",
       "      <td>64.0</td>\n",
       "      <td>66.0</td>\n",
       "      <td>63.0</td>\n",
       "      <td>69.0</td>\n",
       "      <td>68.0</td>\n",
       "      <td>73.0</td>\n",
       "      <td>NaN</td>\n",
       "      <td>81.0</td>\n",
       "      <td>83.0</td>\n",
       "      <td>...</td>\n",
       "      <td>584.0</td>\n",
       "      <td>575.0</td>\n",
       "      <td>592.0</td>\n",
       "      <td>592.0</td>\n",
       "      <td>534.0</td>\n",
       "      <td>624.0</td>\n",
       "      <td>593.0</td>\n",
       "      <td>649.0</td>\n",
       "      <td>662.0</td>\n",
       "      <td>NaN</td>\n",
       "    </tr>\n",
       "  </tbody>\n",
       "</table>\n",
       "<p>7 rows × 56 columns</p>\n",
       "</div>"
      ],
      "text/plain": [
       "iso_year       2024                                                        \\\n",
       "calendar week    7     8     9     10    11    12    13    14    16    17   \n",
       "weekday                                                                     \n",
       "Monday         56.0  58.0  63.0  64.0  69.0  67.0  70.0  71.0  14.0  78.0   \n",
       "Tuesday        61.0  61.0  61.0  61.0  66.0  70.0  71.0  76.0  76.0  75.0   \n",
       "Wednesday      60.0  62.0  58.0  62.0  65.0  70.0  67.0  75.0  79.0  84.0   \n",
       "Thursday       62.0  56.0  63.0  66.0  71.0  68.0  70.0  75.0  80.0  83.0   \n",
       "Friday         60.0  60.0  59.0  66.0  69.0  70.0  71.0  22.0  79.0  84.0   \n",
       "Saturday       54.0  64.0  64.0  67.0  70.0  70.0  71.0   NaN  80.0  86.0   \n",
       "Sunday         61.0  64.0  66.0  63.0  69.0  68.0  73.0   NaN  81.0  83.0   \n",
       "\n",
       "iso_year       ...   2025                                                   \\\n",
       "calendar week  ...     2      3      4      5      6      7      8      9    \n",
       "weekday        ...                                                           \n",
       "Monday         ...  578.0  591.0  583.0  566.0  599.0  528.0  622.0  632.0   \n",
       "Tuesday        ...  572.0  589.0  582.0  557.0  607.0  551.0  626.0  635.0   \n",
       "Wednesday      ...  571.0  579.0  585.0  601.0  537.0  609.0  548.0  630.0   \n",
       "Thursday       ...  582.0  587.0  575.0  544.0  482.0  607.0  553.0  641.0   \n",
       "Friday         ...  587.0  571.0  598.0  548.0  539.0  554.0  553.0  621.0   \n",
       "Saturday       ...  587.0  586.0  598.0  588.0  542.0  627.0  541.0  603.0   \n",
       "Sunday         ...  584.0  575.0  592.0  592.0  534.0  624.0  593.0  649.0   \n",
       "\n",
       "iso_year                     \n",
       "calendar week     10     11  \n",
       "weekday                      \n",
       "Monday         639.0  654.0  \n",
       "Tuesday        638.0  659.0  \n",
       "Wednesday      628.0  646.0  \n",
       "Thursday       642.0  642.0  \n",
       "Friday         631.0  347.0  \n",
       "Saturday       645.0    NaN  \n",
       "Sunday         662.0    NaN  \n",
       "\n",
       "[7 rows x 56 columns]"
      ]
     },
     "execution_count": 12,
     "metadata": {},
     "output_type": "execute_result"
    }
   ],
   "source": [
    "# Ensure correct sorting\n",
    "img_count_df = img_count_df.sort_values(by='datetime')\n",
    "\n",
    "pivoted_data = pd.pivot_table(\n",
    "    img_count_df[['iso_year', 'calendar week', 'weekday', 'img_count']],\n",
    "    values='img_count',\n",
    "    index='weekday',\n",
    "    columns=['iso_year', 'calendar week'],\n",
    "    aggfunc=\"mean\"\n",
    ")\n",
    "pivoted_data = pivoted_data.reindex(weekday_order)\n",
    "pivoted_data"
   ]
  },
  {
   "cell_type": "code",
   "execution_count": 13,
   "metadata": {},
   "outputs": [],
   "source": [
    "xtick_labels = []\n",
    "labeled_periods = set()\n",
    "\n",
    "for (iso_year, week) in pivoted_data.columns:\n",
    "    week_data = img_count_df[(img_count_df['iso_year'] == iso_year) & (img_count_df['calendar week'] == week)]\n",
    "    \n",
    "    if not week_data.empty:\n",
    "        first_date_of_week = week_data['datetime'].min()\n",
    "        calendar_year = first_date_of_week.year\n",
    "        month = first_date_of_week.month\n",
    "\n",
    "        # Check if ISO year differs from calendar year\n",
    "        if iso_year != calendar_year:\n",
    "            month = 1  # Assign January if it's part of the new ISO year\n",
    "\n",
    "        label_key = (iso_year, month)\n",
    "        \n",
    "        if label_key not in labeled_periods:\n",
    "            xtick_labels.append(f\"{month_names[month]} {iso_year} - W{week}\")\n",
    "            labeled_periods.add(label_key)\n",
    "        else:\n",
    "            xtick_labels.append(f\"W{week}\")\n",
    "    else:\n",
    "        xtick_labels.append(f\"W{week}\")\n"
   ]
  },
  {
   "cell_type": "code",
   "execution_count": 14,
   "metadata": {},
   "outputs": [],
   "source": [
    "# TODO color treshold for b/w print (img count in square)"
   ]
  },
  {
   "cell_type": "code",
   "execution_count": 15,
   "metadata": {},
   "outputs": [
    {
     "data": {
      "text/plain": [
       "<Figure size 640x480 with 0 Axes>"
      ]
     },
     "metadata": {},
     "output_type": "display_data"
    },
    {
     "data": {
      "image/png": "[encoded data removed]",
      "text/plain": [
       "<Figure size 2000x1000 with 2 Axes>"
      ]
     },
     "metadata": {},
     "output_type": "display_data"
    }
   ],
   "source": [
    "# clear previous plot\n",
    "plt.clf()\n",
    "\n",
    "# Plot heatmap\n",
    "with plt.style.context(['science']):\n",
    "    plt.figure(figsize=(20, 10))\n",
    "    heatmap = sns.heatmap(pivoted_data, linewidths=5, cmap='YlGn', linecolor='white',\n",
    "                          square=True, cbar_kws={\"label\": \"Image Count\", \"pad\": 0.05, \"shrink\": 0.35})\n",
    "\n",
    "    # Customize colorbar\n",
    "    cbar = heatmap.collections[0].colorbar\n",
    "    cbar.set_label('Image Count', labelpad=10)  # Adjust rotation and padding\n",
    "    cbar.ax.yaxis.set_label_position('left')  # Position the label on the left sideö\n",
    "    cbar.ax.yaxis.label.set_verticalalignment('center')\n",
    "    ticks = np.linspace(0, np.max(pivoted_data), num=5)  # Create an array of intermediate values\n",
    "    ticks = np.round(ticks).astype(int)\n",
    "    cbar.set_ticks(ticks)\n",
    "\n",
    "    # Add text to heatmap cells\n",
    "    for i in range(pivoted_data.shape[0]):  # Loop over rows\n",
    "        for j in range(pivoted_data.shape[1]):  # Loop over columns\n",
    "            count = pivoted_data.values[i, j]  # Get the associated count\n",
    "            heatmap.text(j + 0.53, i + 0.53, f'{0 if np.isnan(count) else int(count)}', ha='center', va='center', color='black')\n",
    "    \n",
    "    # Customize x-ticks\n",
    "    plt.xticks(ticks=np.arange(len(pivoted_data.columns)) + 0.5, labels=xtick_labels, rotation=90, ha='center')\n",
    "    plt.minorticks_off()\n",
    "    #  only turn off top x-major-ticks\n",
    "    plt.tick_params(axis='x', which='both', top=False)\n",
    "    plt.tick_params(axis='y', which='both', right=False, rotation=0)\n",
    "    plt.ylabel('Day of Week', labelpad=10)\n",
    "    plt.xlabel('Calendar Week with Month Indicator')\n",
    "    plt.title(f'Number of images captured at {folder} in 2024.', pad=15)\n",
    "    plt.tight_layout()\n",
    "    plt.show()\n",
    "    # plt.savefig(\"../viz/heatmap.png\", dpi=300)"
   ]
  }
 ],
 "metadata": {
  "kernelspec": {
   "display_name": "mthesis_env",
   "language": "python",
   "name": "python3"
  },
  "language_info": {
   "codemirror_mode": {
    "name": "ipython",
    "version": 3
   },
   "file_extension": ".py",
   "mimetype": "text/x-python",
   "name": "python",
   "nbconvert_exporter": "python",
   "pygments_lexer": "ipython3",
   "version": "3.12.3"
  }
 },
 "nbformat": 4,
 "nbformat_minor": 2
}
