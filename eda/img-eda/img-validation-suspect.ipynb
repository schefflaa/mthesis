{
 "cells": [
  {
   "cell_type": "code",
   "execution_count": null,
   "id": "5beed471",
   "metadata": {},
   "outputs": [],
   "source": [
    "import os\n",
    "import cv2\n",
    "import pandas as pd\n",
    "import numpy as np\n",
    "from PIL import Image\n",
    "from skimage.measure import shannon_entropy\n",
    "from tqdm import tqdm\n",
    "\n",
    "def compute_image_stats(image_path):\n",
    "    try:\n",
    "        img = cv2.imread(image_path, cv2.IMREAD_COLOR)\n",
    "        if img is None or img.size == 0:\n",
    "            return {\"valid\": False}\n",
    "\n",
    "        gray = cv2.cvtColor(img, cv2.COLOR_BGR2GRAY)\n",
    "        mean = float(gray.mean())\n",
    "        std = float(gray.std())\n",
    "        entropy = shannon_entropy(gray)\n",
    "\n",
    "        return {\n",
    "            \"valid\": True,\n",
    "            \"mean\": mean,\n",
    "            \"std\": std,\n",
    "            \"entropy\": entropy,\n",
    "        }\n",
    "    except Exception as e:\n",
    "        return {\"valid\": False}\n",
    "\n",
    "def scan_folder(folder):\n",
    "    records = []\n",
    "    for filename in tqdm(os.listdir(folder)):\n",
    "        if not filename.lower().endswith((\".jpg\")):\n",
    "            continue\n",
    "        path = os.path.join(folder, filename)\n",
    "        stats = compute_image_stats(path)\n",
    "        stats[\"filename\"] = filename\n",
    "        records.append(stats)\n",
    "\n",
    "    df = pd.DataFrame(records)\n",
    "    return df\n",
    "\n",
    "def flag_outliers(df):\n",
    "    df[\"flag_low_std\"] = df[\"std\"] < 5\n",
    "    df[\"flag_dark\"] = df[\"mean\"] < 30\n",
    "    df[\"flag_bright\"] = df[\"mean\"] > 240\n",
    "    df[\"flag_low_entropy\"] = df[\"entropy\"] < 2.0\n",
    "    df[\"suspect\"] = df[[\"flag_low_std\", \"flag_dark\", \"flag_bright\", \"flag_low_entropy\"]].any(axis=1)\n",
    "    return df"
   ]
  },
  {
   "cell_type": "code",
   "execution_count": null,
   "id": "74e2317f",
   "metadata": {},
   "outputs": [
    {
     "name": "stderr",
     "output_type": "stream",
     "text": [
      "100%|██████████| 16580/16580 [00:43<00:00, 380.25it/s]"
     ]
    },
    {
     "name": "stdout",
     "output_type": "stream",
     "text": [
      "\n",
      "✅ Done. 0 suspect images found out of 16580\n"
     ]
    },
    {
     "name": "stderr",
     "output_type": "stream",
     "text": [
      "\n"
     ]
    }
   ],
   "source": [
    "folder_path = \"/home/masc12/dev/masc12-mthesis/data/poc_multiple/wiler-turm-resized\"  # Change this\n",
    "\n",
    "df = scan_folder(folder_path)\n",
    "df = flag_outliers(df)\n",
    "df[\"hour\"] = df[\"filename\"].apply(lambda x: int(x.split(\"_\")[1].split(\"-\")[0]))\n",
    "print(f\"\\n✅ Done. {df['suspect'].sum()} suspect images found out of {len(df)}\")"
   ]
  },
  {
   "cell_type": "code",
   "execution_count": 41,
   "id": "d600bc7f",
   "metadata": {},
   "outputs": [
    {
     "data": {
      "application/vnd.microsoft.datawrangler.viewer.v0+json": {
       "columns": [
        {
         "name": "index",
         "rawType": "int64",
         "type": "integer"
        },
        {
         "name": "valid",
         "rawType": "bool",
         "type": "boolean"
        },
        {
         "name": "mean",
         "rawType": "float64",
         "type": "float"
        },
        {
         "name": "std",
         "rawType": "float64",
         "type": "float"
        },
        {
         "name": "entropy",
         "rawType": "float64",
         "type": "float"
        },
        {
         "name": "filename",
         "rawType": "object",
         "type": "string"
        },
        {
         "name": "flag_low_std",
         "rawType": "bool",
         "type": "boolean"
        },
        {
         "name": "flag_dark",
         "rawType": "bool",
         "type": "boolean"
        },
        {
         "name": "flag_bright",
         "rawType": "bool",
         "type": "boolean"
        },
        {
         "name": "flag_low_entropy",
         "rawType": "bool",
         "type": "boolean"
        },
        {
         "name": "suspect",
         "rawType": "bool",
         "type": "boolean"
        },
        {
         "name": "hour",
         "rawType": "int64",
         "type": "integer"
        }
       ],
       "conversionMethod": "pd.DataFrame",
       "ref": "32ce34ce-549a-4b2b-8661-48283f3d337d",
       "rows": [],
       "shape": {
        "columns": 11,
        "rows": 0
       }
      },
      "text/html": [
       "<div>\n",
       "<style scoped>\n",
       "    .dataframe tbody tr th:only-of-type {\n",
       "        vertical-align: middle;\n",
       "    }\n",
       "\n",
       "    .dataframe tbody tr th {\n",
       "        vertical-align: top;\n",
       "    }\n",
       "\n",
       "    .dataframe thead th {\n",
       "        text-align: right;\n",
       "    }\n",
       "</style>\n",
       "<table border=\"1\" class=\"dataframe\">\n",
       "  <thead>\n",
       "    <tr style=\"text-align: right;\">\n",
       "      <th></th>\n",
       "      <th>valid</th>\n",
       "      <th>mean</th>\n",
       "      <th>std</th>\n",
       "      <th>entropy</th>\n",
       "      <th>filename</th>\n",
       "      <th>flag_low_std</th>\n",
       "      <th>flag_dark</th>\n",
       "      <th>flag_bright</th>\n",
       "      <th>flag_low_entropy</th>\n",
       "      <th>suspect</th>\n",
       "      <th>hour</th>\n",
       "    </tr>\n",
       "  </thead>\n",
       "  <tbody>\n",
       "  </tbody>\n",
       "</table>\n",
       "</div>"
      ],
      "text/plain": [
       "Empty DataFrame\n",
       "Columns: [valid, mean, std, entropy, filename, flag_low_std, flag_dark, flag_bright, flag_low_entropy, suspect, hour]\n",
       "Index: []"
      ]
     },
     "execution_count": 41,
     "metadata": {},
     "output_type": "execute_result"
    }
   ],
   "source": [
    "df[(df['hour'] > 5) &\n",
    "   (df['hour'] < 23) &\n",
    "   (df['suspect'] == True)].sort_values(\"filename\")"
   ]
  }
 ],
 "metadata": {
  "kernelspec": {
   "display_name": "mthesis_env",
   "language": "python",
   "name": "python3"
  },
  "language_info": {
   "codemirror_mode": {
    "name": "ipython",
    "version": 3
   },
   "file_extension": ".py",
   "mimetype": "text/x-python",
   "name": "python",
   "nbconvert_exporter": "python",
   "pygments_lexer": "ipython3",
   "version": "3.12.3"
  }
 },
 "nbformat": 4,
 "nbformat_minor": 5
}
