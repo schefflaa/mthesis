{
 "cells": [
  {
   "cell_type": "code",
   "execution_count": 2,
   "metadata": {},
   "outputs": [],
   "source": [
    "import sys, os, cv2, json, math\n",
    "import seaborn as sns\n",
    "import pandas as pd, numpy as np, datetime as dt, matplotlib.pyplot as plt, pytz\n",
    "from tqdm import tqdm\n",
    "from itertools import combinations"
   ]
  },
  {
   "cell_type": "code",
   "execution_count": 3,
   "metadata": {},
   "outputs": [],
   "source": [
    "import scienceplots\n",
    "import matplotlib.ticker as ticker\n",
    "plt.style.use(['science'])\n",
    "FIG_WIDTH = 7.5  # width of figure in inches (a4 width)\n",
    "TARGET_FOLDER = \"/home/masc12/dev/masc12-mthesis/eda/img-eda/plots\""
   ]
  },
  {
   "cell_type": "code",
   "execution_count": 4,
   "metadata": {},
   "outputs": [
    {
     "name": "stdout",
     "output_type": "stream",
     "text": [
      "Couldn't find program: 'False'\n"
     ]
    }
   ],
   "source": [
    "%%script False --no-raise-error\n",
    "\n",
    "# FIGURE\n",
    "plt.clf()\n",
    "plt.figure(figsize=(FIG_WIDTH, 3))\n",
    "\n",
    "# AXES\n",
    "plt.gca().yaxis.set_major_formatter(ticker.ScalarFormatter(useMathText=True))\n",
    "plt.gca().ticklabel_format(axis='y', style='sci', scilimits=(0, 0))\n",
    "\n",
    "# GRID\n",
    "plt.grid(True)\n",
    "plt.gca().set_axisbelow(True)\n",
    "\n",
    "# LEGEND\n",
    "handles = [plt.Rectangle((0,0),1,1, color=wbc_cmap[wbc]) for wbc in webcams]\n",
    "plt.legend(handles, webcams, frameon=True, loc='upper left', handlelength=1, handleheight=1)\n",
    "\n",
    "# SAVING\n",
    "plt.tight_layout(pad=0.5)\n",
    "plt.savefig(f\"{TARGET_FOLDER}/webcam-images-per-day.png\", dpi=300)\n",
    "plt.show()"
   ]
  },
  {
   "cell_type": "code",
   "execution_count": 5,
   "metadata": {},
   "outputs": [],
   "source": [
    "webcams = ['altenrhein', 'ebenalp', 'golfclub-erlen', 'kronberg', 'romanshorn', 'rorschacherberg', 'sitterdorf', 'wiler-turm']\n",
    "wbc_cmap = json.loads(open('webcam_colormap.json').read())"
   ]
  },
  {
   "cell_type": "code",
   "execution_count": 6,
   "metadata": {},
   "outputs": [],
   "source": [
    "df_all_images = pd.DataFrame()\n",
    "for wbc in webcams:\n",
    "    img_files = os.listdir(f\"../../data/{wbc}\")\n",
    "    img_ts = [dt.datetime.strptime(img.split(\".\")[0], \"%Y-%m-%d_%H-%M-%S\") for img in img_files]\n",
    "    img_ts = [pytz.timezone('Europe/Zurich').localize(ts) for ts in img_ts]\n",
    "    img_files = pd.DataFrame({\"filename\": img_files, \"timestamp\": img_ts, \"webcam\": wbc})\n",
    "    img_files.sort_values(\"timestamp\", inplace=True)\n",
    "    img_files.reset_index(drop=True, inplace=True)\n",
    "    df_all_images = pd.concat([df_all_images, img_files])"
   ]
  },
  {
   "cell_type": "code",
   "execution_count": 7,
   "metadata": {},
   "outputs": [
    {
     "data": {
      "application/vnd.microsoft.datawrangler.viewer.v0+json": {
       "columns": [
        {
         "name": "index",
         "rawType": "int64",
         "type": "integer"
        },
        {
         "name": "filename",
         "rawType": "object",
         "type": "string"
        },
        {
         "name": "timestamp",
         "rawType": "datetime64[ns, Europe/Zurich]",
         "type": "unknown"
        },
        {
         "name": "webcam",
         "rawType": "object",
         "type": "string"
        }
       ],
       "conversionMethod": "pd.DataFrame",
       "ref": "ca2f74e1-22a6-4c1f-b7cb-c44c700d113a",
       "rows": [
        [
         "0",
         "2024-08-29_12-00-00.jpg",
         "2024-08-29 12:00:00+02:00",
         "altenrhein"
        ],
        [
         "1",
         "2024-08-30_04-00-00.jpg",
         "2024-08-30 04:00:00+02:00",
         "altenrhein"
        ],
        [
         "2",
         "2024-08-30_04-20-00.jpg",
         "2024-08-30 04:20:00+02:00",
         "altenrhein"
        ],
        [
         "3",
         "2024-08-30_04-40-00.jpg",
         "2024-08-30 04:40:00+02:00",
         "altenrhein"
        ],
        [
         "4",
         "2024-08-30_05-00-00.jpg",
         "2024-08-30 05:00:00+02:00",
         "altenrhein"
        ],
        [
         "5",
         "2024-08-30_05-20-00.jpg",
         "2024-08-30 05:20:00+02:00",
         "altenrhein"
        ],
        [
         "6",
         "2024-08-30_05-40-00.jpg",
         "2024-08-30 05:40:00+02:00",
         "altenrhein"
        ],
        [
         "7",
         "2024-08-30_06-00-00.jpg",
         "2024-08-30 06:00:00+02:00",
         "altenrhein"
        ],
        [
         "8",
         "2024-08-30_06-20-00.jpg",
         "2024-08-30 06:20:00+02:00",
         "altenrhein"
        ],
        [
         "9",
         "2024-08-30_06-40-00.jpg",
         "2024-08-30 06:40:00+02:00",
         "altenrhein"
        ],
        [
         "10",
         "2024-08-30_06-50-00.jpg",
         "2024-08-30 06:50:00+02:00",
         "altenrhein"
        ],
        [
         "11",
         "2024-08-30_07-00-00.jpg",
         "2024-08-30 07:00:00+02:00",
         "altenrhein"
        ],
        [
         "12",
         "2024-08-30_07-10-00.jpg",
         "2024-08-30 07:10:00+02:00",
         "altenrhein"
        ],
        [
         "13",
         "2024-08-30_07-20-00.jpg",
         "2024-08-30 07:20:00+02:00",
         "altenrhein"
        ],
        [
         "14",
         "2024-08-30_07-30-00.jpg",
         "2024-08-30 07:30:00+02:00",
         "altenrhein"
        ],
        [
         "15",
         "2024-08-30_07-40-00.jpg",
         "2024-08-30 07:40:00+02:00",
         "altenrhein"
        ],
        [
         "16",
         "2024-08-30_07-50-00.jpg",
         "2024-08-30 07:50:00+02:00",
         "altenrhein"
        ],
        [
         "17",
         "2024-08-30_08-00-00.jpg",
         "2024-08-30 08:00:00+02:00",
         "altenrhein"
        ],
        [
         "18",
         "2024-08-30_08-10-00.jpg",
         "2024-08-30 08:10:00+02:00",
         "altenrhein"
        ],
        [
         "19",
         "2024-08-30_08-20-00.jpg",
         "2024-08-30 08:20:00+02:00",
         "altenrhein"
        ],
        [
         "20",
         "2024-08-30_08-30-00.jpg",
         "2024-08-30 08:30:00+02:00",
         "altenrhein"
        ],
        [
         "21",
         "2024-08-30_08-40-00.jpg",
         "2024-08-30 08:40:00+02:00",
         "altenrhein"
        ],
        [
         "22",
         "2024-08-30_08-50-00.jpg",
         "2024-08-30 08:50:00+02:00",
         "altenrhein"
        ],
        [
         "23",
         "2024-08-30_09-00-00.jpg",
         "2024-08-30 09:00:00+02:00",
         "altenrhein"
        ],
        [
         "24",
         "2024-08-30_09-10-00.jpg",
         "2024-08-30 09:10:00+02:00",
         "altenrhein"
        ],
        [
         "25",
         "2024-08-30_09-20-00.jpg",
         "2024-08-30 09:20:00+02:00",
         "altenrhein"
        ],
        [
         "26",
         "2024-08-30_09-30-00.jpg",
         "2024-08-30 09:30:00+02:00",
         "altenrhein"
        ],
        [
         "27",
         "2024-08-30_09-40-00.jpg",
         "2024-08-30 09:40:00+02:00",
         "altenrhein"
        ],
        [
         "28",
         "2024-08-30_09-50-00.jpg",
         "2024-08-30 09:50:00+02:00",
         "altenrhein"
        ],
        [
         "29",
         "2024-08-30_10-00-00.jpg",
         "2024-08-30 10:00:00+02:00",
         "altenrhein"
        ],
        [
         "30",
         "2024-08-30_10-10-00.jpg",
         "2024-08-30 10:10:00+02:00",
         "altenrhein"
        ],
        [
         "31",
         "2024-08-30_10-20-00.jpg",
         "2024-08-30 10:20:00+02:00",
         "altenrhein"
        ],
        [
         "32",
         "2024-08-30_10-30-00.jpg",
         "2024-08-30 10:30:00+02:00",
         "altenrhein"
        ],
        [
         "33",
         "2024-08-30_10-40-00.jpg",
         "2024-08-30 10:40:00+02:00",
         "altenrhein"
        ],
        [
         "34",
         "2024-08-30_10-50-00.jpg",
         "2024-08-30 10:50:00+02:00",
         "altenrhein"
        ],
        [
         "35",
         "2024-08-30_11-00-00.jpg",
         "2024-08-30 11:00:00+02:00",
         "altenrhein"
        ],
        [
         "36",
         "2024-08-30_11-10-00.jpg",
         "2024-08-30 11:10:00+02:00",
         "altenrhein"
        ],
        [
         "37",
         "2024-08-30_11-20-00.jpg",
         "2024-08-30 11:20:00+02:00",
         "altenrhein"
        ],
        [
         "38",
         "2024-08-30_11-30-00.jpg",
         "2024-08-30 11:30:00+02:00",
         "altenrhein"
        ],
        [
         "39",
         "2024-08-30_11-40-00.jpg",
         "2024-08-30 11:40:00+02:00",
         "altenrhein"
        ],
        [
         "40",
         "2024-08-30_11-50-00.jpg",
         "2024-08-30 11:50:00+02:00",
         "altenrhein"
        ],
        [
         "41",
         "2024-08-30_12-00-00.jpg",
         "2024-08-30 12:00:00+02:00",
         "altenrhein"
        ],
        [
         "42",
         "2024-08-30_12-10-00.jpg",
         "2024-08-30 12:10:00+02:00",
         "altenrhein"
        ],
        [
         "43",
         "2024-08-30_12-20-00.jpg",
         "2024-08-30 12:20:00+02:00",
         "altenrhein"
        ],
        [
         "44",
         "2024-08-30_12-30-00.jpg",
         "2024-08-30 12:30:00+02:00",
         "altenrhein"
        ],
        [
         "45",
         "2024-08-30_12-40-00.jpg",
         "2024-08-30 12:40:00+02:00",
         "altenrhein"
        ],
        [
         "46",
         "2024-08-30_12-50-00.jpg",
         "2024-08-30 12:50:00+02:00",
         "altenrhein"
        ],
        [
         "47",
         "2024-08-30_13-00-00.jpg",
         "2024-08-30 13:00:00+02:00",
         "altenrhein"
        ],
        [
         "48",
         "2024-08-30_13-10-00.jpg",
         "2024-08-30 13:10:00+02:00",
         "altenrhein"
        ],
        [
         "49",
         "2024-08-30_13-20-00.jpg",
         "2024-08-30 13:20:00+02:00",
         "altenrhein"
        ]
       ],
       "shape": {
        "columns": 3,
        "rows": 142123
       }
      },
      "text/html": [
       "<div>\n",
       "<style scoped>\n",
       "    .dataframe tbody tr th:only-of-type {\n",
       "        vertical-align: middle;\n",
       "    }\n",
       "\n",
       "    .dataframe tbody tr th {\n",
       "        vertical-align: top;\n",
       "    }\n",
       "\n",
       "    .dataframe thead th {\n",
       "        text-align: right;\n",
       "    }\n",
       "</style>\n",
       "<table border=\"1\" class=\"dataframe\">\n",
       "  <thead>\n",
       "    <tr style=\"text-align: right;\">\n",
       "      <th></th>\n",
       "      <th>filename</th>\n",
       "      <th>timestamp</th>\n",
       "      <th>webcam</th>\n",
       "    </tr>\n",
       "  </thead>\n",
       "  <tbody>\n",
       "    <tr>\n",
       "      <th>0</th>\n",
       "      <td>2024-08-29_12-00-00.jpg</td>\n",
       "      <td>2024-08-29 12:00:00+02:00</td>\n",
       "      <td>altenrhein</td>\n",
       "    </tr>\n",
       "    <tr>\n",
       "      <th>1</th>\n",
       "      <td>2024-08-30_04-00-00.jpg</td>\n",
       "      <td>2024-08-30 04:00:00+02:00</td>\n",
       "      <td>altenrhein</td>\n",
       "    </tr>\n",
       "    <tr>\n",
       "      <th>2</th>\n",
       "      <td>2024-08-30_04-20-00.jpg</td>\n",
       "      <td>2024-08-30 04:20:00+02:00</td>\n",
       "      <td>altenrhein</td>\n",
       "    </tr>\n",
       "    <tr>\n",
       "      <th>3</th>\n",
       "      <td>2024-08-30_04-40-00.jpg</td>\n",
       "      <td>2024-08-30 04:40:00+02:00</td>\n",
       "      <td>altenrhein</td>\n",
       "    </tr>\n",
       "    <tr>\n",
       "      <th>4</th>\n",
       "      <td>2024-08-30_05-00-00.jpg</td>\n",
       "      <td>2024-08-30 05:00:00+02:00</td>\n",
       "      <td>altenrhein</td>\n",
       "    </tr>\n",
       "    <tr>\n",
       "      <th>...</th>\n",
       "      <td>...</td>\n",
       "      <td>...</td>\n",
       "      <td>...</td>\n",
       "    </tr>\n",
       "    <tr>\n",
       "      <th>16575</th>\n",
       "      <td>2025-03-14_14-30-00.jpg</td>\n",
       "      <td>2025-03-14 14:30:00+01:00</td>\n",
       "      <td>wiler-turm</td>\n",
       "    </tr>\n",
       "    <tr>\n",
       "      <th>16576</th>\n",
       "      <td>2025-03-14_14-40-00.jpg</td>\n",
       "      <td>2025-03-14 14:40:00+01:00</td>\n",
       "      <td>wiler-turm</td>\n",
       "    </tr>\n",
       "    <tr>\n",
       "      <th>16577</th>\n",
       "      <td>2025-03-14_14-50-00.jpg</td>\n",
       "      <td>2025-03-14 14:50:00+01:00</td>\n",
       "      <td>wiler-turm</td>\n",
       "    </tr>\n",
       "    <tr>\n",
       "      <th>16578</th>\n",
       "      <td>2025-03-14_15-00-00.jpg</td>\n",
       "      <td>2025-03-14 15:00:00+01:00</td>\n",
       "      <td>wiler-turm</td>\n",
       "    </tr>\n",
       "    <tr>\n",
       "      <th>16579</th>\n",
       "      <td>2025-03-14_15-10-00.jpg</td>\n",
       "      <td>2025-03-14 15:10:00+01:00</td>\n",
       "      <td>wiler-turm</td>\n",
       "    </tr>\n",
       "  </tbody>\n",
       "</table>\n",
       "<p>142123 rows × 3 columns</p>\n",
       "</div>"
      ],
      "text/plain": [
       "                      filename                 timestamp      webcam\n",
       "0      2024-08-29_12-00-00.jpg 2024-08-29 12:00:00+02:00  altenrhein\n",
       "1      2024-08-30_04-00-00.jpg 2024-08-30 04:00:00+02:00  altenrhein\n",
       "2      2024-08-30_04-20-00.jpg 2024-08-30 04:20:00+02:00  altenrhein\n",
       "3      2024-08-30_04-40-00.jpg 2024-08-30 04:40:00+02:00  altenrhein\n",
       "4      2024-08-30_05-00-00.jpg 2024-08-30 05:00:00+02:00  altenrhein\n",
       "...                        ...                       ...         ...\n",
       "16575  2025-03-14_14-30-00.jpg 2025-03-14 14:30:00+01:00  wiler-turm\n",
       "16576  2025-03-14_14-40-00.jpg 2025-03-14 14:40:00+01:00  wiler-turm\n",
       "16577  2025-03-14_14-50-00.jpg 2025-03-14 14:50:00+01:00  wiler-turm\n",
       "16578  2025-03-14_15-00-00.jpg 2025-03-14 15:00:00+01:00  wiler-turm\n",
       "16579  2025-03-14_15-10-00.jpg 2025-03-14 15:10:00+01:00  wiler-turm\n",
       "\n",
       "[142123 rows x 3 columns]"
      ]
     },
     "execution_count": 7,
     "metadata": {},
     "output_type": "execute_result"
    }
   ],
   "source": [
    "df_all_images"
   ]
  },
  {
   "cell_type": "code",
   "execution_count": 8,
   "metadata": {},
   "outputs": [],
   "source": [
    "# calculate total amount of images per hour\n",
    "df = df_all_images.copy()\n",
    "df[\"datetime\"] = pd.to_datetime(df[\"filename\"].str.split(\".\").str[0], format=\"%Y-%m-%d_%H-%M-%S\")\n",
    "df = df[~pd.isna(df[\"datetime\"])]\n",
    "df[\"hour\"] = df[\"datetime\"].dt.hour.astype(int)"
   ]
  },
  {
   "cell_type": "code",
   "execution_count": 9,
   "metadata": {},
   "outputs": [],
   "source": [
    "df[\"date\"] = df[\"datetime\"].dt.date\n",
    "df['month'] = df['datetime'].dt.month\n",
    "df['year'] = df['datetime'].dt.year\n",
    "\n",
    "def assign_season(month):\n",
    "    if month in [12, 1, 2]:\n",
    "        return 'Winter'\n",
    "    elif month in [3, 4, 5]:\n",
    "        return 'Spring'\n",
    "    elif month in [6, 7, 8]:\n",
    "        return 'Summer'\n",
    "    elif month in [9, 10, 11]:\n",
    "        return 'Fall'\n",
    "\n",
    "df['season'] = df['month'].apply(assign_season)\n"
   ]
  },
  {
   "cell_type": "code",
   "execution_count": 10,
   "metadata": {},
   "outputs": [],
   "source": [
    "df['ymd'] = df['datetime'].dt.strftime('%Y-%m-%d')"
   ]
  },
  {
   "cell_type": "code",
   "execution_count": 11,
   "metadata": {},
   "outputs": [
    {
     "data": {
      "application/vnd.microsoft.datawrangler.viewer.v0+json": {
       "columns": [
        {
         "name": "('webcam', 'hour', 'season', 'ymd')",
         "rawType": "object",
         "type": "unknown"
        },
        {
         "name": "timestamp",
         "rawType": "int64",
         "type": "integer"
        }
       ],
       "conversionMethod": "pd.DataFrame",
       "ref": "b7030872-66e6-487d-9071-eb2aa39c314f",
       "rows": [
        [
         "('altenrhein', 4, 'Fall', '2024-09-01')",
         "3"
        ],
        [
         "('altenrhein', 4, 'Fall', '2024-09-02')",
         "3"
        ],
        [
         "('altenrhein', 4, 'Fall', '2024-09-03')",
         "3"
        ],
        [
         "('altenrhein', 4, 'Fall', '2024-09-04')",
         "3"
        ],
        [
         "('altenrhein', 4, 'Fall', '2024-09-05')",
         "2"
        ],
        [
         "('altenrhein', 4, 'Fall', '2024-09-06')",
         "3"
        ],
        [
         "('altenrhein', 4, 'Fall', '2024-09-07')",
         "3"
        ],
        [
         "('altenrhein', 4, 'Fall', '2024-09-08')",
         "3"
        ],
        [
         "('altenrhein', 4, 'Fall', '2024-09-09')",
         "3"
        ],
        [
         "('altenrhein', 4, 'Fall', '2024-09-10')",
         "3"
        ],
        [
         "('altenrhein', 4, 'Fall', '2024-09-11')",
         "3"
        ],
        [
         "('altenrhein', 4, 'Fall', '2024-09-12')",
         "3"
        ],
        [
         "('altenrhein', 4, 'Fall', '2024-09-13')",
         "3"
        ],
        [
         "('altenrhein', 4, 'Fall', '2024-09-14')",
         "3"
        ],
        [
         "('altenrhein', 4, 'Fall', '2024-09-15')",
         "3"
        ],
        [
         "('altenrhein', 4, 'Fall', '2024-09-16')",
         "3"
        ],
        [
         "('altenrhein', 4, 'Fall', '2024-09-17')",
         "3"
        ],
        [
         "('altenrhein', 4, 'Fall', '2024-09-18')",
         "3"
        ],
        [
         "('altenrhein', 4, 'Fall', '2024-09-19')",
         "3"
        ],
        [
         "('altenrhein', 4, 'Fall', '2024-09-20')",
         "3"
        ],
        [
         "('altenrhein', 4, 'Fall', '2024-09-21')",
         "3"
        ],
        [
         "('altenrhein', 4, 'Fall', '2024-09-22')",
         "3"
        ],
        [
         "('altenrhein', 4, 'Fall', '2024-09-23')",
         "3"
        ],
        [
         "('altenrhein', 4, 'Fall', '2024-09-24')",
         "3"
        ],
        [
         "('altenrhein', 4, 'Fall', '2024-09-25')",
         "3"
        ],
        [
         "('altenrhein', 4, 'Fall', '2024-09-26')",
         "3"
        ],
        [
         "('altenrhein', 4, 'Fall', '2024-09-27')",
         "3"
        ],
        [
         "('altenrhein', 4, 'Fall', '2024-09-28')",
         "3"
        ],
        [
         "('altenrhein', 4, 'Fall', '2024-09-29')",
         "3"
        ],
        [
         "('altenrhein', 4, 'Fall', '2024-09-30')",
         "3"
        ],
        [
         "('altenrhein', 4, 'Fall', '2024-10-01')",
         "3"
        ],
        [
         "('altenrhein', 4, 'Fall', '2024-10-02')",
         "3"
        ],
        [
         "('altenrhein', 4, 'Fall', '2024-10-03')",
         "3"
        ],
        [
         "('altenrhein', 4, 'Fall', '2024-10-04')",
         "3"
        ],
        [
         "('altenrhein', 4, 'Fall', '2024-10-05')",
         "3"
        ],
        [
         "('altenrhein', 4, 'Fall', '2024-10-06')",
         "3"
        ],
        [
         "('altenrhein', 4, 'Fall', '2024-10-07')",
         "3"
        ],
        [
         "('altenrhein', 4, 'Summer', '2024-08-30')",
         "3"
        ],
        [
         "('altenrhein', 4, 'Summer', '2024-08-31')",
         "3"
        ],
        [
         "('altenrhein', 5, 'Fall', '2024-09-01')",
         "3"
        ],
        [
         "('altenrhein', 5, 'Fall', '2024-09-02')",
         "3"
        ],
        [
         "('altenrhein', 5, 'Fall', '2024-09-03')",
         "3"
        ],
        [
         "('altenrhein', 5, 'Fall', '2024-09-04')",
         "3"
        ],
        [
         "('altenrhein', 5, 'Fall', '2024-09-05')",
         "3"
        ],
        [
         "('altenrhein', 5, 'Fall', '2024-09-06')",
         "3"
        ],
        [
         "('altenrhein', 5, 'Fall', '2024-09-07')",
         "3"
        ],
        [
         "('altenrhein', 5, 'Fall', '2024-09-08')",
         "3"
        ],
        [
         "('altenrhein', 5, 'Fall', '2024-09-09')",
         "3"
        ],
        [
         "('altenrhein', 5, 'Fall', '2024-09-10')",
         "3"
        ],
        [
         "('altenrhein', 5, 'Fall', '2024-09-11')",
         "3"
        ]
       ],
       "shape": {
        "columns": 1,
        "rows": 28179
       }
      },
      "text/html": [
       "<div>\n",
       "<style scoped>\n",
       "    .dataframe tbody tr th:only-of-type {\n",
       "        vertical-align: middle;\n",
       "    }\n",
       "\n",
       "    .dataframe tbody tr th {\n",
       "        vertical-align: top;\n",
       "    }\n",
       "\n",
       "    .dataframe thead th {\n",
       "        text-align: right;\n",
       "    }\n",
       "</style>\n",
       "<table border=\"1\" class=\"dataframe\">\n",
       "  <thead>\n",
       "    <tr style=\"text-align: right;\">\n",
       "      <th></th>\n",
       "      <th></th>\n",
       "      <th></th>\n",
       "      <th></th>\n",
       "      <th>timestamp</th>\n",
       "    </tr>\n",
       "    <tr>\n",
       "      <th>webcam</th>\n",
       "      <th>hour</th>\n",
       "      <th>season</th>\n",
       "      <th>ymd</th>\n",
       "      <th></th>\n",
       "    </tr>\n",
       "  </thead>\n",
       "  <tbody>\n",
       "    <tr>\n",
       "      <th rowspan=\"5\" valign=\"top\">altenrhein</th>\n",
       "      <th rowspan=\"5\" valign=\"top\">4</th>\n",
       "      <th rowspan=\"5\" valign=\"top\">Fall</th>\n",
       "      <th>2024-09-01</th>\n",
       "      <td>3</td>\n",
       "    </tr>\n",
       "    <tr>\n",
       "      <th>2024-09-02</th>\n",
       "      <td>3</td>\n",
       "    </tr>\n",
       "    <tr>\n",
       "      <th>2024-09-03</th>\n",
       "      <td>3</td>\n",
       "    </tr>\n",
       "    <tr>\n",
       "      <th>2024-09-04</th>\n",
       "      <td>3</td>\n",
       "    </tr>\n",
       "    <tr>\n",
       "      <th>2024-09-05</th>\n",
       "      <td>2</td>\n",
       "    </tr>\n",
       "    <tr>\n",
       "      <th>...</th>\n",
       "      <th>...</th>\n",
       "      <th>...</th>\n",
       "      <th>...</th>\n",
       "      <td>...</td>\n",
       "    </tr>\n",
       "    <tr>\n",
       "      <th rowspan=\"5\" valign=\"top\">wiler-turm</th>\n",
       "      <th rowspan=\"5\" valign=\"top\">23</th>\n",
       "      <th rowspan=\"5\" valign=\"top\">Fall</th>\n",
       "      <th>2024-09-19</th>\n",
       "      <td>3</td>\n",
       "    </tr>\n",
       "    <tr>\n",
       "      <th>2024-09-20</th>\n",
       "      <td>3</td>\n",
       "    </tr>\n",
       "    <tr>\n",
       "      <th>2024-09-21</th>\n",
       "      <td>3</td>\n",
       "    </tr>\n",
       "    <tr>\n",
       "      <th>2024-09-22</th>\n",
       "      <td>3</td>\n",
       "    </tr>\n",
       "    <tr>\n",
       "      <th>2024-09-23</th>\n",
       "      <td>3</td>\n",
       "    </tr>\n",
       "  </tbody>\n",
       "</table>\n",
       "<p>28179 rows × 1 columns</p>\n",
       "</div>"
      ],
      "text/plain": [
       "                                   timestamp\n",
       "webcam     hour season ymd                  \n",
       "altenrhein 4    Fall   2024-09-01          3\n",
       "                       2024-09-02          3\n",
       "                       2024-09-03          3\n",
       "                       2024-09-04          3\n",
       "                       2024-09-05          2\n",
       "...                                      ...\n",
       "wiler-turm 23   Fall   2024-09-19          3\n",
       "                       2024-09-20          3\n",
       "                       2024-09-21          3\n",
       "                       2024-09-22          3\n",
       "                       2024-09-23          3\n",
       "\n",
       "[28179 rows x 1 columns]"
      ]
     },
     "execution_count": 11,
     "metadata": {},
     "output_type": "execute_result"
    }
   ],
   "source": [
    "df[['webcam', \"timestamp\", 'season', 'hour', \"ymd\"]].groupby(['webcam', 'hour', 'season', \"ymd\"]).count()"
   ]
  },
  {
   "cell_type": "code",
   "execution_count": 14,
   "metadata": {},
   "outputs": [
    {
     "data": {
      "image/png": "[encoded data removed]",
      "text/plain": [
       "<Figure size 750x200 with 4 Axes>"
      ]
     },
     "metadata": {},
     "output_type": "display_data"
    }
   ],
   "source": [
    "# Example aggregated DataFrame preparation\n",
    "grouped_df = df[['webcam', \"timestamp\", 'season', 'hour', \"ymd\"]].groupby(['webcam', 'hour', 'season', \"ymd\"]).count().reset_index()\n",
    "\n",
    "# Compute average per hour per season, considering only active webcam-days\n",
    "agg = (\n",
    "    grouped_df\n",
    "    .groupby(['season', 'hour'])\n",
    "    .agg(avg_image_count_per_webcam_day=('timestamp', 'mean'))\n",
    "    .reset_index()\n",
    ")\n",
    "\n",
    "# Define seasons, months, and colors in matching order\n",
    "seasons = ['Spring', 'Summer', 'Fall', 'Winter']\n",
    "months = ['Mar-May', 'Jun-Aug', 'Sep-Nov', 'Dec-Feb']\n",
    "colors = ['#a6c68a', '#e6885d', '#d1a241', '#258fbf']\n",
    "\n",
    "# Create subplots\n",
    "fig, axes = plt.subplots(1, 4, figsize=(FIG_WIDTH, 2), sharey=True)\n",
    "\n",
    "for i, (season, month, color) in enumerate(zip(seasons, months, colors)):\n",
    "    ax = axes[i]\n",
    "    season_data = agg[agg['season'] == season]\n",
    "    ax.bar(season_data['hour'], season_data['avg_image_count_per_webcam_day'], color=color)\n",
    "    ax.set_title(f'{season} ({month})')\n",
    "    ax.set_xlabel('Hour of Day')\n",
    "    if i == 0:\n",
    "        ax.set_ylabel('Avg. Image Count')\n",
    "    ax.set_xticks(range(4, 24, 2))\n",
    "    ax.grid(True)\n",
    "    ax.set_axisbelow(True)\n",
    "\n",
    "plt.tight_layout(pad=0.5)\n",
    "plt.savefig(f\"{TARGET_FOLDER}/amount-hour-avg-per-season.png\", dpi=300)\n",
    "plt.show()"
   ]
  }
 ],
 "metadata": {
  "kernelspec": {
   "display_name": "mthesis_env",
   "language": "python",
   "name": "python3"
  },
  "language_info": {
   "codemirror_mode": {
    "name": "ipython",
    "version": 3
   },
   "file_extension": ".py",
   "mimetype": "text/x-python",
   "name": "python",
   "nbconvert_exporter": "python",
   "pygments_lexer": "ipython3",
   "version": "3.12.3"
  }
 },
 "nbformat": 4,
 "nbformat_minor": 2
}
