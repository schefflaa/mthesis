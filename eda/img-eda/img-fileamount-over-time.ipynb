{
 "cells": [
  {
   "cell_type": "code",
   "execution_count": 1,
   "metadata": {},
   "outputs": [],
   "source": [
    "import pandas as pd, numpy as np, datetime as dt\n",
    "import matplotlib.pyplot as plt\n",
    "import os, json"
   ]
  },
  {
   "cell_type": "code",
   "execution_count": 2,
   "metadata": {},
   "outputs": [],
   "source": [
    "import scienceplots\n",
    "import matplotlib.ticker as ticker\n",
    "plt.style.use(['science'])\n",
    "FIG_WIDTH = 7.5  # width of figure in inches (a4 width)\n",
    "TARGET_FOLDER = \"/home/masc12/dev/masc12-mthesis/eda/img-eda/plots\""
   ]
  },
  {
   "cell_type": "code",
   "execution_count": 3,
   "metadata": {},
   "outputs": [],
   "source": [
    "webcams = ['altenrhein', 'ebenalp', 'golfclub-erlen', 'kronberg', 'romanshorn', 'rorschacherberg', 'sitterdorf', 'wiler-turm']\n",
    "wbc_cmap = json.loads(open('webcam_colormap.json').read())"
   ]
  },
  {
   "cell_type": "code",
   "execution_count": 4,
   "metadata": {},
   "outputs": [],
   "source": [
    "df = pd.DataFrame()\n",
    "for wbc in webcams:\n",
    "    img_files = os.listdir(f\"../../data/{wbc}\")\n",
    "    img_ts = [dt.datetime.strptime(img.split(\".\")[0], \"%Y-%m-%d_%H-%M-%S\") for img in img_files]\n",
    "    img_files = pd.DataFrame({\"filename\": img_files, \"timestamp\": img_ts, \"webcam\": wbc})\n",
    "    img_files.sort_values(\"timestamp\", inplace=True)\n",
    "    img_files.reset_index(drop=True, inplace=True)\n",
    "    df = pd.concat([df, img_files])"
   ]
  },
  {
   "cell_type": "code",
   "execution_count": 5,
   "metadata": {},
   "outputs": [
    {
     "data": {
      "application/vnd.microsoft.datawrangler.viewer.v0+json": {
       "columns": [
        {
         "name": "index",
         "rawType": "object",
         "type": "string"
        },
        {
         "name": "timestamp",
         "rawType": "object",
         "type": "unknown"
        }
       ],
       "conversionMethod": "pd.DataFrame",
       "ref": "aab4f26e-1c38-4812-90dc-de0af7e3f802",
       "rows": [
        [
         "count",
         "142123"
        ],
        [
         "mean",
         "2024-11-06 01:27:34.330403840"
        ],
        [
         "min",
         "2024-02-12 08:00:00"
        ],
        [
         "25%",
         "2024-09-14 19:40:00"
        ],
        [
         "50%",
         "2024-11-12 12:00:00"
        ],
        [
         "75%",
         "2025-01-13 17:00:00"
        ],
        [
         "max",
         "2025-03-14 15:10:00"
        ]
       ],
       "shape": {
        "columns": 1,
        "rows": 7
       }
      },
      "text/html": [
       "<div>\n",
       "<style scoped>\n",
       "    .dataframe tbody tr th:only-of-type {\n",
       "        vertical-align: middle;\n",
       "    }\n",
       "\n",
       "    .dataframe tbody tr th {\n",
       "        vertical-align: top;\n",
       "    }\n",
       "\n",
       "    .dataframe thead th {\n",
       "        text-align: right;\n",
       "    }\n",
       "</style>\n",
       "<table border=\"1\" class=\"dataframe\">\n",
       "  <thead>\n",
       "    <tr style=\"text-align: right;\">\n",
       "      <th></th>\n",
       "      <th>timestamp</th>\n",
       "    </tr>\n",
       "  </thead>\n",
       "  <tbody>\n",
       "    <tr>\n",
       "      <th>count</th>\n",
       "      <td>142123</td>\n",
       "    </tr>\n",
       "    <tr>\n",
       "      <th>mean</th>\n",
       "      <td>2024-11-06 01:27:34.330403840</td>\n",
       "    </tr>\n",
       "    <tr>\n",
       "      <th>min</th>\n",
       "      <td>2024-02-12 08:00:00</td>\n",
       "    </tr>\n",
       "    <tr>\n",
       "      <th>25%</th>\n",
       "      <td>2024-09-14 19:40:00</td>\n",
       "    </tr>\n",
       "    <tr>\n",
       "      <th>50%</th>\n",
       "      <td>2024-11-12 12:00:00</td>\n",
       "    </tr>\n",
       "    <tr>\n",
       "      <th>75%</th>\n",
       "      <td>2025-01-13 17:00:00</td>\n",
       "    </tr>\n",
       "    <tr>\n",
       "      <th>max</th>\n",
       "      <td>2025-03-14 15:10:00</td>\n",
       "    </tr>\n",
       "  </tbody>\n",
       "</table>\n",
       "</div>"
      ],
      "text/plain": [
       "                           timestamp\n",
       "count                         142123\n",
       "mean   2024-11-06 01:27:34.330403840\n",
       "min              2024-02-12 08:00:00\n",
       "25%              2024-09-14 19:40:00\n",
       "50%              2024-11-12 12:00:00\n",
       "75%              2025-01-13 17:00:00\n",
       "max              2025-03-14 15:10:00"
      ]
     },
     "execution_count": 5,
     "metadata": {},
     "output_type": "execute_result"
    }
   ],
   "source": [
    "df.describe()"
   ]
  },
  {
   "cell_type": "markdown",
   "metadata": {},
   "source": [
    "# stacked barplot w/ months"
   ]
  },
  {
   "cell_type": "code",
   "execution_count": 6,
   "metadata": {},
   "outputs": [
    {
     "data": {
      "application/vnd.microsoft.datawrangler.viewer.v0+json": {
       "columns": [
        {
         "name": "webcam",
         "rawType": "object",
         "type": "string"
        },
        {
         "name": "2024-02",
         "rawType": "int64",
         "type": "integer"
        },
        {
         "name": "2024-03",
         "rawType": "int64",
         "type": "integer"
        },
        {
         "name": "2024-04",
         "rawType": "int64",
         "type": "integer"
        },
        {
         "name": "2024-05",
         "rawType": "int64",
         "type": "integer"
        },
        {
         "name": "2024-06",
         "rawType": "int64",
         "type": "integer"
        },
        {
         "name": "2024-07",
         "rawType": "int64",
         "type": "integer"
        },
        {
         "name": "2024-08",
         "rawType": "int64",
         "type": "integer"
        },
        {
         "name": "2024-09",
         "rawType": "int64",
         "type": "integer"
        },
        {
         "name": "2024-10",
         "rawType": "int64",
         "type": "integer"
        },
        {
         "name": "2024-11",
         "rawType": "int64",
         "type": "integer"
        },
        {
         "name": "2024-12",
         "rawType": "int64",
         "type": "integer"
        },
        {
         "name": "2025-01",
         "rawType": "int64",
         "type": "integer"
        },
        {
         "name": "2025-02",
         "rawType": "int64",
         "type": "integer"
        },
        {
         "name": "2025-03",
         "rawType": "int64",
         "type": "integer"
        }
       ],
       "conversionMethod": "pd.DataFrame",
       "ref": "3ffe4d6b-7f8c-4dc2-97a8-34ac7be30bdd",
       "rows": [
        [
         "altenrhein",
         "0",
         "0",
         "0",
         "0",
         "0",
         "0",
         "195",
         "2847",
         "2601",
         "2369",
         "2375",
         "2386",
         "1913",
         "1143"
        ],
        [
         "ebenalp",
         "0",
         "0",
         "0",
         "0",
         "0",
         "0",
         "286",
         "2481",
         "2488",
         "2218",
         "2218",
         "2254",
         "1802",
         "991"
        ],
        [
         "golfclub-erlen",
         "0",
         "0",
         "0",
         "0",
         "1494",
         "2723",
         "2521",
         "2132",
         "1849",
         "1505",
         "1389",
         "1484",
         "1552",
         "888"
        ],
        [
         "kronberg",
         "0",
         "0",
         "0",
         "0",
         "0",
         "2",
         "3081",
         "2840",
         "2603",
         "2371",
         "2368",
         "2405",
         "2246",
         "1136"
        ],
        [
         "romanshorn",
         "0",
         "0",
         "0",
         "0",
         "0",
         "0",
         "386",
         "2833",
         "2603",
         "2368",
         "2378",
         "2407",
         "2290",
         "1154"
        ],
        [
         "rorschacherberg",
         "1084",
         "2093",
         "1555",
         "2703",
         "2678",
         "2655",
         "2590",
         "2132",
         "865",
         "1545",
         "1478",
         "1580",
         "1641",
         "913"
        ],
        [
         "sitterdorf",
         "0",
         "0",
         "0",
         "0",
         "0",
         "0",
         "0",
         "953",
         "2779",
         "2844",
         "2974",
         "2972",
         "2636",
         "1298"
        ],
        [
         "wiler-turm",
         "0",
         "0",
         "0",
         "0",
         "0",
         "0",
         "780",
         "2842",
         "2598",
         "2180",
         "2374",
         "2409",
         "2235",
         "1162"
        ]
       ],
       "shape": {
        "columns": 14,
        "rows": 8
       }
      },
      "text/html": [
       "<div>\n",
       "<style scoped>\n",
       "    .dataframe tbody tr th:only-of-type {\n",
       "        vertical-align: middle;\n",
       "    }\n",
       "\n",
       "    .dataframe tbody tr th {\n",
       "        vertical-align: top;\n",
       "    }\n",
       "\n",
       "    .dataframe thead th {\n",
       "        text-align: right;\n",
       "    }\n",
       "</style>\n",
       "<table border=\"1\" class=\"dataframe\">\n",
       "  <thead>\n",
       "    <tr style=\"text-align: right;\">\n",
       "      <th>y-month</th>\n",
       "      <th>2024-02</th>\n",
       "      <th>2024-03</th>\n",
       "      <th>2024-04</th>\n",
       "      <th>2024-05</th>\n",
       "      <th>2024-06</th>\n",
       "      <th>2024-07</th>\n",
       "      <th>2024-08</th>\n",
       "      <th>2024-09</th>\n",
       "      <th>2024-10</th>\n",
       "      <th>2024-11</th>\n",
       "      <th>2024-12</th>\n",
       "      <th>2025-01</th>\n",
       "      <th>2025-02</th>\n",
       "      <th>2025-03</th>\n",
       "    </tr>\n",
       "    <tr>\n",
       "      <th>webcam</th>\n",
       "      <th></th>\n",
       "      <th></th>\n",
       "      <th></th>\n",
       "      <th></th>\n",
       "      <th></th>\n",
       "      <th></th>\n",
       "      <th></th>\n",
       "      <th></th>\n",
       "      <th></th>\n",
       "      <th></th>\n",
       "      <th></th>\n",
       "      <th></th>\n",
       "      <th></th>\n",
       "      <th></th>\n",
       "    </tr>\n",
       "  </thead>\n",
       "  <tbody>\n",
       "    <tr>\n",
       "      <th>altenrhein</th>\n",
       "      <td>0</td>\n",
       "      <td>0</td>\n",
       "      <td>0</td>\n",
       "      <td>0</td>\n",
       "      <td>0</td>\n",
       "      <td>0</td>\n",
       "      <td>195</td>\n",
       "      <td>2847</td>\n",
       "      <td>2601</td>\n",
       "      <td>2369</td>\n",
       "      <td>2375</td>\n",
       "      <td>2386</td>\n",
       "      <td>1913</td>\n",
       "      <td>1143</td>\n",
       "    </tr>\n",
       "    <tr>\n",
       "      <th>ebenalp</th>\n",
       "      <td>0</td>\n",
       "      <td>0</td>\n",
       "      <td>0</td>\n",
       "      <td>0</td>\n",
       "      <td>0</td>\n",
       "      <td>0</td>\n",
       "      <td>286</td>\n",
       "      <td>2481</td>\n",
       "      <td>2488</td>\n",
       "      <td>2218</td>\n",
       "      <td>2218</td>\n",
       "      <td>2254</td>\n",
       "      <td>1802</td>\n",
       "      <td>991</td>\n",
       "    </tr>\n",
       "    <tr>\n",
       "      <th>golfclub-erlen</th>\n",
       "      <td>0</td>\n",
       "      <td>0</td>\n",
       "      <td>0</td>\n",
       "      <td>0</td>\n",
       "      <td>1494</td>\n",
       "      <td>2723</td>\n",
       "      <td>2521</td>\n",
       "      <td>2132</td>\n",
       "      <td>1849</td>\n",
       "      <td>1505</td>\n",
       "      <td>1389</td>\n",
       "      <td>1484</td>\n",
       "      <td>1552</td>\n",
       "      <td>888</td>\n",
       "    </tr>\n",
       "    <tr>\n",
       "      <th>kronberg</th>\n",
       "      <td>0</td>\n",
       "      <td>0</td>\n",
       "      <td>0</td>\n",
       "      <td>0</td>\n",
       "      <td>0</td>\n",
       "      <td>2</td>\n",
       "      <td>3081</td>\n",
       "      <td>2840</td>\n",
       "      <td>2603</td>\n",
       "      <td>2371</td>\n",
       "      <td>2368</td>\n",
       "      <td>2405</td>\n",
       "      <td>2246</td>\n",
       "      <td>1136</td>\n",
       "    </tr>\n",
       "    <tr>\n",
       "      <th>romanshorn</th>\n",
       "      <td>0</td>\n",
       "      <td>0</td>\n",
       "      <td>0</td>\n",
       "      <td>0</td>\n",
       "      <td>0</td>\n",
       "      <td>0</td>\n",
       "      <td>386</td>\n",
       "      <td>2833</td>\n",
       "      <td>2603</td>\n",
       "      <td>2368</td>\n",
       "      <td>2378</td>\n",
       "      <td>2407</td>\n",
       "      <td>2290</td>\n",
       "      <td>1154</td>\n",
       "    </tr>\n",
       "    <tr>\n",
       "      <th>rorschacherberg</th>\n",
       "      <td>1084</td>\n",
       "      <td>2093</td>\n",
       "      <td>1555</td>\n",
       "      <td>2703</td>\n",
       "      <td>2678</td>\n",
       "      <td>2655</td>\n",
       "      <td>2590</td>\n",
       "      <td>2132</td>\n",
       "      <td>865</td>\n",
       "      <td>1545</td>\n",
       "      <td>1478</td>\n",
       "      <td>1580</td>\n",
       "      <td>1641</td>\n",
       "      <td>913</td>\n",
       "    </tr>\n",
       "    <tr>\n",
       "      <th>sitterdorf</th>\n",
       "      <td>0</td>\n",
       "      <td>0</td>\n",
       "      <td>0</td>\n",
       "      <td>0</td>\n",
       "      <td>0</td>\n",
       "      <td>0</td>\n",
       "      <td>0</td>\n",
       "      <td>953</td>\n",
       "      <td>2779</td>\n",
       "      <td>2844</td>\n",
       "      <td>2974</td>\n",
       "      <td>2972</td>\n",
       "      <td>2636</td>\n",
       "      <td>1298</td>\n",
       "    </tr>\n",
       "    <tr>\n",
       "      <th>wiler-turm</th>\n",
       "      <td>0</td>\n",
       "      <td>0</td>\n",
       "      <td>0</td>\n",
       "      <td>0</td>\n",
       "      <td>0</td>\n",
       "      <td>0</td>\n",
       "      <td>780</td>\n",
       "      <td>2842</td>\n",
       "      <td>2598</td>\n",
       "      <td>2180</td>\n",
       "      <td>2374</td>\n",
       "      <td>2409</td>\n",
       "      <td>2235</td>\n",
       "      <td>1162</td>\n",
       "    </tr>\n",
       "  </tbody>\n",
       "</table>\n",
       "</div>"
      ],
      "text/plain": [
       "y-month          2024-02  2024-03  2024-04  2024-05  2024-06  2024-07  \\\n",
       "webcam                                                                  \n",
       "altenrhein             0        0        0        0        0        0   \n",
       "ebenalp                0        0        0        0        0        0   \n",
       "golfclub-erlen         0        0        0        0     1494     2723   \n",
       "kronberg               0        0        0        0        0        2   \n",
       "romanshorn             0        0        0        0        0        0   \n",
       "rorschacherberg     1084     2093     1555     2703     2678     2655   \n",
       "sitterdorf             0        0        0        0        0        0   \n",
       "wiler-turm             0        0        0        0        0        0   \n",
       "\n",
       "y-month          2024-08  2024-09  2024-10  2024-11  2024-12  2025-01  \\\n",
       "webcam                                                                  \n",
       "altenrhein           195     2847     2601     2369     2375     2386   \n",
       "ebenalp              286     2481     2488     2218     2218     2254   \n",
       "golfclub-erlen      2521     2132     1849     1505     1389     1484   \n",
       "kronberg            3081     2840     2603     2371     2368     2405   \n",
       "romanshorn           386     2833     2603     2368     2378     2407   \n",
       "rorschacherberg     2590     2132      865     1545     1478     1580   \n",
       "sitterdorf             0      953     2779     2844     2974     2972   \n",
       "wiler-turm           780     2842     2598     2180     2374     2409   \n",
       "\n",
       "y-month          2025-02  2025-03  \n",
       "webcam                             \n",
       "altenrhein          1913     1143  \n",
       "ebenalp             1802      991  \n",
       "golfclub-erlen      1552      888  \n",
       "kronberg            2246     1136  \n",
       "romanshorn          2290     1154  \n",
       "rorschacherberg     1641      913  \n",
       "sitterdorf          2636     1298  \n",
       "wiler-turm          2235     1162  "
      ]
     },
     "execution_count": 6,
     "metadata": {},
     "output_type": "execute_result"
    }
   ],
   "source": [
    "grouped_by_month = df.copy()\n",
    "grouped_by_month[\"y-month\"] = grouped_by_month[\"timestamp\"].dt.to_period('M')\n",
    "grouped_by_month = grouped_by_month.groupby(['webcam', 'y-month']).size().unstack(fill_value=0)\n",
    "grouped_by_month = grouped_by_month.reindex(sorted(grouped_by_month.columns), axis=1)\n",
    "grouped_by_month"
   ]
  },
  {
   "cell_type": "code",
   "execution_count": 7,
   "metadata": {},
   "outputs": [
    {
     "data": {
      "text/plain": [
       "<Figure size 350x262.5 with 0 Axes>"
      ]
     },
     "metadata": {},
     "output_type": "display_data"
    },
    {
     "data": {
      "image/png": "[encoded data removed]",
      "text/plain": [
       "<Figure size 750x200 with 1 Axes>"
      ]
     },
     "metadata": {},
     "output_type": "display_data"
    }
   ],
   "source": [
    "color_gradient = [\n",
    "    \"#1f77b4\",  # Dark Blue (start)\n",
    "    \"#258fbf\",\n",
    "    \"#2ba7ca\",\n",
    "    \"#31becf\",  # Teal (1st base)\n",
    "    \"#5fcbbe\",\n",
    "    \"#8dd8ae\",  # Light green\n",
    "    \"#a6c68a\",  # Light yellow-green (new transition)\n",
    "    \"#bab86e\",  # Light orange\n",
    "    \"#c6b032\",  # Yellow-green (2nd base)\n",
    "    \"#d1a241\",\n",
    "    \"#e6885d\",\n",
    "    \"#f07a6b\",\n",
    "    \"#f9614d\",   # Orange \n",
    "    \"#f94a3d\"\n",
    "]\n",
    "\n",
    "\n",
    "grouped_sorted = grouped_by_month.loc[grouped_by_month.sum(axis=1).sort_values(ascending=True).index]\n",
    "\n",
    "# Reverse stacking order (newest closer to axis)\n",
    "grouped_sorted = grouped_sorted[grouped_sorted.columns[::-1]]\n",
    "\n",
    "plt.clf()\n",
    "plt.figure(figsize=(FIG_WIDTH, 2))\n",
    "grouped_sorted.plot(kind='barh', stacked=True, ax=plt.gca(), color=color_gradient)\n",
    "\n",
    "plt.yticks(\n",
    "    ticks=range(len(grouped_sorted.index)),\n",
    "    labels=[str(label).title() for label in grouped_sorted.index]\n",
    ")\n",
    "\n",
    "\n",
    "plt.gca().xaxis.set_major_formatter(ticker.ScalarFormatter(useMathText=True))\n",
    "plt.gca().ticklabel_format(axis='x', style='sci', scilimits=(0, 0))\n",
    "\n",
    "plt.xlabel('Image Amount')\n",
    "plt.ylabel('Webcam')\n",
    "\n",
    "plt.grid(True)\n",
    "plt.gca().set_axisbelow(True)\n",
    "\n",
    "plt.legend(title='Year-Month', ncol=2, loc='lower right', handlelength=1, handleheight=1, frameon=True, fontsize=7)\n",
    "plt.tight_layout(pad=0.5)\n",
    "plt.savefig(f\"{TARGET_FOLDER}/amount-per-month.png\", dpi=300)\n",
    "plt.show()\n"
   ]
  },
  {
   "cell_type": "markdown",
   "metadata": {},
   "source": [
    "# lineplot per day over time"
   ]
  },
  {
   "cell_type": "code",
   "execution_count": 8,
   "metadata": {},
   "outputs": [
    {
     "data": {
      "application/vnd.microsoft.datawrangler.viewer.v0+json": {
       "columns": [
        {
         "name": "index",
         "rawType": "int64",
         "type": "integer"
        },
        {
         "name": "webcam",
         "rawType": "object",
         "type": "string"
        },
        {
         "name": "ymd",
         "rawType": "datetime64[ns]",
         "type": "datetime"
        },
        {
         "name": "filename",
         "rawType": "int64",
         "type": "integer"
        },
        {
         "name": "count",
         "rawType": "int64",
         "type": "integer"
        }
       ],
       "conversionMethod": "pd.DataFrame",
       "ref": "1a61f64b-9de8-4224-9f08-4a623c6b4e2b",
       "rows": [
        [
         "0",
         "altenrhein",
         "2024-08-29 00:00:00",
         "1",
         "1"
        ],
        [
         "1",
         "altenrhein",
         "2024-08-30 00:00:00",
         "97",
         "97"
        ],
        [
         "2",
         "altenrhein",
         "2024-08-31 00:00:00",
         "97",
         "97"
        ],
        [
         "3",
         "altenrhein",
         "2024-09-01 00:00:00",
         "97",
         "97"
        ],
        [
         "4",
         "altenrhein",
         "2024-09-02 00:00:00",
         "97",
         "97"
        ],
        [
         "5",
         "altenrhein",
         "2024-09-03 00:00:00",
         "97",
         "97"
        ],
        [
         "6",
         "altenrhein",
         "2024-09-04 00:00:00",
         "97",
         "97"
        ],
        [
         "7",
         "altenrhein",
         "2024-09-05 00:00:00",
         "96",
         "96"
        ],
        [
         "8",
         "altenrhein",
         "2024-09-06 00:00:00",
         "97",
         "97"
        ],
        [
         "9",
         "altenrhein",
         "2024-09-07 00:00:00",
         "97",
         "97"
        ],
        [
         "10",
         "altenrhein",
         "2024-09-08 00:00:00",
         "96",
         "96"
        ],
        [
         "11",
         "altenrhein",
         "2024-09-09 00:00:00",
         "95",
         "95"
        ],
        [
         "12",
         "altenrhein",
         "2024-09-10 00:00:00",
         "95",
         "95"
        ],
        [
         "13",
         "altenrhein",
         "2024-09-11 00:00:00",
         "95",
         "95"
        ],
        [
         "14",
         "altenrhein",
         "2024-09-12 00:00:00",
         "95",
         "95"
        ],
        [
         "15",
         "altenrhein",
         "2024-09-13 00:00:00",
         "95",
         "95"
        ],
        [
         "16",
         "altenrhein",
         "2024-09-14 00:00:00",
         "95",
         "95"
        ],
        [
         "17",
         "altenrhein",
         "2024-09-15 00:00:00",
         "95",
         "95"
        ],
        [
         "18",
         "altenrhein",
         "2024-09-16 00:00:00",
         "95",
         "95"
        ],
        [
         "19",
         "altenrhein",
         "2024-09-17 00:00:00",
         "95",
         "95"
        ],
        [
         "20",
         "altenrhein",
         "2024-09-18 00:00:00",
         "94",
         "94"
        ],
        [
         "21",
         "altenrhein",
         "2024-09-19 00:00:00",
         "97",
         "97"
        ],
        [
         "22",
         "altenrhein",
         "2024-09-20 00:00:00",
         "97",
         "97"
        ],
        [
         "23",
         "altenrhein",
         "2024-09-21 00:00:00",
         "93",
         "93"
        ],
        [
         "24",
         "altenrhein",
         "2024-09-22 00:00:00",
         "95",
         "95"
        ],
        [
         "25",
         "altenrhein",
         "2024-09-23 00:00:00",
         "96",
         "96"
        ],
        [
         "26",
         "altenrhein",
         "2024-09-24 00:00:00",
         "93",
         "93"
        ],
        [
         "27",
         "altenrhein",
         "2024-09-25 00:00:00",
         "91",
         "91"
        ],
        [
         "28",
         "altenrhein",
         "2024-09-26 00:00:00",
         "93",
         "93"
        ],
        [
         "29",
         "altenrhein",
         "2024-09-27 00:00:00",
         "93",
         "93"
        ],
        [
         "30",
         "altenrhein",
         "2024-09-28 00:00:00",
         "92",
         "92"
        ],
        [
         "31",
         "altenrhein",
         "2024-09-29 00:00:00",
         "92",
         "92"
        ],
        [
         "32",
         "altenrhein",
         "2024-09-30 00:00:00",
         "92",
         "92"
        ],
        [
         "33",
         "altenrhein",
         "2024-10-01 00:00:00",
         "91",
         "91"
        ],
        [
         "34",
         "altenrhein",
         "2024-10-02 00:00:00",
         "92",
         "92"
        ],
        [
         "35",
         "altenrhein",
         "2024-10-03 00:00:00",
         "92",
         "92"
        ],
        [
         "36",
         "altenrhein",
         "2024-10-04 00:00:00",
         "92",
         "92"
        ],
        [
         "37",
         "altenrhein",
         "2024-10-05 00:00:00",
         "92",
         "92"
        ],
        [
         "38",
         "altenrhein",
         "2024-10-06 00:00:00",
         "92",
         "92"
        ],
        [
         "39",
         "altenrhein",
         "2024-10-07 00:00:00",
         "91",
         "91"
        ],
        [
         "40",
         "altenrhein",
         "2024-10-08 00:00:00",
         "81",
         "81"
        ],
        [
         "41",
         "altenrhein",
         "2024-10-09 00:00:00",
         "81",
         "81"
        ],
        [
         "42",
         "altenrhein",
         "2024-10-10 00:00:00",
         "81",
         "81"
        ],
        [
         "43",
         "altenrhein",
         "2024-10-11 00:00:00",
         "81",
         "81"
        ],
        [
         "44",
         "altenrhein",
         "2024-10-12 00:00:00",
         "81",
         "81"
        ],
        [
         "45",
         "altenrhein",
         "2024-10-13 00:00:00",
         "81",
         "81"
        ],
        [
         "46",
         "altenrhein",
         "2024-10-14 00:00:00",
         "81",
         "81"
        ],
        [
         "47",
         "altenrhein",
         "2024-10-15 00:00:00",
         "81",
         "81"
        ],
        [
         "48",
         "altenrhein",
         "2024-10-16 00:00:00",
         "81",
         "81"
        ],
        [
         "49",
         "altenrhein",
         "2024-10-17 00:00:00",
         "81",
         "81"
        ]
       ],
       "shape": {
        "columns": 4,
        "rows": 1844
       }
      },
      "text/html": [
       "<div>\n",
       "<style scoped>\n",
       "    .dataframe tbody tr th:only-of-type {\n",
       "        vertical-align: middle;\n",
       "    }\n",
       "\n",
       "    .dataframe tbody tr th {\n",
       "        vertical-align: top;\n",
       "    }\n",
       "\n",
       "    .dataframe thead th {\n",
       "        text-align: right;\n",
       "    }\n",
       "</style>\n",
       "<table border=\"1\" class=\"dataframe\">\n",
       "  <thead>\n",
       "    <tr style=\"text-align: right;\">\n",
       "      <th></th>\n",
       "      <th>webcam</th>\n",
       "      <th>ymd</th>\n",
       "      <th>filename</th>\n",
       "      <th>count</th>\n",
       "    </tr>\n",
       "  </thead>\n",
       "  <tbody>\n",
       "    <tr>\n",
       "      <th>0</th>\n",
       "      <td>altenrhein</td>\n",
       "      <td>2024-08-29</td>\n",
       "      <td>1</td>\n",
       "      <td>1</td>\n",
       "    </tr>\n",
       "    <tr>\n",
       "      <th>1</th>\n",
       "      <td>altenrhein</td>\n",
       "      <td>2024-08-30</td>\n",
       "      <td>97</td>\n",
       "      <td>97</td>\n",
       "    </tr>\n",
       "    <tr>\n",
       "      <th>2</th>\n",
       "      <td>altenrhein</td>\n",
       "      <td>2024-08-31</td>\n",
       "      <td>97</td>\n",
       "      <td>97</td>\n",
       "    </tr>\n",
       "    <tr>\n",
       "      <th>3</th>\n",
       "      <td>altenrhein</td>\n",
       "      <td>2024-09-01</td>\n",
       "      <td>97</td>\n",
       "      <td>97</td>\n",
       "    </tr>\n",
       "    <tr>\n",
       "      <th>4</th>\n",
       "      <td>altenrhein</td>\n",
       "      <td>2024-09-02</td>\n",
       "      <td>97</td>\n",
       "      <td>97</td>\n",
       "    </tr>\n",
       "    <tr>\n",
       "      <th>...</th>\n",
       "      <td>...</td>\n",
       "      <td>...</td>\n",
       "      <td>...</td>\n",
       "      <td>...</td>\n",
       "    </tr>\n",
       "    <tr>\n",
       "      <th>1839</th>\n",
       "      <td>wiler-turm</td>\n",
       "      <td>2025-03-10</td>\n",
       "      <td>86</td>\n",
       "      <td>86</td>\n",
       "    </tr>\n",
       "    <tr>\n",
       "      <th>1840</th>\n",
       "      <td>wiler-turm</td>\n",
       "      <td>2025-03-11</td>\n",
       "      <td>86</td>\n",
       "      <td>86</td>\n",
       "    </tr>\n",
       "    <tr>\n",
       "      <th>1841</th>\n",
       "      <td>wiler-turm</td>\n",
       "      <td>2025-03-12</td>\n",
       "      <td>86</td>\n",
       "      <td>86</td>\n",
       "    </tr>\n",
       "    <tr>\n",
       "      <th>1842</th>\n",
       "      <td>wiler-turm</td>\n",
       "      <td>2025-03-13</td>\n",
       "      <td>86</td>\n",
       "      <td>86</td>\n",
       "    </tr>\n",
       "    <tr>\n",
       "      <th>1843</th>\n",
       "      <td>wiler-turm</td>\n",
       "      <td>2025-03-14</td>\n",
       "      <td>54</td>\n",
       "      <td>54</td>\n",
       "    </tr>\n",
       "  </tbody>\n",
       "</table>\n",
       "<p>1844 rows × 4 columns</p>\n",
       "</div>"
      ],
      "text/plain": [
       "          webcam        ymd  filename  count\n",
       "0     altenrhein 2024-08-29         1      1\n",
       "1     altenrhein 2024-08-30        97     97\n",
       "2     altenrhein 2024-08-31        97     97\n",
       "3     altenrhein 2024-09-01        97     97\n",
       "4     altenrhein 2024-09-02        97     97\n",
       "...          ...        ...       ...    ...\n",
       "1839  wiler-turm 2025-03-10        86     86\n",
       "1840  wiler-turm 2025-03-11        86     86\n",
       "1841  wiler-turm 2025-03-12        86     86\n",
       "1842  wiler-turm 2025-03-13        86     86\n",
       "1843  wiler-turm 2025-03-14        54     54\n",
       "\n",
       "[1844 rows x 4 columns]"
      ]
     },
     "execution_count": 8,
     "metadata": {},
     "output_type": "execute_result"
    }
   ],
   "source": [
    "grouped_by_day = df.copy()\n",
    "grouped_by_day[\"ymd\"] = grouped_by_day[\"timestamp\"].dt.to_period('D')\n",
    "grouped_by_day = grouped_by_day.groupby([\"webcam\", \"ymd\"]).count()\n",
    "grouped_by_day = grouped_by_day.reset_index()\n",
    "grouped_by_day = grouped_by_day.rename(columns={\"timestamp\": \"count\"})\n",
    "grouped_by_day[\"ymd\"] = pd.to_datetime(grouped_by_day[\"ymd\"].astype(str))\n",
    "grouped_by_day"
   ]
  },
  {
   "cell_type": "code",
   "execution_count": 9,
   "metadata": {},
   "outputs": [
    {
     "data": {
      "text/plain": [
       "78.75445474906877"
      ]
     },
     "execution_count": 9,
     "metadata": {},
     "output_type": "execute_result"
    }
   ],
   "source": [
    "grouped_by_day.groupby([\"webcam\"]).mean()[\"count\"].mean()"
   ]
  },
  {
   "cell_type": "code",
   "execution_count": 10,
   "metadata": {},
   "outputs": [
    {
     "data": {
      "text/plain": [
       "<Figure size 350x262.5 with 0 Axes>"
      ]
     },
     "metadata": {},
     "output_type": "display_data"
    },
    {
     "data": {
      "image/png": "[encoded data removed]",
      "text/plain": [
       "<Figure size 750x300 with 1 Axes>"
      ]
     },
     "metadata": {},
     "output_type": "display_data"
    }
   ],
   "source": [
    "plt.clf()\n",
    "plt.figure(figsize=(FIG_WIDTH, 3))\n",
    "for webcam, data in grouped_by_day.groupby(\"webcam\"):\n",
    "    plt.plot(data[\"ymd\"], data[\"count\"], label=webcam, color=wbc_cmap[webcam])     #, marker='.')\n",
    "    # plt.scatter(data[\"ymd\"], data[\"count\"], label=webcam, s=7)\n",
    "\n",
    "plt.xlabel(\"Date\")\n",
    "plt.ylabel(\"Daily Image Amount\")\n",
    "# plt.title(\"Image Amount per Day\")\n",
    "\n",
    "plt.grid(True)\n",
    "plt.gca().set_axisbelow(True)\n",
    "\n",
    "handles = [plt.Rectangle((0,0),1,1, color=wbc_cmap[wbc]) for wbc in webcams]\n",
    "plt.legend(handles, [w.title() for w in webcams], frameon=True, loc='lower center', handlelength=1, handleheight=1, fontsize=\"small\", ncol=4)\n",
    "\n",
    "plt.tight_layout(pad=0.5)\n",
    "plt.savefig(f\"{TARGET_FOLDER}/amount-per-day.png\", dpi=300)\n",
    "plt.show()"
   ]
  },
  {
   "cell_type": "code",
   "execution_count": 11,
   "metadata": {},
   "outputs": [
    {
     "data": {
      "application/vnd.microsoft.datawrangler.viewer.v0+json": {
       "columns": [
        {
         "name": "index",
         "rawType": "int64",
         "type": "integer"
        },
        {
         "name": "webcam",
         "rawType": "object",
         "type": "string"
        },
        {
         "name": "ymd",
         "rawType": "datetime64[ns]",
         "type": "datetime"
        },
        {
         "name": "filename",
         "rawType": "int64",
         "type": "integer"
        },
        {
         "name": "count",
         "rawType": "int64",
         "type": "integer"
        }
       ],
       "conversionMethod": "pd.DataFrame",
       "ref": "0f0583c5-d056-4104-8262-f897c8f4cea8",
       "rows": [
        [
         "1466",
         "sitterdorf",
         "2024-09-19 00:00:00",
         "46",
         "46"
        ],
        [
         "1467",
         "sitterdorf",
         "2024-09-20 00:00:00",
         "83",
         "83"
        ],
        [
         "1468",
         "sitterdorf",
         "2024-09-21 00:00:00",
         "76",
         "76"
        ],
        [
         "1469",
         "sitterdorf",
         "2024-09-22 00:00:00",
         "78",
         "78"
        ],
        [
         "1470",
         "sitterdorf",
         "2024-09-23 00:00:00",
         "74",
         "74"
        ],
        [
         "1471",
         "sitterdorf",
         "2024-09-24 00:00:00",
         "73",
         "73"
        ],
        [
         "1472",
         "sitterdorf",
         "2024-09-25 00:00:00",
         "73",
         "73"
        ],
        [
         "1473",
         "sitterdorf",
         "2024-09-26 00:00:00",
         "90",
         "90"
        ],
        [
         "1474",
         "sitterdorf",
         "2024-09-27 00:00:00",
         "90",
         "90"
        ],
        [
         "1475",
         "sitterdorf",
         "2024-09-28 00:00:00",
         "90",
         "90"
        ],
        [
         "1476",
         "sitterdorf",
         "2024-09-29 00:00:00",
         "90",
         "90"
        ],
        [
         "1477",
         "sitterdorf",
         "2024-09-30 00:00:00",
         "90",
         "90"
        ],
        [
         "1478",
         "sitterdorf",
         "2024-10-01 00:00:00",
         "90",
         "90"
        ],
        [
         "1479",
         "sitterdorf",
         "2024-10-02 00:00:00",
         "90",
         "90"
        ],
        [
         "1480",
         "sitterdorf",
         "2024-10-03 00:00:00",
         "90",
         "90"
        ],
        [
         "1481",
         "sitterdorf",
         "2024-10-04 00:00:00",
         "90",
         "90"
        ],
        [
         "1482",
         "sitterdorf",
         "2024-10-05 00:00:00",
         "90",
         "90"
        ],
        [
         "1483",
         "sitterdorf",
         "2024-10-06 00:00:00",
         "90",
         "90"
        ],
        [
         "1484",
         "sitterdorf",
         "2024-10-07 00:00:00",
         "89",
         "89"
        ],
        [
         "1485",
         "sitterdorf",
         "2024-10-08 00:00:00",
         "90",
         "90"
        ],
        [
         "1486",
         "sitterdorf",
         "2024-10-09 00:00:00",
         "88",
         "88"
        ],
        [
         "1487",
         "sitterdorf",
         "2024-10-10 00:00:00",
         "90",
         "90"
        ],
        [
         "1488",
         "sitterdorf",
         "2024-10-11 00:00:00",
         "89",
         "89"
        ],
        [
         "1489",
         "sitterdorf",
         "2024-10-12 00:00:00",
         "89",
         "89"
        ],
        [
         "1490",
         "sitterdorf",
         "2024-10-13 00:00:00",
         "90",
         "90"
        ],
        [
         "1491",
         "sitterdorf",
         "2024-10-14 00:00:00",
         "87",
         "87"
        ],
        [
         "1492",
         "sitterdorf",
         "2024-10-15 00:00:00",
         "90",
         "90"
        ],
        [
         "1493",
         "sitterdorf",
         "2024-10-16 00:00:00",
         "90",
         "90"
        ],
        [
         "1494",
         "sitterdorf",
         "2024-10-17 00:00:00",
         "90",
         "90"
        ],
        [
         "1495",
         "sitterdorf",
         "2024-10-18 00:00:00",
         "90",
         "90"
        ],
        [
         "1496",
         "sitterdorf",
         "2024-10-19 00:00:00",
         "90",
         "90"
        ],
        [
         "1497",
         "sitterdorf",
         "2024-10-20 00:00:00",
         "90",
         "90"
        ],
        [
         "1498",
         "sitterdorf",
         "2024-10-21 00:00:00",
         "90",
         "90"
        ],
        [
         "1499",
         "sitterdorf",
         "2024-10-22 00:00:00",
         "90",
         "90"
        ],
        [
         "1500",
         "sitterdorf",
         "2024-10-23 00:00:00",
         "90",
         "90"
        ],
        [
         "1501",
         "sitterdorf",
         "2024-10-24 00:00:00",
         "90",
         "90"
        ],
        [
         "1502",
         "sitterdorf",
         "2024-10-25 00:00:00",
         "89",
         "89"
        ],
        [
         "1503",
         "sitterdorf",
         "2024-10-26 00:00:00",
         "90",
         "90"
        ],
        [
         "1504",
         "sitterdorf",
         "2024-10-27 00:00:00",
         "90",
         "90"
        ],
        [
         "1505",
         "sitterdorf",
         "2024-10-28 00:00:00",
         "90",
         "90"
        ],
        [
         "1506",
         "sitterdorf",
         "2024-10-29 00:00:00",
         "90",
         "90"
        ],
        [
         "1507",
         "sitterdorf",
         "2024-10-30 00:00:00",
         "90",
         "90"
        ],
        [
         "1508",
         "sitterdorf",
         "2024-10-31 00:00:00",
         "88",
         "88"
        ],
        [
         "1509",
         "sitterdorf",
         "2024-11-01 00:00:00",
         "90",
         "90"
        ],
        [
         "1510",
         "sitterdorf",
         "2024-11-02 00:00:00",
         "90",
         "90"
        ],
        [
         "1511",
         "sitterdorf",
         "2024-11-03 00:00:00",
         "90",
         "90"
        ],
        [
         "1512",
         "sitterdorf",
         "2024-11-04 00:00:00",
         "90",
         "90"
        ],
        [
         "1513",
         "sitterdorf",
         "2024-11-05 00:00:00",
         "89",
         "89"
        ],
        [
         "1514",
         "sitterdorf",
         "2024-11-06 00:00:00",
         "96",
         "96"
        ],
        [
         "1515",
         "sitterdorf",
         "2024-11-07 00:00:00",
         "96",
         "96"
        ]
       ],
       "shape": {
        "columns": 4,
        "rows": 177
       }
      },
      "text/html": [
       "<div>\n",
       "<style scoped>\n",
       "    .dataframe tbody tr th:only-of-type {\n",
       "        vertical-align: middle;\n",
       "    }\n",
       "\n",
       "    .dataframe tbody tr th {\n",
       "        vertical-align: top;\n",
       "    }\n",
       "\n",
       "    .dataframe thead th {\n",
       "        text-align: right;\n",
       "    }\n",
       "</style>\n",
       "<table border=\"1\" class=\"dataframe\">\n",
       "  <thead>\n",
       "    <tr style=\"text-align: right;\">\n",
       "      <th></th>\n",
       "      <th>webcam</th>\n",
       "      <th>ymd</th>\n",
       "      <th>filename</th>\n",
       "      <th>count</th>\n",
       "    </tr>\n",
       "  </thead>\n",
       "  <tbody>\n",
       "    <tr>\n",
       "      <th>1466</th>\n",
       "      <td>sitterdorf</td>\n",
       "      <td>2024-09-19</td>\n",
       "      <td>46</td>\n",
       "      <td>46</td>\n",
       "    </tr>\n",
       "    <tr>\n",
       "      <th>1467</th>\n",
       "      <td>sitterdorf</td>\n",
       "      <td>2024-09-20</td>\n",
       "      <td>83</td>\n",
       "      <td>83</td>\n",
       "    </tr>\n",
       "    <tr>\n",
       "      <th>1468</th>\n",
       "      <td>sitterdorf</td>\n",
       "      <td>2024-09-21</td>\n",
       "      <td>76</td>\n",
       "      <td>76</td>\n",
       "    </tr>\n",
       "    <tr>\n",
       "      <th>1469</th>\n",
       "      <td>sitterdorf</td>\n",
       "      <td>2024-09-22</td>\n",
       "      <td>78</td>\n",
       "      <td>78</td>\n",
       "    </tr>\n",
       "    <tr>\n",
       "      <th>1470</th>\n",
       "      <td>sitterdorf</td>\n",
       "      <td>2024-09-23</td>\n",
       "      <td>74</td>\n",
       "      <td>74</td>\n",
       "    </tr>\n",
       "    <tr>\n",
       "      <th>...</th>\n",
       "      <td>...</td>\n",
       "      <td>...</td>\n",
       "      <td>...</td>\n",
       "      <td>...</td>\n",
       "    </tr>\n",
       "    <tr>\n",
       "      <th>1638</th>\n",
       "      <td>sitterdorf</td>\n",
       "      <td>2025-03-10</td>\n",
       "      <td>96</td>\n",
       "      <td>96</td>\n",
       "    </tr>\n",
       "    <tr>\n",
       "      <th>1639</th>\n",
       "      <td>sitterdorf</td>\n",
       "      <td>2025-03-11</td>\n",
       "      <td>96</td>\n",
       "      <td>96</td>\n",
       "    </tr>\n",
       "    <tr>\n",
       "      <th>1640</th>\n",
       "      <td>sitterdorf</td>\n",
       "      <td>2025-03-12</td>\n",
       "      <td>96</td>\n",
       "      <td>96</td>\n",
       "    </tr>\n",
       "    <tr>\n",
       "      <th>1641</th>\n",
       "      <td>sitterdorf</td>\n",
       "      <td>2025-03-13</td>\n",
       "      <td>96</td>\n",
       "      <td>96</td>\n",
       "    </tr>\n",
       "    <tr>\n",
       "      <th>1642</th>\n",
       "      <td>sitterdorf</td>\n",
       "      <td>2025-03-14</td>\n",
       "      <td>51</td>\n",
       "      <td>51</td>\n",
       "    </tr>\n",
       "  </tbody>\n",
       "</table>\n",
       "<p>177 rows × 4 columns</p>\n",
       "</div>"
      ],
      "text/plain": [
       "          webcam        ymd  filename  count\n",
       "1466  sitterdorf 2024-09-19        46     46\n",
       "1467  sitterdorf 2024-09-20        83     83\n",
       "1468  sitterdorf 2024-09-21        76     76\n",
       "1469  sitterdorf 2024-09-22        78     78\n",
       "1470  sitterdorf 2024-09-23        74     74\n",
       "...          ...        ...       ...    ...\n",
       "1638  sitterdorf 2025-03-10        96     96\n",
       "1639  sitterdorf 2025-03-11        96     96\n",
       "1640  sitterdorf 2025-03-12        96     96\n",
       "1641  sitterdorf 2025-03-13        96     96\n",
       "1642  sitterdorf 2025-03-14        51     51\n",
       "\n",
       "[177 rows x 4 columns]"
      ]
     },
     "execution_count": 11,
     "metadata": {},
     "output_type": "execute_result"
    }
   ],
   "source": [
    "grouped_by_day[grouped_by_day['webcam'] == \"sitterdorf\"]"
   ]
  },
  {
   "cell_type": "code",
   "execution_count": 12,
   "metadata": {},
   "outputs": [
    {
     "data": {
      "text/plain": [
       "<Figure size 350x262.5 with 0 Axes>"
      ]
     },
     "metadata": {},
     "output_type": "display_data"
    },
    {
     "data": {
      "image/png": "[encoded data removed]",
      "text/plain": [
       "<Figure size 750x200 with 1 Axes>"
      ]
     },
     "metadata": {},
     "output_type": "display_data"
    }
   ],
   "source": [
    "# clear previous plot\n",
    "plt.clf()\n",
    "\n",
    "plt.figure(figsize=(FIG_WIDTH, 2))\n",
    "# plt.title('Distribution of webcam images per day')\n",
    "plt.xlabel('Daily Image Amount')\n",
    "plt.ylabel('Webcam')\n",
    "plt.grid(True)\n",
    "plt.gca().set_axisbelow(True)\n",
    "plt.boxplot(\n",
    "    [grouped_by_day[grouped_by_day[\"webcam\"] == wbc][\"count\"] for wbc in list(reversed(webcams))],\n",
    "    vert=False,\n",
    "    tick_labels=[w.title() for w in reversed(webcams)],\n",
    "    patch_artist=True,\n",
    "    boxprops=dict(facecolor='white', color='black'),\n",
    "    medianprops=dict(color='red'),\n",
    "    flierprops=dict(marker='o', markersize=1, markerfacecolor='black', linestyle='none', alpha=0.2),\n",
    ")\n",
    "\n",
    "plt.tight_layout(pad=0.5)\n",
    "plt.savefig(f\"{TARGET_FOLDER}/amount-boxplot-per-day.png\", dpi=300)\n",
    "plt.show()\n"
   ]
  },
  {
   "cell_type": "markdown",
   "metadata": {},
   "source": [
    "💡 inherently due to having more data, i.e. summer+winter, some locations have more/less variance than others"
   ]
  },
  {
   "cell_type": "markdown",
   "metadata": {},
   "source": [
    "# lineplot cumulative sum  over time"
   ]
  },
  {
   "cell_type": "code",
   "execution_count": 13,
   "metadata": {},
   "outputs": [],
   "source": [
    "grouped_by_day[\"cumsum\"] = grouped_by_day.groupby(\"webcam\")[\"count\"].cumsum()"
   ]
  },
  {
   "cell_type": "code",
   "execution_count": 14,
   "metadata": {},
   "outputs": [],
   "source": [
    "totals = {}\n",
    "for wbc in grouped_by_day[\"webcam\"].unique():\n",
    "    totals[wbc] = grouped_by_day[grouped_by_day[\"webcam\"] == wbc][\"cumsum\"].max()\n",
    "sorted_list_keys = sorted(totals, key=totals.get, reverse=True)"
   ]
  },
  {
   "cell_type": "code",
   "execution_count": 18,
   "metadata": {},
   "outputs": [
    {
     "data": {
      "image/png": "[encoded data removed]",
      "text/plain": [
       "<Figure size 750x300 with 1 Axes>"
      ]
     },
     "metadata": {},
     "output_type": "display_data"
    }
   ],
   "source": [
    "# Plot\n",
    "plt.figure(figsize=(FIG_WIDTH, 3))\n",
    "for wbc in webcams:\n",
    "    data = grouped_by_day[grouped_by_day[\"webcam\"] == wbc]\n",
    "    plt.plot(data[\"ymd\"], data[\"cumsum\"], label=wbc, linewidth=2, color=wbc_cmap[wbc]) #, marker='.')\n",
    "\n",
    "plt.xlabel(\"Date\")\n",
    "plt.ylabel(\"Image Amount\")\n",
    "plt.title(\"Cumulative Sum of Image Counts per Webcam Over Time\")\n",
    "\n",
    "handles = [plt.Rectangle((0,0),1,1, color=wbc_cmap[wbc]) for wbc in webcams]\n",
    "plt.legend(handles, [w.title() for w in webcams])\n",
    "\n",
    "plt.grid(True, linestyle='--', alpha=0.6, axis=\"y\")\n",
    "plt.show()\n"
   ]
  },
  {
   "cell_type": "markdown",
   "metadata": {},
   "source": [
    "# Stacked area chart / cumsum over time"
   ]
  },
  {
   "cell_type": "code",
   "execution_count": 16,
   "metadata": {},
   "outputs": [],
   "source": [
    "# labels for stackplot\n",
    "totals_sorted = sorted(totals.items(), key=lambda x: x[1])\n",
    "data_labels, values = zip(*totals_sorted)\n",
    "cumulative_values = np.cumsum(values)"
   ]
  },
  {
   "cell_type": "code",
   "execution_count": 19,
   "metadata": {},
   "outputs": [
    {
     "data": {
      "image/png": "[encoded data removed]",
      "text/plain": [
       "<Figure size 750x300 with 1 Axes>"
      ]
     },
     "metadata": {},
     "output_type": "display_data"
    }
   ],
   "source": [
    "pivot_df = grouped_by_day.pivot(index=\"ymd\", columns=\"webcam\", values=\"cumsum\").ffill()\n",
    "pivot_df = pivot_df[sorted_list_keys[::-1]]  # Reorder columns\n",
    "pivot_df = pivot_df.fillna(0)\n",
    "\n",
    "\n",
    "plt.figure(figsize=(FIG_WIDTH, 3))\n",
    "plt.stackplot(pivot_df.index, pivot_df.T, labels=pivot_df.columns, alpha=0.8, colors=[wbc_cmap[wbc] for wbc in pivot_df.columns])\n",
    "\n",
    "for i in range(len(data_labels)):\n",
    "    plt.text(\n",
    "      pivot_df.index[-12],  # Position at the end of the line\n",
    "      cumulative_values[i] - 7000,  # Adjust for spacing\n",
    "      f\"{values[i]:,}\",  # Format with thousands separator\n",
    "      color=wbc_cmap[data_labels[i]], \n",
    "      fontsize=10, \n",
    "      weight='heavy',\n",
    "      bbox=dict(facecolor='white', edgecolor='none', alpha=0.8)  # Background box\n",
    "    )\n",
    "\n",
    "# Labels and title\n",
    "plt.xlabel(\"Date\")\n",
    "plt.ylabel(\"Image Amount\")\n",
    "# plt.title(\"Cumulative Sum of Image Counts per Webcam Over Time\")\n",
    "\n",
    "plt.gca().yaxis.set_major_formatter(ticker.ScalarFormatter(useMathText=True))\n",
    "plt.gca().ticklabel_format(axis='y', style='sci', scilimits=(0, 0))\n",
    "\n",
    "handles = [plt.Rectangle((0,0),1,1, color=wbc_cmap[wbc]) for wbc in webcams]\n",
    "plt.legend(handles, [w.title() for w in webcams], frameon=True, loc='upper left', handlelength=1, handleheight=1)\n",
    "\n",
    "plt.grid(True)\n",
    "plt.gca().set_axisbelow(True)\n",
    "\n",
    "plt.tight_layout(pad=0.5)\n",
    "plt.savefig(f\"{TARGET_FOLDER}/amount_cumsum.png\", dpi=300)\n",
    "\n",
    "plt.show()"
   ]
  }
 ],
 "metadata": {
  "kernelspec": {
   "display_name": "mthesis_env",
   "language": "python",
   "name": "python3"
  },
  "language_info": {
   "codemirror_mode": {
    "name": "ipython",
    "version": 3
   },
   "file_extension": ".py",
   "mimetype": "text/x-python",
   "name": "python",
   "nbconvert_exporter": "python",
   "pygments_lexer": "ipython3",
   "version": "3.12.3"
  }
 },
 "nbformat": 4,
 "nbformat_minor": 2
}
