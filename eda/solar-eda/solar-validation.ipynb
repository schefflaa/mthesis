{
 "cells": [
  {
   "cell_type": "code",
   "execution_count": 1,
   "metadata": {},
   "outputs": [],
   "source": [
    "import pandas as pd\n",
    "import numpy as np\n",
    "import datetime as dt\n",
    "import matplotlib.pyplot as plt\n",
    "import matplotlib.ticker as ticker\n",
    "import time"
   ]
  },
  {
   "cell_type": "code",
   "execution_count": 2,
   "metadata": {},
   "outputs": [],
   "source": [
    "from astral.sun import sun # https://astral.readthedocs.io/en/latest/\n",
    "from astral import LocationInfo\n",
    "stgallen_city = LocationInfo('St. Gallen', 'Switzerland', 'Europe/Zurich', 47.424492554512014, 9.376722938498643)"
   ]
  },
  {
   "cell_type": "code",
   "execution_count": 3,
   "metadata": {},
   "outputs": [],
   "source": [
    "solar = pd.read_csv('../../data/strom-stg-bismaerz25.csv', sep=';', encoding='utf-8', low_memory=False, parse_dates=['DateTime (Local Time)'])"
   ]
  },
  {
   "cell_type": "markdown",
   "metadata": {},
   "source": [
    "# Missing"
   ]
  },
  {
   "cell_type": "code",
   "execution_count": 4,
   "metadata": {},
   "outputs": [],
   "source": [
    "solar['datetime'] = solar[\"DateTime (Local Time)\"].apply(lambda x: dt.datetime(x.year,x.month,x.day,x.hour,x.minute))"
   ]
  },
  {
   "cell_type": "code",
   "execution_count": 5,
   "metadata": {},
   "outputs": [],
   "source": [
    "solarsubset = solar[(solar[\"Name\"] == \"Werkhof St.Galler Stadtwerke\") & (solar[\"Name des Smart-Me Zählers\"] == \"PV Steinachstrasse 49\")].copy()"
   ]
  },
  {
   "cell_type": "code",
   "execution_count": 6,
   "metadata": {},
   "outputs": [
    {
     "data": {
      "application/vnd.microsoft.datawrangler.viewer.v0+json": {
       "columns": [
        {
         "name": "index",
         "rawType": "object",
         "type": "string"
        },
        {
         "name": "Additional Energy Import",
         "rawType": "float64",
         "type": "float"
        },
        {
         "name": "Active Energy Import Total",
         "rawType": "float64",
         "type": "float"
        },
        {
         "name": "Additional Energy Export",
         "rawType": "float64",
         "type": "float"
        },
        {
         "name": "Active Energy Export Total",
         "rawType": "float64",
         "type": "float"
        },
        {
         "name": "Leistung in kWp",
         "rawType": "float64",
         "type": "float"
        },
        {
         "name": "Anzahl Module",
         "rawType": "float64",
         "type": "float"
        },
        {
         "name": "Wechselrichterleistung in kVA",
         "rawType": "float64",
         "type": "float"
        },
        {
         "name": "Fläche in m2",
         "rawType": "float64",
         "type": "float"
        },
        {
         "name": "datetime",
         "rawType": "object",
         "type": "unknown"
        }
       ],
       "conversionMethod": "pd.DataFrame",
       "ref": "1be8e93c-9880-47f0-9b97-048cbb68622c",
       "rows": [
        [
         "count",
         "77049.0",
         "77049.0",
         "77049.0",
         "77049.0",
         "77049.0",
         "77049.0",
         "77049.0",
         "77049.0",
         "77049"
        ],
        [
         "mean",
         "0.6418719126789445",
         "12314.551852807956",
         "1910.4773581227532",
         "51999337.16474463",
         "21.779999999999998",
         "198.0",
         "20.0",
         "178.0",
         "2024-02-06 08:01:40.130046976"
        ],
        [
         "min",
         "0.0",
         "11928.606",
         "0.0",
         "32352354.014",
         "21.78",
         "198.0",
         "20.0",
         "178.0",
         "2023-01-01 00:00:00"
        ],
        [
         "25%",
         "0.0",
         "12092.211",
         "0.0",
         "43502260.817",
         "21.78",
         "198.0",
         "20.0",
         "178.0",
         "2023-07-20 16:30:00"
        ],
        [
         "50%",
         "0.0",
         "12278.319",
         "0.0",
         "51126404.593",
         "21.78",
         "198.0",
         "20.0",
         "178.0",
         "2024-02-06 07:45:00"
        ],
        [
         "75%",
         "0.0",
         "12566.423",
         "510.0260000005365",
         "63316396.732",
         "21.78",
         "198.0",
         "20.0",
         "178.0",
         "2024-08-24 23:45:00"
        ],
        [
         "max",
         "12474.352",
         "12719.668",
         "39108733.328",
         "69438635.579",
         "21.78",
         "198.0",
         "20.0",
         "178.0",
         "2025-03-13 14:49:00"
        ],
        [
         "std",
         "87.67976809027944",
         "244.37045187222097",
         "211905.2962293655",
         "11456308.853760326",
         "3.552736733922965e-15",
         "0.0",
         "0.0",
         "0.0",
         null
        ]
       ],
       "shape": {
        "columns": 9,
        "rows": 8
       }
      },
      "text/html": [
       "<div>\n",
       "<style scoped>\n",
       "    .dataframe tbody tr th:only-of-type {\n",
       "        vertical-align: middle;\n",
       "    }\n",
       "\n",
       "    .dataframe tbody tr th {\n",
       "        vertical-align: top;\n",
       "    }\n",
       "\n",
       "    .dataframe thead th {\n",
       "        text-align: right;\n",
       "    }\n",
       "</style>\n",
       "<table border=\"1\" class=\"dataframe\">\n",
       "  <thead>\n",
       "    <tr style=\"text-align: right;\">\n",
       "      <th></th>\n",
       "      <th>Additional Energy Import</th>\n",
       "      <th>Active Energy Import Total</th>\n",
       "      <th>Additional Energy Export</th>\n",
       "      <th>Active Energy Export Total</th>\n",
       "      <th>Leistung in kWp</th>\n",
       "      <th>Anzahl Module</th>\n",
       "      <th>Wechselrichterleistung in kVA</th>\n",
       "      <th>Fläche in m2</th>\n",
       "      <th>datetime</th>\n",
       "    </tr>\n",
       "  </thead>\n",
       "  <tbody>\n",
       "    <tr>\n",
       "      <th>count</th>\n",
       "      <td>77049.000000</td>\n",
       "      <td>77049.000000</td>\n",
       "      <td>7.704900e+04</td>\n",
       "      <td>7.704900e+04</td>\n",
       "      <td>7.704900e+04</td>\n",
       "      <td>77049.0</td>\n",
       "      <td>77049.0</td>\n",
       "      <td>77049.0</td>\n",
       "      <td>77049</td>\n",
       "    </tr>\n",
       "    <tr>\n",
       "      <th>mean</th>\n",
       "      <td>0.641872</td>\n",
       "      <td>12314.551853</td>\n",
       "      <td>1.910477e+03</td>\n",
       "      <td>5.199934e+07</td>\n",
       "      <td>2.178000e+01</td>\n",
       "      <td>198.0</td>\n",
       "      <td>20.0</td>\n",
       "      <td>178.0</td>\n",
       "      <td>2024-02-06 08:01:40.130046976</td>\n",
       "    </tr>\n",
       "    <tr>\n",
       "      <th>min</th>\n",
       "      <td>0.000000</td>\n",
       "      <td>11928.606000</td>\n",
       "      <td>0.000000e+00</td>\n",
       "      <td>3.235235e+07</td>\n",
       "      <td>2.178000e+01</td>\n",
       "      <td>198.0</td>\n",
       "      <td>20.0</td>\n",
       "      <td>178.0</td>\n",
       "      <td>2023-01-01 00:00:00</td>\n",
       "    </tr>\n",
       "    <tr>\n",
       "      <th>25%</th>\n",
       "      <td>0.000000</td>\n",
       "      <td>12092.211000</td>\n",
       "      <td>0.000000e+00</td>\n",
       "      <td>4.350226e+07</td>\n",
       "      <td>2.178000e+01</td>\n",
       "      <td>198.0</td>\n",
       "      <td>20.0</td>\n",
       "      <td>178.0</td>\n",
       "      <td>2023-07-20 16:30:00</td>\n",
       "    </tr>\n",
       "    <tr>\n",
       "      <th>50%</th>\n",
       "      <td>0.000000</td>\n",
       "      <td>12278.319000</td>\n",
       "      <td>0.000000e+00</td>\n",
       "      <td>5.112640e+07</td>\n",
       "      <td>2.178000e+01</td>\n",
       "      <td>198.0</td>\n",
       "      <td>20.0</td>\n",
       "      <td>178.0</td>\n",
       "      <td>2024-02-06 07:45:00</td>\n",
       "    </tr>\n",
       "    <tr>\n",
       "      <th>75%</th>\n",
       "      <td>0.000000</td>\n",
       "      <td>12566.423000</td>\n",
       "      <td>5.100260e+02</td>\n",
       "      <td>6.331640e+07</td>\n",
       "      <td>2.178000e+01</td>\n",
       "      <td>198.0</td>\n",
       "      <td>20.0</td>\n",
       "      <td>178.0</td>\n",
       "      <td>2024-08-24 23:45:00</td>\n",
       "    </tr>\n",
       "    <tr>\n",
       "      <th>max</th>\n",
       "      <td>12474.352000</td>\n",
       "      <td>12719.668000</td>\n",
       "      <td>3.910873e+07</td>\n",
       "      <td>6.943864e+07</td>\n",
       "      <td>2.178000e+01</td>\n",
       "      <td>198.0</td>\n",
       "      <td>20.0</td>\n",
       "      <td>178.0</td>\n",
       "      <td>2025-03-13 14:49:00</td>\n",
       "    </tr>\n",
       "    <tr>\n",
       "      <th>std</th>\n",
       "      <td>87.679768</td>\n",
       "      <td>244.370452</td>\n",
       "      <td>2.119053e+05</td>\n",
       "      <td>1.145631e+07</td>\n",
       "      <td>3.552737e-15</td>\n",
       "      <td>0.0</td>\n",
       "      <td>0.0</td>\n",
       "      <td>0.0</td>\n",
       "      <td>NaN</td>\n",
       "    </tr>\n",
       "  </tbody>\n",
       "</table>\n",
       "</div>"
      ],
      "text/plain": [
       "       Additional Energy Import  Active Energy Import Total  \\\n",
       "count              77049.000000                77049.000000   \n",
       "mean                   0.641872                12314.551853   \n",
       "min                    0.000000                11928.606000   \n",
       "25%                    0.000000                12092.211000   \n",
       "50%                    0.000000                12278.319000   \n",
       "75%                    0.000000                12566.423000   \n",
       "max                12474.352000                12719.668000   \n",
       "std                   87.679768                  244.370452   \n",
       "\n",
       "       Additional Energy Export  Active Energy Export Total  Leistung in kWp  \\\n",
       "count              7.704900e+04                7.704900e+04     7.704900e+04   \n",
       "mean               1.910477e+03                5.199934e+07     2.178000e+01   \n",
       "min                0.000000e+00                3.235235e+07     2.178000e+01   \n",
       "25%                0.000000e+00                4.350226e+07     2.178000e+01   \n",
       "50%                0.000000e+00                5.112640e+07     2.178000e+01   \n",
       "75%                5.100260e+02                6.331640e+07     2.178000e+01   \n",
       "max                3.910873e+07                6.943864e+07     2.178000e+01   \n",
       "std                2.119053e+05                1.145631e+07     3.552737e-15   \n",
       "\n",
       "       Anzahl Module  Wechselrichterleistung in kVA  Fläche in m2  \\\n",
       "count        77049.0                        77049.0       77049.0   \n",
       "mean           198.0                           20.0         178.0   \n",
       "min            198.0                           20.0         178.0   \n",
       "25%            198.0                           20.0         178.0   \n",
       "50%            198.0                           20.0         178.0   \n",
       "75%            198.0                           20.0         178.0   \n",
       "max            198.0                           20.0         178.0   \n",
       "std              0.0                            0.0           0.0   \n",
       "\n",
       "                            datetime  \n",
       "count                          77049  \n",
       "mean   2024-02-06 08:01:40.130046976  \n",
       "min              2023-01-01 00:00:00  \n",
       "25%              2023-07-20 16:30:00  \n",
       "50%              2024-02-06 07:45:00  \n",
       "75%              2024-08-24 23:45:00  \n",
       "max              2025-03-13 14:49:00  \n",
       "std                              NaN  "
      ]
     },
     "execution_count": 6,
     "metadata": {},
     "output_type": "execute_result"
    }
   ],
   "source": [
    "solarsubset.describe()"
   ]
  },
  {
   "cell_type": "code",
   "execution_count": 7,
   "metadata": {},
   "outputs": [],
   "source": [
    "solarsubset.sort_values(\"datetime\", inplace=True)\n",
    "solarsubset.reset_index(inplace=True)"
   ]
  },
  {
   "cell_type": "code",
   "execution_count": 8,
   "metadata": {},
   "outputs": [
    {
     "name": "stdout",
     "output_type": "stream",
     "text": [
      "Missing: 9 \n",
      "DatetimeIndex(['2023-03-26 02:00:00', '2023-03-26 02:15:00',\n",
      "               '2023-03-26 02:30:00', '2023-03-26 02:45:00',\n",
      "               '2024-02-22 08:00:00', '2024-03-31 02:00:00',\n",
      "               '2024-03-31 02:15:00', '2024-03-31 02:30:00',\n",
      "               '2024-03-31 02:45:00'],\n",
      "              dtype='datetime64[ns]', freq=None)\n",
      "Too much: 6 \n",
      "35036   2023-12-31 23:58:00\n",
      "40061   2024-02-22 07:51:00\n",
      "54909   2024-07-26 00:57:00\n",
      "55482   2024-07-31 23:58:00\n",
      "70171   2024-12-31 23:59:00\n",
      "77048   2025-03-13 14:49:00\n",
      "Name: datetime, dtype: datetime64[ns]\n"
     ]
    }
   ],
   "source": [
    "idx = pd.date_range(solarsubset[\"datetime\"].min(), solarsubset[\"datetime\"].max(), freq='15min')\n",
    "missing = idx[~idx.isin(solarsubset[\"datetime\"])]\n",
    "toomuch = solarsubset[\"datetime\"][~solarsubset[\"datetime\"].isin(idx)]\n",
    "print(f\"Missing: {len(missing)} \\n{missing}\")\n",
    "print(f\"Too much: {len(toomuch)} \\n{toomuch}\")"
   ]
  },
  {
   "cell_type": "code",
   "execution_count": 9,
   "metadata": {},
   "outputs": [
    {
     "data": {
      "text/plain": [
       "(77052, 77049, 9, 6)"
      ]
     },
     "execution_count": 9,
     "metadata": {},
     "output_type": "execute_result"
    }
   ],
   "source": [
    "len(idx), len(solarsubset[\"datetime\"]), len(missing), len(toomuch)"
   ]
  },
  {
   "cell_type": "code",
   "execution_count": 10,
   "metadata": {},
   "outputs": [],
   "source": [
    "# 9 \"wrong\""
   ]
  },
  {
   "cell_type": "markdown",
   "metadata": {},
   "source": [
    "# Wrong Readings"
   ]
  },
  {
   "cell_type": "code",
   "execution_count": 11,
   "metadata": {},
   "outputs": [
    {
     "data": {
      "text/plain": [
       "38524    0.0\n",
       "32457    0.0\n",
       "32458    0.0\n",
       "32459    0.0\n",
       "32460    0.0\n",
       "32461    0.0\n",
       "32462    0.0\n",
       "32463    0.0\n",
       "32464    0.0\n",
       "32456    0.0\n",
       "Name: Additional Energy Export, dtype: float64"
      ]
     },
     "execution_count": 11,
     "metadata": {},
     "output_type": "execute_result"
    }
   ],
   "source": [
    "solarsubset[\"Additional Energy Export\"].sort_values(ascending=True).head(10)"
   ]
  },
  {
   "cell_type": "code",
   "execution_count": 12,
   "metadata": {},
   "outputs": [
    {
     "data": {
      "text/plain": [
       "70172    3.910873e+07\n",
       "55483    3.382808e+07\n",
       "35037    2.548245e+07\n",
       "0        1.169483e+07\n",
       "43918    4.229391e+03\n",
       "12916    4.085751e+03\n",
       "52466    4.062569e+03\n",
       "49010    4.047510e+03\n",
       "10995    4.012038e+03\n",
       "9936     4.007349e+03\n",
       "Name: Additional Energy Export, dtype: float64"
      ]
     },
     "execution_count": 12,
     "metadata": {},
     "output_type": "execute_result"
    }
   ],
   "source": [
    "solarsubset[\"Additional Energy Export\"].sort_values(ascending=False).head(10)"
   ]
  },
  {
   "cell_type": "markdown",
   "metadata": {},
   "source": [
    "#### Values cannot be this high since the solar panel is rated much lower.\n",
    "\n",
    "#### If the panel had produced said values over the course of 15 minutes, it would have to be rated much higher:"
   ]
  },
  {
   "cell_type": "code",
   "execution_count": 13,
   "metadata": {},
   "outputs": [
    {
     "name": "stdout",
     "output_type": "stream",
     "text": [
      "Alleged rating: 156.43 MW\n"
     ]
    }
   ],
   "source": [
    "alleged_max_kWh = solarsubset[\"Additional Energy Export\"].max() /1000\n",
    "print(f\"Alleged rating: {alleged_max_kWh / (1/4) /1000:.2f} MW\")"
   ]
  },
  {
   "cell_type": "markdown",
   "metadata": {},
   "source": [
    "#### This would be more than 9x of what the [most powerful (commercially deployed) wind turbine](https://en.wikipedia.org/wiki/List_of_most_powerful_wind_turbines) currently produces."
   ]
  },
  {
   "cell_type": "code",
   "execution_count": 14,
   "metadata": {},
   "outputs": [
    {
     "data": {
      "text/plain": [
       "21.78"
      ]
     },
     "execution_count": 14,
     "metadata": {},
     "output_type": "execute_result"
    }
   ],
   "source": [
    "solarsubset[\"Leistung in kWp\"].max()"
   ]
  },
  {
   "cell_type": "code",
   "execution_count": 15,
   "metadata": {},
   "outputs": [
    {
     "data": {
      "text/plain": [
       "5445.0"
      ]
     },
     "execution_count": 15,
     "metadata": {},
     "output_type": "execute_result"
    }
   ],
   "source": [
    "theomax_15min_Wh = solarsubset[\"Leistung in kWp\"].max() * (1/4) * 1000\n",
    "theomax_15min_Wh"
   ]
  },
  {
   "cell_type": "markdown",
   "metadata": {},
   "source": [
    "We divide the max power by 4 to get the max power over 15 minutes, and then multiply by 1000 to get Wh."
   ]
  },
  {
   "cell_type": "code",
   "execution_count": 16,
   "metadata": {},
   "outputs": [
    {
     "data": {
      "application/vnd.microsoft.datawrangler.viewer.v0+json": {
       "columns": [
        {
         "name": "index",
         "rawType": "int64",
         "type": "integer"
        },
        {
         "name": "index",
         "rawType": "int64",
         "type": "integer"
        },
        {
         "name": "DateTime (Local Time)",
         "rawType": "object",
         "type": "unknown"
        },
        {
         "name": "smart-me ID",
         "rawType": "object",
         "type": "string"
        },
        {
         "name": "Name",
         "rawType": "object",
         "type": "string"
        },
        {
         "name": "Name des Smart-Me Zählers",
         "rawType": "object",
         "type": "string"
        },
        {
         "name": "Additional Energy Import",
         "rawType": "float64",
         "type": "float"
        },
        {
         "name": "Active Energy Import Total",
         "rawType": "float64",
         "type": "float"
        },
        {
         "name": "Additional Energy Export",
         "rawType": "float64",
         "type": "float"
        },
        {
         "name": "Active Energy Export Total",
         "rawType": "float64",
         "type": "float"
        },
        {
         "name": "Unit",
         "rawType": "object",
         "type": "string"
        },
        {
         "name": "Link",
         "rawType": "object",
         "type": "string"
        },
        {
         "name": "Modultyp",
         "rawType": "object",
         "type": "string"
        },
        {
         "name": "Leistung in kWp",
         "rawType": "float64",
         "type": "float"
        },
        {
         "name": "Anzahl Module",
         "rawType": "int64",
         "type": "integer"
        },
        {
         "name": "Leistung / Modul in Wp",
         "rawType": "object",
         "type": "string"
        },
        {
         "name": "Wechselrichterleistung in kVA",
         "rawType": "float64",
         "type": "float"
        },
        {
         "name": "Fläche in m2",
         "rawType": "int64",
         "type": "integer"
        },
        {
         "name": "Geo Shape",
         "rawType": "object",
         "type": "string"
        },
        {
         "name": "Geo Point",
         "rawType": "object",
         "type": "string"
        },
        {
         "name": "datetime",
         "rawType": "datetime64[ns]",
         "type": "datetime"
        }
       ],
       "conversionMethod": "pd.DataFrame",
       "ref": "b6d47527-a718-438b-86de-e12510d8603c",
       "rows": [
        [
         "0",
         "413388",
         "2023-01-01 00:00:00+01:00",
         "115a4cd6-c5b2-d6a6-14dc-b03078644337",
         "Werkhof St.Galler Stadtwerke",
         "PV Steinachstrasse 49",
         "11765.766",
         "11928.606",
         "11694830.764999997",
         "32352354.014",
         "Wh",
         "https://sgsw.solarlog-web.ch/40472.html",
         "Siemens SM110",
         "21.78",
         "198",
         "110",
         "20.0",
         "178",
         "{\"coordinates\": [[[9.384719638540817, 47.431098196048396], [9.384621386204948, 47.43103785310012], [9.384528919917814, 47.431107821841856], [9.384466998146957, 47.43115406269499], [9.384591259405257, 47.431230523815984], [9.384561848562853, 47.431253633559194], [9.38460625138905, 47.43127952042164], [9.384848042829232, 47.43142942928483], [9.384903815631956, 47.43138895864949], [9.38497233822352, 47.43133717104269], [9.38498570515493, 47.431327076157274], [9.384810107873102, 47.43121942561782], [9.384821037675152, 47.43121121636492], [9.384754946823067, 47.431170701200514], [9.38472505897527, 47.43115251795109], [9.384762105497568, 47.43112427380157], [9.384722012788112, 47.43109964964057], [9.384719638540817, 47.431098196048396]]], \"type\": \"Polygon\"}",
         "47.4312365481, 9.38471976238",
         "2023-01-01 00:00:00"
        ],
        [
         "35037",
         "872546",
         "2024-01-01 00:00:00+01:00",
         "115a4cd6-c5b2-d6a6-14dc-b03078644337",
         "Werkhof St.Galler Stadtwerke",
         "PV Steinachstrasse 49",
         "12076.213",
         "12252.067",
         "25482447.509",
         "50558706.238",
         "Wh",
         "https://sgsw.solarlog-web.ch/40472.html",
         "Siemens SM110",
         "21.78",
         "198",
         "110",
         "20.0",
         "178",
         "{\"coordinates\": [[[9.384719638540817, 47.431098196048396], [9.384621386204948, 47.43103785310012], [9.384528919917814, 47.431107821841856], [9.384466998146957, 47.43115406269499], [9.384591259405257, 47.431230523815984], [9.384561848562853, 47.431253633559194], [9.38460625138905, 47.43127952042164], [9.384848042829232, 47.43142942928483], [9.384903815631956, 47.43138895864949], [9.38497233822352, 47.43133717104269], [9.38498570515493, 47.431327076157274], [9.384810107873102, 47.43121942561782], [9.384821037675152, 47.43121121636492], [9.384754946823067, 47.431170701200514], [9.38472505897527, 47.43115251795109], [9.384762105497568, 47.43112427380157], [9.384722012788112, 47.43109964964057], [9.384719638540817, 47.431098196048396]]], \"type\": \"Polygon\"}",
         "47.4312365481, 9.38471976238",
         "2024-01-01 00:00:00"
        ],
        [
         "55483",
         "339444",
         "2024-08-01 00:00:00+02:00",
         "115a4cd6-c5b2-d6a6-14dc-b03078644337",
         "Werkhof St.Galler Stadtwerke",
         "PV Steinachstrasse 49",
         "12348.196",
         "12532.135",
         "33828076.799",
         "61401940.078",
         "Wh",
         "https://sgsw.solarlog-web.ch/40472.html",
         "Siemens SM110",
         "21.78",
         "198",
         "110",
         "20.0",
         "178",
         "{\"coordinates\": [[[9.384719638540817, 47.431098196048396], [9.384621386204948, 47.43103785310012], [9.384528919917814, 47.431107821841856], [9.384466998146957, 47.43115406269499], [9.384591259405257, 47.431230523815984], [9.384561848562853, 47.431253633559194], [9.38460625138905, 47.43127952042164], [9.384848042829232, 47.43142942928483], [9.384903815631956, 47.43138895864949], [9.38497233822352, 47.43133717104269], [9.38498570515493, 47.431327076157274], [9.384810107873102, 47.43121942561782], [9.384821037675152, 47.43121121636492], [9.384754946823067, 47.431170701200514], [9.38472505897527, 47.43115251795109], [9.384762105497568, 47.43112427380157], [9.384722012788112, 47.43109964964057], [9.384719638540817, 47.431098196048396]]], \"type\": \"Polygon\"}",
         "47.4312365481, 9.38471976238",
         "2024-08-01 00:00:00"
        ],
        [
         "70172",
         "796728",
         "2025-01-01 00:00:00+01:00",
         "115a4cd6-c5b2-d6a6-14dc-b03078644337",
         "Werkhof St.Galler Stadtwerke",
         "PV Steinachstrasse 49",
         "12474.352",
         "12662.326",
         "39108733.328",
         "67433400.993",
         "Wh",
         "https://sgsw.solarlog-web.ch/40472.html",
         "Siemens SM110",
         "21.78",
         "198",
         "110",
         "20.0",
         "178",
         "{\"coordinates\": [[[9.384719638540817, 47.431098196048396], [9.384621386204948, 47.43103785310012], [9.384528919917814, 47.431107821841856], [9.384466998146957, 47.43115406269499], [9.384591259405257, 47.431230523815984], [9.384561848562853, 47.431253633559194], [9.38460625138905, 47.43127952042164], [9.384848042829232, 47.43142942928483], [9.384903815631956, 47.43138895864949], [9.38497233822352, 47.43133717104269], [9.38498570515493, 47.431327076157274], [9.384810107873102, 47.43121942561782], [9.384821037675152, 47.43121121636492], [9.384754946823067, 47.431170701200514], [9.38472505897527, 47.43115251795109], [9.384762105497568, 47.43112427380157], [9.384722012788112, 47.43109964964057], [9.384719638540817, 47.431098196048396]]], \"type\": \"Polygon\"}",
         "47.4312365481, 9.38471976238",
         "2025-01-01 00:00:00"
        ]
       ],
       "shape": {
        "columns": 20,
        "rows": 4
       }
      },
      "text/html": [
       "<div>\n",
       "<style scoped>\n",
       "    .dataframe tbody tr th:only-of-type {\n",
       "        vertical-align: middle;\n",
       "    }\n",
       "\n",
       "    .dataframe tbody tr th {\n",
       "        vertical-align: top;\n",
       "    }\n",
       "\n",
       "    .dataframe thead th {\n",
       "        text-align: right;\n",
       "    }\n",
       "</style>\n",
       "<table border=\"1\" class=\"dataframe\">\n",
       "  <thead>\n",
       "    <tr style=\"text-align: right;\">\n",
       "      <th></th>\n",
       "      <th>index</th>\n",
       "      <th>DateTime (Local Time)</th>\n",
       "      <th>smart-me ID</th>\n",
       "      <th>Name</th>\n",
       "      <th>Name des Smart-Me Zählers</th>\n",
       "      <th>Additional Energy Import</th>\n",
       "      <th>Active Energy Import Total</th>\n",
       "      <th>Additional Energy Export</th>\n",
       "      <th>Active Energy Export Total</th>\n",
       "      <th>Unit</th>\n",
       "      <th>Link</th>\n",
       "      <th>Modultyp</th>\n",
       "      <th>Leistung in kWp</th>\n",
       "      <th>Anzahl Module</th>\n",
       "      <th>Leistung / Modul in Wp</th>\n",
       "      <th>Wechselrichterleistung in kVA</th>\n",
       "      <th>Fläche in m2</th>\n",
       "      <th>Geo Shape</th>\n",
       "      <th>Geo Point</th>\n",
       "      <th>datetime</th>\n",
       "    </tr>\n",
       "  </thead>\n",
       "  <tbody>\n",
       "    <tr>\n",
       "      <th>0</th>\n",
       "      <td>413388</td>\n",
       "      <td>2023-01-01 00:00:00+01:00</td>\n",
       "      <td>115a4cd6-c5b2-d6a6-14dc-b03078644337</td>\n",
       "      <td>Werkhof St.Galler Stadtwerke</td>\n",
       "      <td>PV Steinachstrasse 49</td>\n",
       "      <td>11765.766</td>\n",
       "      <td>11928.606</td>\n",
       "      <td>1.169483e+07</td>\n",
       "      <td>3.235235e+07</td>\n",
       "      <td>Wh</td>\n",
       "      <td>https://sgsw.solarlog-web.ch/40472.html</td>\n",
       "      <td>Siemens SM110</td>\n",
       "      <td>21.78</td>\n",
       "      <td>198</td>\n",
       "      <td>110</td>\n",
       "      <td>20.0</td>\n",
       "      <td>178</td>\n",
       "      <td>{\"coordinates\": [[[9.384719638540817, 47.43109...</td>\n",
       "      <td>47.4312365481, 9.38471976238</td>\n",
       "      <td>2023-01-01</td>\n",
       "    </tr>\n",
       "    <tr>\n",
       "      <th>35037</th>\n",
       "      <td>872546</td>\n",
       "      <td>2024-01-01 00:00:00+01:00</td>\n",
       "      <td>115a4cd6-c5b2-d6a6-14dc-b03078644337</td>\n",
       "      <td>Werkhof St.Galler Stadtwerke</td>\n",
       "      <td>PV Steinachstrasse 49</td>\n",
       "      <td>12076.213</td>\n",
       "      <td>12252.067</td>\n",
       "      <td>2.548245e+07</td>\n",
       "      <td>5.055871e+07</td>\n",
       "      <td>Wh</td>\n",
       "      <td>https://sgsw.solarlog-web.ch/40472.html</td>\n",
       "      <td>Siemens SM110</td>\n",
       "      <td>21.78</td>\n",
       "      <td>198</td>\n",
       "      <td>110</td>\n",
       "      <td>20.0</td>\n",
       "      <td>178</td>\n",
       "      <td>{\"coordinates\": [[[9.384719638540817, 47.43109...</td>\n",
       "      <td>47.4312365481, 9.38471976238</td>\n",
       "      <td>2024-01-01</td>\n",
       "    </tr>\n",
       "    <tr>\n",
       "      <th>55483</th>\n",
       "      <td>339444</td>\n",
       "      <td>2024-08-01 00:00:00+02:00</td>\n",
       "      <td>115a4cd6-c5b2-d6a6-14dc-b03078644337</td>\n",
       "      <td>Werkhof St.Galler Stadtwerke</td>\n",
       "      <td>PV Steinachstrasse 49</td>\n",
       "      <td>12348.196</td>\n",
       "      <td>12532.135</td>\n",
       "      <td>3.382808e+07</td>\n",
       "      <td>6.140194e+07</td>\n",
       "      <td>Wh</td>\n",
       "      <td>https://sgsw.solarlog-web.ch/40472.html</td>\n",
       "      <td>Siemens SM110</td>\n",
       "      <td>21.78</td>\n",
       "      <td>198</td>\n",
       "      <td>110</td>\n",
       "      <td>20.0</td>\n",
       "      <td>178</td>\n",
       "      <td>{\"coordinates\": [[[9.384719638540817, 47.43109...</td>\n",
       "      <td>47.4312365481, 9.38471976238</td>\n",
       "      <td>2024-08-01</td>\n",
       "    </tr>\n",
       "    <tr>\n",
       "      <th>70172</th>\n",
       "      <td>796728</td>\n",
       "      <td>2025-01-01 00:00:00+01:00</td>\n",
       "      <td>115a4cd6-c5b2-d6a6-14dc-b03078644337</td>\n",
       "      <td>Werkhof St.Galler Stadtwerke</td>\n",
       "      <td>PV Steinachstrasse 49</td>\n",
       "      <td>12474.352</td>\n",
       "      <td>12662.326</td>\n",
       "      <td>3.910873e+07</td>\n",
       "      <td>6.743340e+07</td>\n",
       "      <td>Wh</td>\n",
       "      <td>https://sgsw.solarlog-web.ch/40472.html</td>\n",
       "      <td>Siemens SM110</td>\n",
       "      <td>21.78</td>\n",
       "      <td>198</td>\n",
       "      <td>110</td>\n",
       "      <td>20.0</td>\n",
       "      <td>178</td>\n",
       "      <td>{\"coordinates\": [[[9.384719638540817, 47.43109...</td>\n",
       "      <td>47.4312365481, 9.38471976238</td>\n",
       "      <td>2025-01-01</td>\n",
       "    </tr>\n",
       "  </tbody>\n",
       "</table>\n",
       "</div>"
      ],
      "text/plain": [
       "        index      DateTime (Local Time)  \\\n",
       "0      413388  2023-01-01 00:00:00+01:00   \n",
       "35037  872546  2024-01-01 00:00:00+01:00   \n",
       "55483  339444  2024-08-01 00:00:00+02:00   \n",
       "70172  796728  2025-01-01 00:00:00+01:00   \n",
       "\n",
       "                                smart-me ID                          Name  \\\n",
       "0      115a4cd6-c5b2-d6a6-14dc-b03078644337  Werkhof St.Galler Stadtwerke   \n",
       "35037  115a4cd6-c5b2-d6a6-14dc-b03078644337  Werkhof St.Galler Stadtwerke   \n",
       "55483  115a4cd6-c5b2-d6a6-14dc-b03078644337  Werkhof St.Galler Stadtwerke   \n",
       "70172  115a4cd6-c5b2-d6a6-14dc-b03078644337  Werkhof St.Galler Stadtwerke   \n",
       "\n",
       "      Name des Smart-Me Zählers  Additional Energy Import  \\\n",
       "0         PV Steinachstrasse 49                 11765.766   \n",
       "35037     PV Steinachstrasse 49                 12076.213   \n",
       "55483     PV Steinachstrasse 49                 12348.196   \n",
       "70172     PV Steinachstrasse 49                 12474.352   \n",
       "\n",
       "       Active Energy Import Total  Additional Energy Export  \\\n",
       "0                       11928.606              1.169483e+07   \n",
       "35037                   12252.067              2.548245e+07   \n",
       "55483                   12532.135              3.382808e+07   \n",
       "70172                   12662.326              3.910873e+07   \n",
       "\n",
       "       Active Energy Export Total Unit  \\\n",
       "0                    3.235235e+07   Wh   \n",
       "35037                5.055871e+07   Wh   \n",
       "55483                6.140194e+07   Wh   \n",
       "70172                6.743340e+07   Wh   \n",
       "\n",
       "                                          Link       Modultyp  \\\n",
       "0      https://sgsw.solarlog-web.ch/40472.html  Siemens SM110   \n",
       "35037  https://sgsw.solarlog-web.ch/40472.html  Siemens SM110   \n",
       "55483  https://sgsw.solarlog-web.ch/40472.html  Siemens SM110   \n",
       "70172  https://sgsw.solarlog-web.ch/40472.html  Siemens SM110   \n",
       "\n",
       "       Leistung in kWp  Anzahl Module Leistung / Modul in Wp  \\\n",
       "0                21.78            198                    110   \n",
       "35037            21.78            198                    110   \n",
       "55483            21.78            198                    110   \n",
       "70172            21.78            198                    110   \n",
       "\n",
       "       Wechselrichterleistung in kVA  Fläche in m2  \\\n",
       "0                               20.0           178   \n",
       "35037                           20.0           178   \n",
       "55483                           20.0           178   \n",
       "70172                           20.0           178   \n",
       "\n",
       "                                               Geo Shape  \\\n",
       "0      {\"coordinates\": [[[9.384719638540817, 47.43109...   \n",
       "35037  {\"coordinates\": [[[9.384719638540817, 47.43109...   \n",
       "55483  {\"coordinates\": [[[9.384719638540817, 47.43109...   \n",
       "70172  {\"coordinates\": [[[9.384719638540817, 47.43109...   \n",
       "\n",
       "                          Geo Point   datetime  \n",
       "0      47.4312365481, 9.38471976238 2023-01-01  \n",
       "35037  47.4312365481, 9.38471976238 2024-01-01  \n",
       "55483  47.4312365481, 9.38471976238 2024-08-01  \n",
       "70172  47.4312365481, 9.38471976238 2025-01-01  "
      ]
     },
     "execution_count": 16,
     "metadata": {},
     "output_type": "execute_result"
    }
   ],
   "source": [
    "solarsubset[solarsubset[\"Additional Energy Export\"] > theomax_15min_Wh]"
   ]
  },
  {
   "cell_type": "code",
   "execution_count": 17,
   "metadata": {},
   "outputs": [
    {
     "data": {
      "text/plain": [
       "4"
      ]
     },
     "execution_count": 17,
     "metadata": {},
     "output_type": "execute_result"
    }
   ],
   "source": [
    "len(solarsubset[solarsubset[\"Additional Energy Export\"] > theomax_15min_Wh])\n",
    "# 4 wrong entries"
   ]
  },
  {
   "cell_type": "code",
   "execution_count": 18,
   "metadata": {},
   "outputs": [],
   "source": [
    "# filter out data above theoretical maximum\n",
    "solarsubset = solarsubset[solarsubset[\"Additional Energy Export\"] <= theomax_15min_Wh]"
   ]
  },
  {
   "cell_type": "markdown",
   "metadata": {},
   "source": [
    "# Production at Sunrise and Sunset"
   ]
  },
  {
   "cell_type": "markdown",
   "metadata": {},
   "source": [
    "- Dawn = Morgengrauen\n",
    "- Sunrise = Sonnenaufgang\n",
    "- Sunset = Sonnenuntergang\n",
    "- Dusk = Abenddämmerung"
   ]
  },
  {
   "cell_type": "code",
   "execution_count": 19,
   "metadata": {},
   "outputs": [
    {
     "data": {
      "application/vnd.microsoft.datawrangler.viewer.v0+json": {
       "columns": [
        {
         "name": "index",
         "rawType": "int64",
         "type": "integer"
        },
        {
         "name": "index",
         "rawType": "int64",
         "type": "integer"
        },
        {
         "name": "DateTime (Local Time)",
         "rawType": "object",
         "type": "unknown"
        },
        {
         "name": "smart-me ID",
         "rawType": "object",
         "type": "string"
        },
        {
         "name": "Name",
         "rawType": "object",
         "type": "string"
        },
        {
         "name": "Name des Smart-Me Zählers",
         "rawType": "object",
         "type": "string"
        },
        {
         "name": "Additional Energy Import",
         "rawType": "float64",
         "type": "float"
        },
        {
         "name": "Active Energy Import Total",
         "rawType": "float64",
         "type": "float"
        },
        {
         "name": "Additional Energy Export",
         "rawType": "float64",
         "type": "float"
        },
        {
         "name": "Active Energy Export Total",
         "rawType": "float64",
         "type": "float"
        },
        {
         "name": "Unit",
         "rawType": "object",
         "type": "string"
        },
        {
         "name": "Link",
         "rawType": "object",
         "type": "string"
        },
        {
         "name": "Modultyp",
         "rawType": "object",
         "type": "string"
        },
        {
         "name": "Leistung in kWp",
         "rawType": "float64",
         "type": "float"
        },
        {
         "name": "Anzahl Module",
         "rawType": "int64",
         "type": "integer"
        },
        {
         "name": "Leistung / Modul in Wp",
         "rawType": "object",
         "type": "string"
        },
        {
         "name": "Wechselrichterleistung in kVA",
         "rawType": "float64",
         "type": "float"
        },
        {
         "name": "Fläche in m2",
         "rawType": "int64",
         "type": "integer"
        },
        {
         "name": "Geo Shape",
         "rawType": "object",
         "type": "string"
        },
        {
         "name": "Geo Point",
         "rawType": "object",
         "type": "string"
        },
        {
         "name": "datetime",
         "rawType": "datetime64[ns]",
         "type": "datetime"
        },
        {
         "name": "dawn",
         "rawType": "datetime64[ns, Europe/Zurich]",
         "type": "unknown"
        },
        {
         "name": "sunrise",
         "rawType": "datetime64[ns, Europe/Zurich]",
         "type": "unknown"
        },
        {
         "name": "sunset",
         "rawType": "datetime64[ns, Europe/Zurich]",
         "type": "unknown"
        },
        {
         "name": "dusk",
         "rawType": "datetime64[ns, Europe/Zurich]",
         "type": "unknown"
        }
       ],
       "conversionMethod": "pd.DataFrame",
       "ref": "6f025055-2358-4565-a952-54465c47f3f2",
       "rows": [
        [
         "1",
         "413393",
         "2023-01-01 00:15:00+01:00",
         "115a4cd6-c5b2-d6a6-14dc-b03078644337",
         "Werkhof St.Galler Stadtwerke",
         "PV Steinachstrasse 49",
         "0.0",
         "11928.606",
         "0.0",
         "32352354.014",
         "Wh",
         "https://sgsw.solarlog-web.ch/40472.html",
         "Siemens SM110",
         "21.78",
         "198",
         "110",
         "20.0",
         "178",
         "{\"coordinates\": [[[9.384719638540817, 47.431098196048396], [9.384621386204948, 47.43103785310012], [9.384528919917814, 47.431107821841856], [9.384466998146957, 47.43115406269499], [9.384591259405257, 47.431230523815984], [9.384561848562853, 47.431253633559194], [9.38460625138905, 47.43127952042164], [9.384848042829232, 47.43142942928483], [9.384903815631956, 47.43138895864949], [9.38497233822352, 47.43133717104269], [9.38498570515493, 47.431327076157274], [9.384810107873102, 47.43121942561782], [9.384821037675152, 47.43121121636492], [9.384754946823067, 47.431170701200514], [9.38472505897527, 47.43115251795109], [9.384762105497568, 47.43112427380157], [9.384722012788112, 47.43109964964057], [9.384719638540817, 47.431098196048396]]], \"type\": \"Polygon\"}",
         "47.4312365481, 9.38471976238",
         "2023-01-01 00:15:00",
         "2023-01-01 07:33:59.145297+01:00",
         "2023-01-01 08:10:19.323545+01:00",
         "2023-01-01 16:41:41.996604+01:00",
         "2023-01-01 17:18:02.373245+01:00"
        ],
        [
         "2",
         "15591",
         "2023-01-01 00:30:00+01:00",
         "115a4cd6-c5b2-d6a6-14dc-b03078644337",
         "Werkhof St.Galler Stadtwerke",
         "PV Steinachstrasse 49",
         "0.0",
         "11928.606",
         "0.0",
         "32352354.014",
         "Wh",
         "https://sgsw.solarlog-web.ch/40472.html",
         "Siemens SM110",
         "21.78",
         "198",
         "110",
         "20.0",
         "178",
         "{\"coordinates\": [[[9.384719638540817, 47.431098196048396], [9.384621386204948, 47.43103785310012], [9.384528919917814, 47.431107821841856], [9.384466998146957, 47.43115406269499], [9.384591259405257, 47.431230523815984], [9.384561848562853, 47.431253633559194], [9.38460625138905, 47.43127952042164], [9.384848042829232, 47.43142942928483], [9.384903815631956, 47.43138895864949], [9.38497233822352, 47.43133717104269], [9.38498570515493, 47.431327076157274], [9.384810107873102, 47.43121942561782], [9.384821037675152, 47.43121121636492], [9.384754946823067, 47.431170701200514], [9.38472505897527, 47.43115251795109], [9.384762105497568, 47.43112427380157], [9.384722012788112, 47.43109964964057], [9.384719638540817, 47.431098196048396]]], \"type\": \"Polygon\"}",
         "47.4312365481, 9.38471976238",
         "2023-01-01 00:30:00",
         "2023-01-01 07:33:59.145297+01:00",
         "2023-01-01 08:10:19.323545+01:00",
         "2023-01-01 16:41:41.996604+01:00",
         "2023-01-01 17:18:02.373245+01:00"
        ],
        [
         "3",
         "173585",
         "2023-01-01 00:45:00+01:00",
         "115a4cd6-c5b2-d6a6-14dc-b03078644337",
         "Werkhof St.Galler Stadtwerke",
         "PV Steinachstrasse 49",
         "0.0",
         "11928.606",
         "0.0",
         "32352354.014",
         "Wh",
         "https://sgsw.solarlog-web.ch/40472.html",
         "Siemens SM110",
         "21.78",
         "198",
         "110",
         "20.0",
         "178",
         "{\"coordinates\": [[[9.384719638540817, 47.431098196048396], [9.384621386204948, 47.43103785310012], [9.384528919917814, 47.431107821841856], [9.384466998146957, 47.43115406269499], [9.384591259405257, 47.431230523815984], [9.384561848562853, 47.431253633559194], [9.38460625138905, 47.43127952042164], [9.384848042829232, 47.43142942928483], [9.384903815631956, 47.43138895864949], [9.38497233822352, 47.43133717104269], [9.38498570515493, 47.431327076157274], [9.384810107873102, 47.43121942561782], [9.384821037675152, 47.43121121636492], [9.384754946823067, 47.431170701200514], [9.38472505897527, 47.43115251795109], [9.384762105497568, 47.43112427380157], [9.384722012788112, 47.43109964964057], [9.384719638540817, 47.431098196048396]]], \"type\": \"Polygon\"}",
         "47.4312365481, 9.38471976238",
         "2023-01-01 00:45:00",
         "2023-01-01 07:33:59.145297+01:00",
         "2023-01-01 08:10:19.323545+01:00",
         "2023-01-01 16:41:41.996604+01:00",
         "2023-01-01 17:18:02.373245+01:00"
        ]
       ],
       "shape": {
        "columns": 24,
        "rows": 3
       }
      },
      "text/html": [
       "<div>\n",
       "<style scoped>\n",
       "    .dataframe tbody tr th:only-of-type {\n",
       "        vertical-align: middle;\n",
       "    }\n",
       "\n",
       "    .dataframe tbody tr th {\n",
       "        vertical-align: top;\n",
       "    }\n",
       "\n",
       "    .dataframe thead th {\n",
       "        text-align: right;\n",
       "    }\n",
       "</style>\n",
       "<table border=\"1\" class=\"dataframe\">\n",
       "  <thead>\n",
       "    <tr style=\"text-align: right;\">\n",
       "      <th></th>\n",
       "      <th>index</th>\n",
       "      <th>DateTime (Local Time)</th>\n",
       "      <th>smart-me ID</th>\n",
       "      <th>Name</th>\n",
       "      <th>Name des Smart-Me Zählers</th>\n",
       "      <th>Additional Energy Import</th>\n",
       "      <th>Active Energy Import Total</th>\n",
       "      <th>Additional Energy Export</th>\n",
       "      <th>Active Energy Export Total</th>\n",
       "      <th>Unit</th>\n",
       "      <th>...</th>\n",
       "      <th>Leistung / Modul in Wp</th>\n",
       "      <th>Wechselrichterleistung in kVA</th>\n",
       "      <th>Fläche in m2</th>\n",
       "      <th>Geo Shape</th>\n",
       "      <th>Geo Point</th>\n",
       "      <th>datetime</th>\n",
       "      <th>dawn</th>\n",
       "      <th>sunrise</th>\n",
       "      <th>sunset</th>\n",
       "      <th>dusk</th>\n",
       "    </tr>\n",
       "  </thead>\n",
       "  <tbody>\n",
       "    <tr>\n",
       "      <th>1</th>\n",
       "      <td>413393</td>\n",
       "      <td>2023-01-01 00:15:00+01:00</td>\n",
       "      <td>115a4cd6-c5b2-d6a6-14dc-b03078644337</td>\n",
       "      <td>Werkhof St.Galler Stadtwerke</td>\n",
       "      <td>PV Steinachstrasse 49</td>\n",
       "      <td>0.0</td>\n",
       "      <td>11928.606</td>\n",
       "      <td>0.0</td>\n",
       "      <td>3.235235e+07</td>\n",
       "      <td>Wh</td>\n",
       "      <td>...</td>\n",
       "      <td>110</td>\n",
       "      <td>20.0</td>\n",
       "      <td>178</td>\n",
       "      <td>{\"coordinates\": [[[9.384719638540817, 47.43109...</td>\n",
       "      <td>47.4312365481, 9.38471976238</td>\n",
       "      <td>2023-01-01 00:15:00</td>\n",
       "      <td>2023-01-01 07:33:59.145297+01:00</td>\n",
       "      <td>2023-01-01 08:10:19.323545+01:00</td>\n",
       "      <td>2023-01-01 16:41:41.996604+01:00</td>\n",
       "      <td>2023-01-01 17:18:02.373245+01:00</td>\n",
       "    </tr>\n",
       "    <tr>\n",
       "      <th>2</th>\n",
       "      <td>15591</td>\n",
       "      <td>2023-01-01 00:30:00+01:00</td>\n",
       "      <td>115a4cd6-c5b2-d6a6-14dc-b03078644337</td>\n",
       "      <td>Werkhof St.Galler Stadtwerke</td>\n",
       "      <td>PV Steinachstrasse 49</td>\n",
       "      <td>0.0</td>\n",
       "      <td>11928.606</td>\n",
       "      <td>0.0</td>\n",
       "      <td>3.235235e+07</td>\n",
       "      <td>Wh</td>\n",
       "      <td>...</td>\n",
       "      <td>110</td>\n",
       "      <td>20.0</td>\n",
       "      <td>178</td>\n",
       "      <td>{\"coordinates\": [[[9.384719638540817, 47.43109...</td>\n",
       "      <td>47.4312365481, 9.38471976238</td>\n",
       "      <td>2023-01-01 00:30:00</td>\n",
       "      <td>2023-01-01 07:33:59.145297+01:00</td>\n",
       "      <td>2023-01-01 08:10:19.323545+01:00</td>\n",
       "      <td>2023-01-01 16:41:41.996604+01:00</td>\n",
       "      <td>2023-01-01 17:18:02.373245+01:00</td>\n",
       "    </tr>\n",
       "    <tr>\n",
       "      <th>3</th>\n",
       "      <td>173585</td>\n",
       "      <td>2023-01-01 00:45:00+01:00</td>\n",
       "      <td>115a4cd6-c5b2-d6a6-14dc-b03078644337</td>\n",
       "      <td>Werkhof St.Galler Stadtwerke</td>\n",
       "      <td>PV Steinachstrasse 49</td>\n",
       "      <td>0.0</td>\n",
       "      <td>11928.606</td>\n",
       "      <td>0.0</td>\n",
       "      <td>3.235235e+07</td>\n",
       "      <td>Wh</td>\n",
       "      <td>...</td>\n",
       "      <td>110</td>\n",
       "      <td>20.0</td>\n",
       "      <td>178</td>\n",
       "      <td>{\"coordinates\": [[[9.384719638540817, 47.43109...</td>\n",
       "      <td>47.4312365481, 9.38471976238</td>\n",
       "      <td>2023-01-01 00:45:00</td>\n",
       "      <td>2023-01-01 07:33:59.145297+01:00</td>\n",
       "      <td>2023-01-01 08:10:19.323545+01:00</td>\n",
       "      <td>2023-01-01 16:41:41.996604+01:00</td>\n",
       "      <td>2023-01-01 17:18:02.373245+01:00</td>\n",
       "    </tr>\n",
       "  </tbody>\n",
       "</table>\n",
       "<p>3 rows × 24 columns</p>\n",
       "</div>"
      ],
      "text/plain": [
       "    index      DateTime (Local Time)                           smart-me ID  \\\n",
       "1  413393  2023-01-01 00:15:00+01:00  115a4cd6-c5b2-d6a6-14dc-b03078644337   \n",
       "2   15591  2023-01-01 00:30:00+01:00  115a4cd6-c5b2-d6a6-14dc-b03078644337   \n",
       "3  173585  2023-01-01 00:45:00+01:00  115a4cd6-c5b2-d6a6-14dc-b03078644337   \n",
       "\n",
       "                           Name Name des Smart-Me Zählers  \\\n",
       "1  Werkhof St.Galler Stadtwerke     PV Steinachstrasse 49   \n",
       "2  Werkhof St.Galler Stadtwerke     PV Steinachstrasse 49   \n",
       "3  Werkhof St.Galler Stadtwerke     PV Steinachstrasse 49   \n",
       "\n",
       "   Additional Energy Import  Active Energy Import Total  \\\n",
       "1                       0.0                   11928.606   \n",
       "2                       0.0                   11928.606   \n",
       "3                       0.0                   11928.606   \n",
       "\n",
       "   Additional Energy Export  Active Energy Export Total Unit  ...  \\\n",
       "1                       0.0                3.235235e+07   Wh  ...   \n",
       "2                       0.0                3.235235e+07   Wh  ...   \n",
       "3                       0.0                3.235235e+07   Wh  ...   \n",
       "\n",
       "  Leistung / Modul in Wp Wechselrichterleistung in kVA  Fläche in m2  \\\n",
       "1                    110                          20.0           178   \n",
       "2                    110                          20.0           178   \n",
       "3                    110                          20.0           178   \n",
       "\n",
       "                                           Geo Shape  \\\n",
       "1  {\"coordinates\": [[[9.384719638540817, 47.43109...   \n",
       "2  {\"coordinates\": [[[9.384719638540817, 47.43109...   \n",
       "3  {\"coordinates\": [[[9.384719638540817, 47.43109...   \n",
       "\n",
       "                      Geo Point            datetime  \\\n",
       "1  47.4312365481, 9.38471976238 2023-01-01 00:15:00   \n",
       "2  47.4312365481, 9.38471976238 2023-01-01 00:30:00   \n",
       "3  47.4312365481, 9.38471976238 2023-01-01 00:45:00   \n",
       "\n",
       "                              dawn                          sunrise  \\\n",
       "1 2023-01-01 07:33:59.145297+01:00 2023-01-01 08:10:19.323545+01:00   \n",
       "2 2023-01-01 07:33:59.145297+01:00 2023-01-01 08:10:19.323545+01:00   \n",
       "3 2023-01-01 07:33:59.145297+01:00 2023-01-01 08:10:19.323545+01:00   \n",
       "\n",
       "                            sunset                             dusk  \n",
       "1 2023-01-01 16:41:41.996604+01:00 2023-01-01 17:18:02.373245+01:00  \n",
       "2 2023-01-01 16:41:41.996604+01:00 2023-01-01 17:18:02.373245+01:00  \n",
       "3 2023-01-01 16:41:41.996604+01:00 2023-01-01 17:18:02.373245+01:00  \n",
       "\n",
       "[3 rows x 24 columns]"
      ]
     },
     "execution_count": 19,
     "metadata": {},
     "output_type": "execute_result"
    }
   ],
   "source": [
    "custom_lambda = lambda date: sun(stgallen_city.observer, date, tzinfo=stgallen_city.timezone)\n",
    "\n",
    "for i in [\"dawn\", \"sunrise\", \"sunset\", \"dusk\"]:\n",
    "    solarsubset[i] = solarsubset[\"datetime\"].apply(lambda x: custom_lambda(x)[i])\n",
    "    solarsubset[i] = pd.to_datetime(solarsubset[i])  # Ensure datetime64[ns]\n",
    "solarsubset.head(3)"
   ]
  },
  {
   "cell_type": "code",
   "execution_count": 20,
   "metadata": {},
   "outputs": [
    {
     "data": {
      "image/png": "[encoded data removed]",
      "text/plain": [
       "<Figure size 800x300 with 1 Axes>"
      ]
     },
     "metadata": {},
     "output_type": "display_data"
    }
   ],
   "source": [
    "fig, ax = plt.subplots(figsize=(8, 3))\n",
    "\n",
    "for col in [\"dawn\", \"sunrise\", \"sunset\", \"dusk\"]:\n",
    "    times_in_seconds = (\n",
    "        solarsubset[col].dt.hour * 3600 +\n",
    "        solarsubset[col].dt.minute * 60 +\n",
    "        solarsubset[col].dt.second\n",
    "    )\n",
    "    ax.plot(solarsubset[\"datetime\"], times_in_seconds, label=col)\n",
    "\n",
    "# Set y-axis ticks to hourly steps (every 3600 seconds)\n",
    "ax.yaxis.set_major_locator(ticker.MultipleLocator(7200))\n",
    "\n",
    "# Format y-axis ticks as HH:MM:SS\n",
    "ax.yaxis.set_major_formatter(ticker.FuncFormatter(lambda x, _: time.strftime('%H:%M:%S', time.gmtime(x))))\n",
    "\n",
    "ax.set_title(\"Sunrise and Sunset Times\")\n",
    "ax.set_ylabel(\"Time of Day\")\n",
    "ax.legend()\n",
    "plt.show()\n",
    "\n"
   ]
  },
  {
   "cell_type": "code",
   "execution_count": 21,
   "metadata": {},
   "outputs": [
    {
     "data": {
      "application/vnd.microsoft.datawrangler.viewer.v0+json": {
       "columns": [
        {
         "name": "index",
         "rawType": "int64",
         "type": "integer"
        },
        {
         "name": "index",
         "rawType": "int64",
         "type": "integer"
        },
        {
         "name": "DateTime (Local Time)",
         "rawType": "object",
         "type": "string"
        },
        {
         "name": "smart-me ID",
         "rawType": "object",
         "type": "string"
        },
        {
         "name": "Name",
         "rawType": "object",
         "type": "string"
        },
        {
         "name": "Name des Smart-Me Zählers",
         "rawType": "object",
         "type": "string"
        },
        {
         "name": "Additional Energy Import",
         "rawType": "float64",
         "type": "float"
        },
        {
         "name": "Active Energy Import Total",
         "rawType": "float64",
         "type": "float"
        },
        {
         "name": "Additional Energy Export",
         "rawType": "float64",
         "type": "float"
        },
        {
         "name": "Active Energy Export Total",
         "rawType": "float64",
         "type": "float"
        },
        {
         "name": "Unit",
         "rawType": "object",
         "type": "string"
        },
        {
         "name": "Link",
         "rawType": "object",
         "type": "string"
        },
        {
         "name": "Modultyp",
         "rawType": "object",
         "type": "string"
        },
        {
         "name": "Leistung in kWp",
         "rawType": "float64",
         "type": "float"
        },
        {
         "name": "Anzahl Module",
         "rawType": "int64",
         "type": "integer"
        },
        {
         "name": "Leistung / Modul in Wp",
         "rawType": "object",
         "type": "string"
        },
        {
         "name": "Wechselrichterleistung in kVA",
         "rawType": "float64",
         "type": "float"
        },
        {
         "name": "Fläche in m2",
         "rawType": "int64",
         "type": "integer"
        },
        {
         "name": "Geo Shape",
         "rawType": "object",
         "type": "string"
        },
        {
         "name": "Geo Point",
         "rawType": "object",
         "type": "string"
        },
        {
         "name": "datetime",
         "rawType": "datetime64[ns]",
         "type": "datetime"
        },
        {
         "name": "dawn",
         "rawType": "datetime64[ns, Europe/Zurich]",
         "type": "unknown"
        },
        {
         "name": "sunrise",
         "rawType": "datetime64[ns, Europe/Zurich]",
         "type": "unknown"
        },
        {
         "name": "sunset",
         "rawType": "datetime64[ns, Europe/Zurich]",
         "type": "unknown"
        },
        {
         "name": "dusk",
         "rawType": "datetime64[ns, Europe/Zurich]",
         "type": "unknown"
        }
       ],
       "conversionMethod": "pd.DataFrame",
       "ref": "3338b3dc-43d3-40c5-92ad-e469fbfed83a",
       "rows": [],
       "shape": {
        "columns": 24,
        "rows": 0
       }
      },
      "text/html": [
       "<div>\n",
       "<style scoped>\n",
       "    .dataframe tbody tr th:only-of-type {\n",
       "        vertical-align: middle;\n",
       "    }\n",
       "\n",
       "    .dataframe tbody tr th {\n",
       "        vertical-align: top;\n",
       "    }\n",
       "\n",
       "    .dataframe thead th {\n",
       "        text-align: right;\n",
       "    }\n",
       "</style>\n",
       "<table border=\"1\" class=\"dataframe\">\n",
       "  <thead>\n",
       "    <tr style=\"text-align: right;\">\n",
       "      <th></th>\n",
       "      <th>index</th>\n",
       "      <th>DateTime (Local Time)</th>\n",
       "      <th>smart-me ID</th>\n",
       "      <th>Name</th>\n",
       "      <th>Name des Smart-Me Zählers</th>\n",
       "      <th>Additional Energy Import</th>\n",
       "      <th>Active Energy Import Total</th>\n",
       "      <th>Additional Energy Export</th>\n",
       "      <th>Active Energy Export Total</th>\n",
       "      <th>Unit</th>\n",
       "      <th>...</th>\n",
       "      <th>Leistung / Modul in Wp</th>\n",
       "      <th>Wechselrichterleistung in kVA</th>\n",
       "      <th>Fläche in m2</th>\n",
       "      <th>Geo Shape</th>\n",
       "      <th>Geo Point</th>\n",
       "      <th>datetime</th>\n",
       "      <th>dawn</th>\n",
       "      <th>sunrise</th>\n",
       "      <th>sunset</th>\n",
       "      <th>dusk</th>\n",
       "    </tr>\n",
       "  </thead>\n",
       "  <tbody>\n",
       "  </tbody>\n",
       "</table>\n",
       "<p>0 rows × 24 columns</p>\n",
       "</div>"
      ],
      "text/plain": [
       "Empty DataFrame\n",
       "Columns: [index, DateTime (Local Time), smart-me ID, Name, Name des Smart-Me Zählers, Additional Energy Import, Active Energy Import Total, Additional Energy Export, Active Energy Export Total, Unit, Link, Modultyp, Leistung in kWp, Anzahl Module, Leistung / Modul in Wp, Wechselrichterleistung in kVA, Fläche in m2, Geo Shape, Geo Point, datetime, dawn, sunrise, sunset, dusk]\n",
       "Index: []\n",
       "\n",
       "[0 rows x 24 columns]"
      ]
     },
     "execution_count": 21,
     "metadata": {},
     "output_type": "execute_result"
    }
   ],
   "source": [
    "solarsubset[(solarsubset[\"Additional Energy Export\"] > 0) &                 # If Solar Panel is producing energy\n",
    "            (solarsubset[\"DateTime (Local Time)\"] <= solarsubset[\"dawn\"])]  # and earlier than dawn\n",
    "# should return empty DataFrame as solar panels should not produce energy at night"
   ]
  },
  {
   "cell_type": "code",
   "execution_count": 22,
   "metadata": {},
   "outputs": [
    {
     "data": {
      "application/vnd.microsoft.datawrangler.viewer.v0+json": {
       "columns": [
        {
         "name": "index",
         "rawType": "int64",
         "type": "integer"
        },
        {
         "name": "index",
         "rawType": "int64",
         "type": "integer"
        },
        {
         "name": "DateTime (Local Time)",
         "rawType": "object",
         "type": "string"
        },
        {
         "name": "smart-me ID",
         "rawType": "object",
         "type": "string"
        },
        {
         "name": "Name",
         "rawType": "object",
         "type": "string"
        },
        {
         "name": "Name des Smart-Me Zählers",
         "rawType": "object",
         "type": "string"
        },
        {
         "name": "Additional Energy Import",
         "rawType": "float64",
         "type": "float"
        },
        {
         "name": "Active Energy Import Total",
         "rawType": "float64",
         "type": "float"
        },
        {
         "name": "Additional Energy Export",
         "rawType": "float64",
         "type": "float"
        },
        {
         "name": "Active Energy Export Total",
         "rawType": "float64",
         "type": "float"
        },
        {
         "name": "Unit",
         "rawType": "object",
         "type": "string"
        },
        {
         "name": "Link",
         "rawType": "object",
         "type": "string"
        },
        {
         "name": "Modultyp",
         "rawType": "object",
         "type": "string"
        },
        {
         "name": "Leistung in kWp",
         "rawType": "float64",
         "type": "float"
        },
        {
         "name": "Anzahl Module",
         "rawType": "int64",
         "type": "integer"
        },
        {
         "name": "Leistung / Modul in Wp",
         "rawType": "object",
         "type": "string"
        },
        {
         "name": "Wechselrichterleistung in kVA",
         "rawType": "float64",
         "type": "float"
        },
        {
         "name": "Fläche in m2",
         "rawType": "int64",
         "type": "integer"
        },
        {
         "name": "Geo Shape",
         "rawType": "object",
         "type": "string"
        },
        {
         "name": "Geo Point",
         "rawType": "object",
         "type": "string"
        },
        {
         "name": "datetime",
         "rawType": "datetime64[ns]",
         "type": "datetime"
        },
        {
         "name": "dawn",
         "rawType": "datetime64[ns, Europe/Zurich]",
         "type": "unknown"
        },
        {
         "name": "sunrise",
         "rawType": "datetime64[ns, Europe/Zurich]",
         "type": "unknown"
        },
        {
         "name": "sunset",
         "rawType": "datetime64[ns, Europe/Zurich]",
         "type": "unknown"
        },
        {
         "name": "dusk",
         "rawType": "datetime64[ns, Europe/Zurich]",
         "type": "unknown"
        }
       ],
       "conversionMethod": "pd.DataFrame",
       "ref": "360226ef-612b-45e7-b246-63df20e0e442",
       "rows": [],
       "shape": {
        "columns": 24,
        "rows": 0
       }
      },
      "text/html": [
       "<div>\n",
       "<style scoped>\n",
       "    .dataframe tbody tr th:only-of-type {\n",
       "        vertical-align: middle;\n",
       "    }\n",
       "\n",
       "    .dataframe tbody tr th {\n",
       "        vertical-align: top;\n",
       "    }\n",
       "\n",
       "    .dataframe thead th {\n",
       "        text-align: right;\n",
       "    }\n",
       "</style>\n",
       "<table border=\"1\" class=\"dataframe\">\n",
       "  <thead>\n",
       "    <tr style=\"text-align: right;\">\n",
       "      <th></th>\n",
       "      <th>index</th>\n",
       "      <th>DateTime (Local Time)</th>\n",
       "      <th>smart-me ID</th>\n",
       "      <th>Name</th>\n",
       "      <th>Name des Smart-Me Zählers</th>\n",
       "      <th>Additional Energy Import</th>\n",
       "      <th>Active Energy Import Total</th>\n",
       "      <th>Additional Energy Export</th>\n",
       "      <th>Active Energy Export Total</th>\n",
       "      <th>Unit</th>\n",
       "      <th>...</th>\n",
       "      <th>Leistung / Modul in Wp</th>\n",
       "      <th>Wechselrichterleistung in kVA</th>\n",
       "      <th>Fläche in m2</th>\n",
       "      <th>Geo Shape</th>\n",
       "      <th>Geo Point</th>\n",
       "      <th>datetime</th>\n",
       "      <th>dawn</th>\n",
       "      <th>sunrise</th>\n",
       "      <th>sunset</th>\n",
       "      <th>dusk</th>\n",
       "    </tr>\n",
       "  </thead>\n",
       "  <tbody>\n",
       "  </tbody>\n",
       "</table>\n",
       "<p>0 rows × 24 columns</p>\n",
       "</div>"
      ],
      "text/plain": [
       "Empty DataFrame\n",
       "Columns: [index, DateTime (Local Time), smart-me ID, Name, Name des Smart-Me Zählers, Additional Energy Import, Active Energy Import Total, Additional Energy Export, Active Energy Export Total, Unit, Link, Modultyp, Leistung in kWp, Anzahl Module, Leistung / Modul in Wp, Wechselrichterleistung in kVA, Fläche in m2, Geo Shape, Geo Point, datetime, dawn, sunrise, sunset, dusk]\n",
       "Index: []\n",
       "\n",
       "[0 rows x 24 columns]"
      ]
     },
     "execution_count": 22,
     "metadata": {},
     "output_type": "execute_result"
    }
   ],
   "source": [
    "solarsubset[(solarsubset[\"Additional Energy Export\"] > 0) &                 # If Solar Panel is producing energy\n",
    "            (solarsubset[\"DateTime (Local Time)\"] >= solarsubset[\"dusk\"])]  # and it is later than dusk\n",
    "# should return empty DataFrame as solar panels should not produce energy at night"
   ]
  }
 ],
 "metadata": {
  "kernelspec": {
   "display_name": "mthesis_env",
   "language": "python",
   "name": "python3"
  },
  "language_info": {
   "codemirror_mode": {
    "name": "ipython",
    "version": 3
   },
   "file_extension": ".py",
   "mimetype": "text/x-python",
   "name": "python",
   "nbconvert_exporter": "python",
   "pygments_lexer": "ipython3",
   "version": "3.12.3"
  }
 },
 "nbformat": 4,
 "nbformat_minor": 2
}
